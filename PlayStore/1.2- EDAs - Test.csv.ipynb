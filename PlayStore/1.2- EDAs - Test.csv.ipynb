{
 "cells": [
  {
   "cell_type": "markdown",
   "metadata": {},
   "source": [
    "# 1.2- EDAs - Test.csv"
   ]
  },
  {
   "cell_type": "code",
   "execution_count": 1,
   "metadata": {},
   "outputs": [],
   "source": [
    "import pandas as pd\n",
    "from matplotlib import pyplot as plt\n",
    "import seaborn as sns\n",
    "\n",
    "## to change cientific notation\n",
    "pd.set_option('display.float_format', lambda x: '%.3f' % x)"
   ]
  },
  {
   "cell_type": "code",
   "execution_count": 2,
   "metadata": {},
   "outputs": [],
   "source": [
    "df = pd.read_csv(\"datasets/Test.csv\")"
   ]
  },
  {
   "cell_type": "code",
   "execution_count": 3,
   "metadata": {},
   "outputs": [
    {
     "data": {
      "text/html": [
       "<div>\n",
       "<style scoped>\n",
       "    .dataframe tbody tr th:only-of-type {\n",
       "        vertical-align: middle;\n",
       "    }\n",
       "\n",
       "    .dataframe tbody tr th {\n",
       "        vertical-align: top;\n",
       "    }\n",
       "\n",
       "    .dataframe thead th {\n",
       "        text-align: right;\n",
       "    }\n",
       "</style>\n",
       "<table border=\"1\" class=\"dataframe\">\n",
       "  <thead>\n",
       "    <tr style=\"text-align: right;\">\n",
       "      <th></th>\n",
       "      <th>ID</th>\n",
       "      <th>App</th>\n",
       "      <th>Category</th>\n",
       "      <th>Reviews</th>\n",
       "      <th>Size</th>\n",
       "      <th>Installs</th>\n",
       "      <th>Type</th>\n",
       "      <th>Price</th>\n",
       "      <th>Content Rating</th>\n",
       "      <th>Genres</th>\n",
       "      <th>Last Updated</th>\n",
       "      <th>Current Ver</th>\n",
       "      <th>Android Ver</th>\n",
       "    </tr>\n",
       "  </thead>\n",
       "  <tbody>\n",
       "    <tr>\n",
       "      <th>0</th>\n",
       "      <td>5788</td>\n",
       "      <td>Bk Usha behn</td>\n",
       "      <td>LIFESTYLE</td>\n",
       "      <td>10</td>\n",
       "      <td>3.0M</td>\n",
       "      <td>1,000+</td>\n",
       "      <td>Free</td>\n",
       "      <td>0</td>\n",
       "      <td>Everyone</td>\n",
       "      <td>Lifestyle</td>\n",
       "      <td>January 14, 2018</td>\n",
       "      <td>1.0</td>\n",
       "      <td>4.1 and up</td>\n",
       "    </tr>\n",
       "    <tr>\n",
       "      <th>1</th>\n",
       "      <td>5789</td>\n",
       "      <td>Funny Ringtones</td>\n",
       "      <td>PERSONALIZATION</td>\n",
       "      <td>7146</td>\n",
       "      <td>14M</td>\n",
       "      <td>1,000,000+</td>\n",
       "      <td>Free</td>\n",
       "      <td>0</td>\n",
       "      <td>Everyone 10+</td>\n",
       "      <td>Personalization</td>\n",
       "      <td>February 2, 2018</td>\n",
       "      <td>1.1</td>\n",
       "      <td>4.0 and up</td>\n",
       "    </tr>\n",
       "    <tr>\n",
       "      <th>2</th>\n",
       "      <td>5790</td>\n",
       "      <td>Strava.cz</td>\n",
       "      <td>SHOPPING</td>\n",
       "      <td>2221</td>\n",
       "      <td>Varies with device</td>\n",
       "      <td>100,000+</td>\n",
       "      <td>Free</td>\n",
       "      <td>0</td>\n",
       "      <td>Everyone</td>\n",
       "      <td>Shopping</td>\n",
       "      <td>July 10, 2018</td>\n",
       "      <td>Varies with device</td>\n",
       "      <td>Varies with device</td>\n",
       "    </tr>\n",
       "    <tr>\n",
       "      <th>3</th>\n",
       "      <td>5791</td>\n",
       "      <td>BL Flowers Digital</td>\n",
       "      <td>SHOPPING</td>\n",
       "      <td>21</td>\n",
       "      <td>2.5M</td>\n",
       "      <td>100+</td>\n",
       "      <td>Free</td>\n",
       "      <td>0</td>\n",
       "      <td>Everyone</td>\n",
       "      <td>Shopping</td>\n",
       "      <td>October 31, 2017</td>\n",
       "      <td>1.6</td>\n",
       "      <td>4.2 and up</td>\n",
       "    </tr>\n",
       "    <tr>\n",
       "      <th>4</th>\n",
       "      <td>5792</td>\n",
       "      <td>eCooltra: scooter sharing. Share electric scoo...</td>\n",
       "      <td>TRAVEL_AND_LOCAL</td>\n",
       "      <td>2822</td>\n",
       "      <td>27M</td>\n",
       "      <td>100,000+</td>\n",
       "      <td>Free</td>\n",
       "      <td>0</td>\n",
       "      <td>Everyone</td>\n",
       "      <td>Travel &amp; Local</td>\n",
       "      <td>July 27, 2018</td>\n",
       "      <td>1.21.2</td>\n",
       "      <td>4.1 and up</td>\n",
       "    </tr>\n",
       "  </tbody>\n",
       "</table>\n",
       "</div>"
      ],
      "text/plain": [
       "     ID                                                App          Category  \\\n",
       "0  5788                                       Bk Usha behn         LIFESTYLE   \n",
       "1  5789                                    Funny Ringtones   PERSONALIZATION   \n",
       "2  5790                                          Strava.cz          SHOPPING   \n",
       "3  5791                                 BL Flowers Digital          SHOPPING   \n",
       "4  5792  eCooltra: scooter sharing. Share electric scoo...  TRAVEL_AND_LOCAL   \n",
       "\n",
       "   Reviews                Size    Installs  Type Price Content Rating  \\\n",
       "0       10                3.0M      1,000+  Free     0       Everyone   \n",
       "1     7146                 14M  1,000,000+  Free     0   Everyone 10+   \n",
       "2     2221  Varies with device    100,000+  Free     0       Everyone   \n",
       "3       21                2.5M        100+  Free     0       Everyone   \n",
       "4     2822                 27M    100,000+  Free     0       Everyone   \n",
       "\n",
       "            Genres      Last Updated         Current Ver         Android Ver  \n",
       "0        Lifestyle  January 14, 2018                 1.0          4.1 and up  \n",
       "1  Personalization  February 2, 2018                 1.1          4.0 and up  \n",
       "2         Shopping     July 10, 2018  Varies with device  Varies with device  \n",
       "3         Shopping  October 31, 2017                 1.6          4.2 and up  \n",
       "4   Travel & Local     July 27, 2018              1.21.2          4.1 and up  "
      ]
     },
     "execution_count": 3,
     "metadata": {},
     "output_type": "execute_result"
    }
   ],
   "source": [
    "df.head()"
   ]
  },
  {
   "cell_type": "code",
   "execution_count": 4,
   "metadata": {},
   "outputs": [
    {
     "data": {
      "text/plain": [
       "(1448, 13)"
      ]
     },
     "execution_count": 4,
     "metadata": {},
     "output_type": "execute_result"
    }
   ],
   "source": [
    "df.shape"
   ]
  },
  {
   "cell_type": "markdown",
   "metadata": {},
   "source": [
    "* ID = Unique Application Identifier \n",
    "* App = Name of the application\n",
    "* Category = Application category \n",
    "* Reviews = Number of reviews of the application \n",
    "* Size = Size of the application \n",
    "* Installs = Number of downloads/installations on the computer\n",
    "* Type = Free or Paid\n",
    "* Price = Price of the application in dollars\n",
    "* Content rating = Content rating\n",
    "* Genres = Gender\n",
    "* Last Updated = Last day to update \n",
    "* Current Ver = Current version of the application \n",
    "* Android View = Required Android Version\n",
    "* Rating = Application Rating "
   ]
  },
  {
   "cell_type": "markdown",
   "metadata": {},
   "source": [
    "## EDAs content\n",
    "\n",
    "1. Initial descriptions. Unique values on each categorical feature. Histograms, distributions of all columns\n",
    "2. Correlation matrix with price (target var)\n",
    "3. Plotting scatterplots\n",
    "\n",
    "### 1. Initial descriptions. Unique values on each categorical feature. Histograms, distributions of all columns"
   ]
  },
  {
   "cell_type": "code",
   "execution_count": 5,
   "metadata": {},
   "outputs": [
    {
     "data": {
      "text/plain": [
       "ID                 int64\n",
       "App               object\n",
       "Category          object\n",
       "Reviews            int64\n",
       "Size              object\n",
       "Installs          object\n",
       "Type              object\n",
       "Price             object\n",
       "Content Rating    object\n",
       "Genres            object\n",
       "Last Updated      object\n",
       "Current Ver       object\n",
       "Android Ver       object\n",
       "dtype: object"
      ]
     },
     "execution_count": 5,
     "metadata": {},
     "output_type": "execute_result"
    }
   ],
   "source": [
    "## To see the data types\n",
    "df.dtypes"
   ]
  },
  {
   "cell_type": "code",
   "execution_count": 6,
   "metadata": {},
   "outputs": [],
   "source": [
    "## delete Id columns\n",
    "df.drop('ID', axis=1, inplace=True)"
   ]
  },
  {
   "cell_type": "code",
   "execution_count": 7,
   "metadata": {},
   "outputs": [
    {
     "data": {
      "text/html": [
       "<div>\n",
       "<style scoped>\n",
       "    .dataframe tbody tr th:only-of-type {\n",
       "        vertical-align: middle;\n",
       "    }\n",
       "\n",
       "    .dataframe tbody tr th {\n",
       "        vertical-align: top;\n",
       "    }\n",
       "\n",
       "    .dataframe thead th {\n",
       "        text-align: right;\n",
       "    }\n",
       "</style>\n",
       "<table border=\"1\" class=\"dataframe\">\n",
       "  <thead>\n",
       "    <tr style=\"text-align: right;\">\n",
       "      <th></th>\n",
       "      <th>Reviews</th>\n",
       "    </tr>\n",
       "  </thead>\n",
       "  <tbody>\n",
       "    <tr>\n",
       "      <th>count</th>\n",
       "      <td>1448.000</td>\n",
       "    </tr>\n",
       "    <tr>\n",
       "      <th>mean</th>\n",
       "      <td>170753.964</td>\n",
       "    </tr>\n",
       "    <tr>\n",
       "      <th>std</th>\n",
       "      <td>800106.692</td>\n",
       "    </tr>\n",
       "    <tr>\n",
       "      <th>min</th>\n",
       "      <td>0.000</td>\n",
       "    </tr>\n",
       "    <tr>\n",
       "      <th>25%</th>\n",
       "      <td>35.000</td>\n",
       "    </tr>\n",
       "    <tr>\n",
       "      <th>50%</th>\n",
       "      <td>1287.000</td>\n",
       "    </tr>\n",
       "    <tr>\n",
       "      <th>75%</th>\n",
       "      <td>34455.250</td>\n",
       "    </tr>\n",
       "    <tr>\n",
       "      <th>max</th>\n",
       "      <td>10979062.000</td>\n",
       "    </tr>\n",
       "  </tbody>\n",
       "</table>\n",
       "</div>"
      ],
      "text/plain": [
       "           Reviews\n",
       "count     1448.000\n",
       "mean    170753.964\n",
       "std     800106.692\n",
       "min          0.000\n",
       "25%         35.000\n",
       "50%       1287.000\n",
       "75%      34455.250\n",
       "max   10979062.000"
      ]
     },
     "execution_count": 7,
     "metadata": {},
     "output_type": "execute_result"
    }
   ],
   "source": [
    "## to get a data visual\n",
    "df.describe()"
   ]
  },
  {
   "cell_type": "code",
   "execution_count": 8,
   "metadata": {},
   "outputs": [
    {
     "data": {
      "text/html": [
       "<div>\n",
       "<style scoped>\n",
       "    .dataframe tbody tr th:only-of-type {\n",
       "        vertical-align: middle;\n",
       "    }\n",
       "\n",
       "    .dataframe tbody tr th {\n",
       "        vertical-align: top;\n",
       "    }\n",
       "\n",
       "    .dataframe thead th {\n",
       "        text-align: right;\n",
       "    }\n",
       "</style>\n",
       "<table border=\"1\" class=\"dataframe\">\n",
       "  <thead>\n",
       "    <tr style=\"text-align: right;\">\n",
       "      <th></th>\n",
       "      <th>App</th>\n",
       "      <th>Category</th>\n",
       "      <th>Size</th>\n",
       "      <th>Installs</th>\n",
       "      <th>Type</th>\n",
       "      <th>Price</th>\n",
       "      <th>Content Rating</th>\n",
       "      <th>Genres</th>\n",
       "      <th>Last Updated</th>\n",
       "      <th>Current Ver</th>\n",
       "      <th>Android Ver</th>\n",
       "    </tr>\n",
       "  </thead>\n",
       "  <tbody>\n",
       "    <tr>\n",
       "      <th>count</th>\n",
       "      <td>1448</td>\n",
       "      <td>1448</td>\n",
       "      <td>1448</td>\n",
       "      <td>1448</td>\n",
       "      <td>1448</td>\n",
       "      <td>1448</td>\n",
       "      <td>1448</td>\n",
       "      <td>1448</td>\n",
       "      <td>1448</td>\n",
       "      <td>1448</td>\n",
       "      <td>1448</td>\n",
       "    </tr>\n",
       "    <tr>\n",
       "      <th>unique</th>\n",
       "      <td>1448</td>\n",
       "      <td>33</td>\n",
       "      <td>229</td>\n",
       "      <td>20</td>\n",
       "      <td>2</td>\n",
       "      <td>29</td>\n",
       "      <td>4</td>\n",
       "      <td>83</td>\n",
       "      <td>585</td>\n",
       "      <td>709</td>\n",
       "      <td>26</td>\n",
       "    </tr>\n",
       "    <tr>\n",
       "      <th>top</th>\n",
       "      <td>What's Your CS:GO rank?</td>\n",
       "      <td>FAMILY</td>\n",
       "      <td>Varies with device</td>\n",
       "      <td>1,000,000+</td>\n",
       "      <td>Free</td>\n",
       "      <td>0</td>\n",
       "      <td>Everyone</td>\n",
       "      <td>Tools</td>\n",
       "      <td>August 3, 2018</td>\n",
       "      <td>Varies with device</td>\n",
       "      <td>4.1 and up</td>\n",
       "    </tr>\n",
       "    <tr>\n",
       "      <th>freq</th>\n",
       "      <td>1</td>\n",
       "      <td>268</td>\n",
       "      <td>199</td>\n",
       "      <td>204</td>\n",
       "      <td>1339</td>\n",
       "      <td>1339</td>\n",
       "      <td>1168</td>\n",
       "      <td>116</td>\n",
       "      <td>44</td>\n",
       "      <td>174</td>\n",
       "      <td>337</td>\n",
       "    </tr>\n",
       "  </tbody>\n",
       "</table>\n",
       "</div>"
      ],
      "text/plain": [
       "                            App Category                Size    Installs  \\\n",
       "count                      1448     1448                1448        1448   \n",
       "unique                     1448       33                 229          20   \n",
       "top     What's Your CS:GO rank?   FAMILY  Varies with device  1,000,000+   \n",
       "freq                          1      268                 199         204   \n",
       "\n",
       "        Type Price Content Rating Genres    Last Updated         Current Ver  \\\n",
       "count   1448  1448           1448   1448            1448                1448   \n",
       "unique     2    29              4     83             585                 709   \n",
       "top     Free     0       Everyone  Tools  August 3, 2018  Varies with device   \n",
       "freq    1339  1339           1168    116              44                 174   \n",
       "\n",
       "       Android Ver  \n",
       "count         1448  \n",
       "unique          26  \n",
       "top     4.1 and up  \n",
       "freq           337  "
      ]
     },
     "execution_count": 8,
     "metadata": {},
     "output_type": "execute_result"
    }
   ],
   "source": [
    "## to get a data visual\n",
    "df.describe(include='object')"
   ]
  },
  {
   "cell_type": "code",
   "execution_count": 9,
   "metadata": {},
   "outputs": [
    {
     "data": {
      "text/plain": [
       "App               0\n",
       "Category          0\n",
       "Reviews           0\n",
       "Size              0\n",
       "Installs          0\n",
       "Type              0\n",
       "Price             0\n",
       "Content Rating    0\n",
       "Genres            0\n",
       "Last Updated      0\n",
       "Current Ver       0\n",
       "Android Ver       0\n",
       "dtype: int64"
      ]
     },
     "execution_count": 9,
     "metadata": {},
     "output_type": "execute_result"
    }
   ],
   "source": [
    "## to explore nulls\n",
    "df.isnull().sum()"
   ]
  },
  {
   "cell_type": "markdown",
   "metadata": {},
   "source": [
    "## Value counts graphs\n",
    "\n",
    "This is usefull for low cardinal variables"
   ]
  },
  {
   "cell_type": "code",
   "execution_count": 10,
   "metadata": {},
   "outputs": [],
   "source": [
    "def value_counts_graphs(column_name):\n",
    "    label_freq = df[column_name].value_counts() / len(df)\n",
    "    plotting = label_freq.sort_values(ascending=False).plot.bar()\n",
    "    return label_freq, plotting   "
   ]
  },
  {
   "cell_type": "code",
   "execution_count": 11,
   "metadata": {},
   "outputs": [
    {
     "data": {
      "text/plain": [
       "(FAMILY                0.185\n",
       " GAME                  0.097\n",
       " TOOLS                 0.080\n",
       " PERSONALIZATION       0.047\n",
       " FINANCE               0.044\n",
       " PRODUCTIVITY          0.040\n",
       " BUSINESS              0.039\n",
       " LIFESTYLE             0.039\n",
       " MEDICAL               0.038\n",
       " HEALTH_AND_FITNESS    0.035\n",
       " SOCIAL                0.035\n",
       " SPORTS                0.032\n",
       " COMMUNICATION         0.030\n",
       " BOOKS_AND_REFERENCE   0.026\n",
       " SHOPPING              0.026\n",
       " NEWS_AND_MAGAZINES    0.026\n",
       " PHOTOGRAPHY           0.026\n",
       " VIDEO_PLAYERS         0.019\n",
       " DATING                0.019\n",
       " TRAVEL_AND_LOCAL      0.018\n",
       " ENTERTAINMENT         0.012\n",
       " FOOD_AND_DRINK        0.010\n",
       " MAPS_AND_NAVIGATION   0.010\n",
       " EDUCATION             0.010\n",
       " LIBRARIES_AND_DEMO    0.009\n",
       " WEATHER               0.008\n",
       " EVENTS                0.008\n",
       " HOUSE_AND_HOME        0.008\n",
       " AUTO_AND_VEHICLES     0.007\n",
       " ART_AND_DESIGN        0.006\n",
       " PARENTING             0.006\n",
       " BEAUTY                0.005\n",
       " COMICS                0.004\n",
       " Name: Category, dtype: float64,\n",
       " <AxesSubplot:>)"
      ]
     },
     "execution_count": 11,
     "metadata": {},
     "output_type": "execute_result"
    },
    {
     "data": {
      "image/png": "[encoded data removed]",
      "text/plain": [
       "<Figure size 432x288 with 1 Axes>"
      ]
     },
     "metadata": {
      "needs_background": "light"
     },
     "output_type": "display_data"
    }
   ],
   "source": [
    "value_counts_graphs('Category')"
   ]
  },
  {
   "cell_type": "code",
   "execution_count": 12,
   "metadata": {},
   "outputs": [
    {
     "data": {
      "text/plain": [
       "(1,000,000+       0.141\n",
       " 100,000+         0.116\n",
       " 10,000+          0.114\n",
       " 10,000,000+      0.106\n",
       " 1,000+           0.090\n",
       " 5,000,000+       0.071\n",
       " 100+             0.069\n",
       " 500,000+         0.052\n",
       " 50,000+          0.046\n",
       " 5,000+           0.045\n",
       " 10+              0.034\n",
       " 500+             0.032\n",
       " 50,000,000+      0.024\n",
       " 100,000,000+     0.019\n",
       " 50+              0.019\n",
       " 5+               0.010\n",
       " 1+               0.008\n",
       " 500,000,000+     0.002\n",
       " 1,000,000,000+   0.001\n",
       " 0+               0.001\n",
       " Name: Installs, dtype: float64,\n",
       " <AxesSubplot:>)"
      ]
     },
     "execution_count": 12,
     "metadata": {},
     "output_type": "execute_result"
    },
    {
     "data": {
      "image/png": "[encoded data removed]",
      "text/plain": [
       "<Figure size 432x288 with 1 Axes>"
      ]
     },
     "metadata": {
      "needs_background": "light"
     },
     "output_type": "display_data"
    }
   ],
   "source": [
    "value_counts_graphs('Installs')"
   ]
  },
  {
   "cell_type": "code",
   "execution_count": 13,
   "metadata": {},
   "outputs": [
    {
     "data": {
      "text/plain": [
       "(Free   0.925\n",
       " Paid   0.075\n",
       " Name: Type, dtype: float64,\n",
       " <AxesSubplot:>)"
      ]
     },
     "execution_count": 13,
     "metadata": {},
     "output_type": "execute_result"
    },
    {
     "data": {
      "image/png": "[encoded data removed]",
      "text/plain": [
       "<Figure size 432x288 with 1 Axes>"
      ]
     },
     "metadata": {
      "needs_background": "light"
     },
     "output_type": "display_data"
    }
   ],
   "source": [
    "value_counts_graphs('Type')"
   ]
  },
  {
   "cell_type": "code",
   "execution_count": 14,
   "metadata": {},
   "outputs": [
    {
     "data": {
      "text/plain": [
       "(Everyone       0.807\n",
       " Teen           0.119\n",
       " Mature 17+     0.041\n",
       " Everyone 10+   0.033\n",
       " Name: Content Rating, dtype: float64,\n",
       " <AxesSubplot:>)"
      ]
     },
     "execution_count": 14,
     "metadata": {},
     "output_type": "execute_result"
    },
    {
     "data": {
      "image/png": "[encoded data removed]",
      "text/plain": [
       "<Figure size 432x288 with 1 Axes>"
      ]
     },
     "metadata": {
      "needs_background": "light"
     },
     "output_type": "display_data"
    }
   ],
   "source": [
    "value_counts_graphs('Content Rating')"
   ]
  },
  {
   "cell_type": "markdown",
   "metadata": {},
   "source": [
    "### Questions to Answer\n",
    "\n",
    "If ratings are 0 and 1, and 1 == 5 and 0 othe ones and that and taking into account that this is the Ratings distribution: \n",
    "\n",
    "```\n",
    "1   0.746\n",
    "0   0.254\n",
    "```\n",
    "\n",
    "What characteristics the cero ratings has? and what characteristics do the 1 rating has?\n",
    "\n",
    "* Which categories has more cero ratings and what more one ratings\n",
    "* What number of reviews has cero ratings and one ratings\n",
    "* What's the number of installs for zero ratings\n",
    "* What type do the zero ratings has?\n",
    "* What price do the zero ratings has?\n",
    "* What content ratring do the zero ratings has?\n",
    "* What genres do the zero ratings has?"
   ]
  },
  {
   "cell_type": "markdown",
   "metadata": {},
   "source": [
    "### Groupings, pivot tables and ploting\n",
    "\n",
    "This is usefull to see independent variables vs dependent variable."
   ]
  },
  {
   "cell_type": "code",
   "execution_count": 15,
   "metadata": {},
   "outputs": [
    {
     "data": {
      "text/plain": [
       "Index(['App', 'Category', 'Reviews', 'Size', 'Installs', 'Type', 'Price',\n",
       "       'Content Rating', 'Genres', 'Last Updated', 'Current Ver',\n",
       "       'Android Ver'],\n",
       "      dtype='object')"
      ]
     },
     "execution_count": 15,
     "metadata": {},
     "output_type": "execute_result"
    }
   ],
   "source": [
    "df.columns"
   ]
  },
  {
   "cell_type": "code",
   "execution_count": 16,
   "metadata": {},
   "outputs": [],
   "source": [
    "def groupby_var_target(df, column_name, target_name, title):\n",
    "    ## group by\n",
    "    groupby_var_target = df.groupby(\n",
    "        column_name\n",
    "    )[target_name].sum() / df.groupby(\n",
    "        column_name\n",
    "    )[target_name].count() * 100.0\n",
    "    \n",
    "    ## plot groupby\n",
    "    ax = groupby_var_target.sort_values(ascending=False).plot(\n",
    "        kind='bar',\n",
    "        color='skyblue',\n",
    "        grid=True,\n",
    "        figsize=(10, 7),\n",
    "        title=title\n",
    "    )\n",
    "    \n",
    "    return groupby_var_target, plt.show()"
   ]
  },
  {
   "cell_type": "code",
   "execution_count": 17,
   "metadata": {},
   "outputs": [
    {
     "data": {
      "text/html": [
       "<div>\n",
       "<style scoped>\n",
       "    .dataframe tbody tr th:only-of-type {\n",
       "        vertical-align: middle;\n",
       "    }\n",
       "\n",
       "    .dataframe tbody tr th {\n",
       "        vertical-align: top;\n",
       "    }\n",
       "\n",
       "    .dataframe thead th {\n",
       "        text-align: right;\n",
       "    }\n",
       "</style>\n",
       "<table border=\"1\" class=\"dataframe\">\n",
       "  <thead>\n",
       "    <tr style=\"text-align: right;\">\n",
       "      <th></th>\n",
       "      <th>Reviews</th>\n",
       "    </tr>\n",
       "  </thead>\n",
       "  <tbody>\n",
       "    <tr>\n",
       "      <th>count</th>\n",
       "      <td>1448.000</td>\n",
       "    </tr>\n",
       "    <tr>\n",
       "      <th>mean</th>\n",
       "      <td>170753.964</td>\n",
       "    </tr>\n",
       "    <tr>\n",
       "      <th>std</th>\n",
       "      <td>800106.692</td>\n",
       "    </tr>\n",
       "    <tr>\n",
       "      <th>min</th>\n",
       "      <td>0.000</td>\n",
       "    </tr>\n",
       "    <tr>\n",
       "      <th>25%</th>\n",
       "      <td>35.000</td>\n",
       "    </tr>\n",
       "    <tr>\n",
       "      <th>50%</th>\n",
       "      <td>1287.000</td>\n",
       "    </tr>\n",
       "    <tr>\n",
       "      <th>75%</th>\n",
       "      <td>34455.250</td>\n",
       "    </tr>\n",
       "    <tr>\n",
       "      <th>max</th>\n",
       "      <td>10979062.000</td>\n",
       "    </tr>\n",
       "  </tbody>\n",
       "</table>\n",
       "</div>"
      ],
      "text/plain": [
       "           Reviews\n",
       "count     1448.000\n",
       "mean    170753.964\n",
       "std     800106.692\n",
       "min          0.000\n",
       "25%         35.000\n",
       "50%       1287.000\n",
       "75%      34455.250\n",
       "max   10979062.000"
      ]
     },
     "execution_count": 17,
     "metadata": {},
     "output_type": "execute_result"
    }
   ],
   "source": [
    "## to get a data visual\n",
    "df.describe()"
   ]
  },
  {
   "cell_type": "code",
   "execution_count": 18,
   "metadata": {},
   "outputs": [],
   "source": [
    "df['review_group'] = df['Reviews'].apply(\n",
    "    lambda x: '[0, 23)' if x < 23 else '[23, 889)' if x < 889 \\\n",
    "        else '[889, 26432)' if x < 26432  \\\n",
    "        else '[26432+)'\n",
    ")"
   ]
  },
  {
   "cell_type": "code",
   "execution_count": 19,
   "metadata": {},
   "outputs": [
    {
     "data": {
      "text/html": [
       "<div>\n",
       "<style scoped>\n",
       "    .dataframe tbody tr th:only-of-type {\n",
       "        vertical-align: middle;\n",
       "    }\n",
       "\n",
       "    .dataframe tbody tr th {\n",
       "        vertical-align: top;\n",
       "    }\n",
       "\n",
       "    .dataframe thead th {\n",
       "        text-align: right;\n",
       "    }\n",
       "</style>\n",
       "<table border=\"1\" class=\"dataframe\">\n",
       "  <thead>\n",
       "    <tr style=\"text-align: right;\">\n",
       "      <th></th>\n",
       "      <th>App</th>\n",
       "      <th>Category</th>\n",
       "      <th>Reviews</th>\n",
       "      <th>Size</th>\n",
       "      <th>Installs</th>\n",
       "      <th>Type</th>\n",
       "      <th>Price</th>\n",
       "      <th>Content Rating</th>\n",
       "      <th>Genres</th>\n",
       "      <th>Last Updated</th>\n",
       "      <th>Current Ver</th>\n",
       "      <th>Android Ver</th>\n",
       "      <th>review_group</th>\n",
       "    </tr>\n",
       "  </thead>\n",
       "  <tbody>\n",
       "    <tr>\n",
       "      <th>0</th>\n",
       "      <td>Bk Usha behn</td>\n",
       "      <td>LIFESTYLE</td>\n",
       "      <td>10</td>\n",
       "      <td>3.0M</td>\n",
       "      <td>1,000+</td>\n",
       "      <td>Free</td>\n",
       "      <td>0</td>\n",
       "      <td>Everyone</td>\n",
       "      <td>Lifestyle</td>\n",
       "      <td>January 14, 2018</td>\n",
       "      <td>1.0</td>\n",
       "      <td>4.1 and up</td>\n",
       "      <td>[0, 23)</td>\n",
       "    </tr>\n",
       "    <tr>\n",
       "      <th>1</th>\n",
       "      <td>Funny Ringtones</td>\n",
       "      <td>PERSONALIZATION</td>\n",
       "      <td>7146</td>\n",
       "      <td>14M</td>\n",
       "      <td>1,000,000+</td>\n",
       "      <td>Free</td>\n",
       "      <td>0</td>\n",
       "      <td>Everyone 10+</td>\n",
       "      <td>Personalization</td>\n",
       "      <td>February 2, 2018</td>\n",
       "      <td>1.1</td>\n",
       "      <td>4.0 and up</td>\n",
       "      <td>[889, 26432)</td>\n",
       "    </tr>\n",
       "    <tr>\n",
       "      <th>2</th>\n",
       "      <td>Strava.cz</td>\n",
       "      <td>SHOPPING</td>\n",
       "      <td>2221</td>\n",
       "      <td>Varies with device</td>\n",
       "      <td>100,000+</td>\n",
       "      <td>Free</td>\n",
       "      <td>0</td>\n",
       "      <td>Everyone</td>\n",
       "      <td>Shopping</td>\n",
       "      <td>July 10, 2018</td>\n",
       "      <td>Varies with device</td>\n",
       "      <td>Varies with device</td>\n",
       "      <td>[889, 26432)</td>\n",
       "    </tr>\n",
       "    <tr>\n",
       "      <th>3</th>\n",
       "      <td>BL Flowers Digital</td>\n",
       "      <td>SHOPPING</td>\n",
       "      <td>21</td>\n",
       "      <td>2.5M</td>\n",
       "      <td>100+</td>\n",
       "      <td>Free</td>\n",
       "      <td>0</td>\n",
       "      <td>Everyone</td>\n",
       "      <td>Shopping</td>\n",
       "      <td>October 31, 2017</td>\n",
       "      <td>1.6</td>\n",
       "      <td>4.2 and up</td>\n",
       "      <td>[0, 23)</td>\n",
       "    </tr>\n",
       "    <tr>\n",
       "      <th>4</th>\n",
       "      <td>eCooltra: scooter sharing. Share electric scoo...</td>\n",
       "      <td>TRAVEL_AND_LOCAL</td>\n",
       "      <td>2822</td>\n",
       "      <td>27M</td>\n",
       "      <td>100,000+</td>\n",
       "      <td>Free</td>\n",
       "      <td>0</td>\n",
       "      <td>Everyone</td>\n",
       "      <td>Travel &amp; Local</td>\n",
       "      <td>July 27, 2018</td>\n",
       "      <td>1.21.2</td>\n",
       "      <td>4.1 and up</td>\n",
       "      <td>[889, 26432)</td>\n",
       "    </tr>\n",
       "  </tbody>\n",
       "</table>\n",
       "</div>"
      ],
      "text/plain": [
       "                                                 App          Category  \\\n",
       "0                                       Bk Usha behn         LIFESTYLE   \n",
       "1                                    Funny Ringtones   PERSONALIZATION   \n",
       "2                                          Strava.cz          SHOPPING   \n",
       "3                                 BL Flowers Digital          SHOPPING   \n",
       "4  eCooltra: scooter sharing. Share electric scoo...  TRAVEL_AND_LOCAL   \n",
       "\n",
       "   Reviews                Size    Installs  Type Price Content Rating  \\\n",
       "0       10                3.0M      1,000+  Free     0       Everyone   \n",
       "1     7146                 14M  1,000,000+  Free     0   Everyone 10+   \n",
       "2     2221  Varies with device    100,000+  Free     0       Everyone   \n",
       "3       21                2.5M        100+  Free     0       Everyone   \n",
       "4     2822                 27M    100,000+  Free     0       Everyone   \n",
       "\n",
       "            Genres      Last Updated         Current Ver         Android Ver  \\\n",
       "0        Lifestyle  January 14, 2018                 1.0          4.1 and up   \n",
       "1  Personalization  February 2, 2018                 1.1          4.0 and up   \n",
       "2         Shopping     July 10, 2018  Varies with device  Varies with device   \n",
       "3         Shopping  October 31, 2017                 1.6          4.2 and up   \n",
       "4   Travel & Local     July 27, 2018              1.21.2          4.1 and up   \n",
       "\n",
       "   review_group  \n",
       "0       [0, 23)  \n",
       "1  [889, 26432)  \n",
       "2  [889, 26432)  \n",
       "3       [0, 23)  \n",
       "4  [889, 26432)  "
      ]
     },
     "execution_count": 19,
     "metadata": {},
     "output_type": "execute_result"
    }
   ],
   "source": [
    "df.head()"
   ]
  },
  {
   "cell_type": "code",
   "execution_count": 20,
   "metadata": {},
   "outputs": [],
   "source": [
    "def groupby_2_cols_against_target(df, column1, column2, target):\n",
    "\n",
    "    groupby_2_cols_against_target = df.groupby(\n",
    "        [column1, column2]\n",
    "    )[target].sum() / df.groupby(\n",
    "        [column1, column2]\n",
    "    )[target].count() * 100.0\n",
    "\n",
    "    pivot_t = groupby_2_cols_against_target.reset_index().pivot(\n",
    "        index=column1,\n",
    "        columns=column2,\n",
    "        values=target\n",
    "    )\n",
    "    \n",
    "    return pivot_t"
   ]
  },
  {
   "cell_type": "code",
   "execution_count": 21,
   "metadata": {},
   "outputs": [
    {
     "data": {
      "text/plain": [
       "Index(['App', 'Category', 'Reviews', 'Size', 'Installs', 'Type', 'Price',\n",
       "       'Content Rating', 'Genres', 'Last Updated', 'Current Ver',\n",
       "       'Android Ver', 'review_group'],\n",
       "      dtype='object')"
      ]
     },
     "execution_count": 21,
     "metadata": {},
     "output_type": "execute_result"
    }
   ],
   "source": [
    "df.columns"
   ]
  },
  {
   "cell_type": "markdown",
   "metadata": {},
   "source": [
    "### Graph Outliers"
   ]
  },
  {
   "cell_type": "code",
   "execution_count": 22,
   "metadata": {},
   "outputs": [
    {
     "data": {
      "text/plain": [
       "<AxesSubplot:>"
      ]
     },
     "execution_count": 22,
     "metadata": {},
     "output_type": "execute_result"
    },
    {
     "data": {
      "image/png": "[encoded data removed]",
      "text/plain": [
       "<Figure size 432x288 with 1 Axes>"
      ]
     },
     "metadata": {
      "needs_background": "light"
     },
     "output_type": "display_data"
    }
   ],
   "source": [
    "df.plot.box()"
   ]
  },
  {
   "cell_type": "code",
   "execution_count": 23,
   "metadata": {},
   "outputs": [
    {
     "data": {
      "text/plain": [
       "<AxesSubplot:>"
      ]
     },
     "execution_count": 23,
     "metadata": {},
     "output_type": "execute_result"
    },
    {
     "data": {
      "image/png": "[encoded data removed]",
      "text/plain": [
       "<Figure size 432x288 with 1 Axes>"
      ]
     },
     "metadata": {
      "needs_background": "light"
     },
     "output_type": "display_data"
    }
   ],
   "source": [
    "df['Reviews'].hist(bins=30, range=(0, 1000))"
   ]
  },
  {
   "cell_type": "code",
   "execution_count": 24,
   "metadata": {},
   "outputs": [
    {
     "data": {
      "text/plain": [
       "<AxesSubplot:>"
      ]
     },
     "execution_count": 24,
     "metadata": {},
     "output_type": "execute_result"
    },
    {
     "data": {
      "image/png": "[encoded data removed]",
      "text/plain": [
       "<Figure size 432x288 with 1 Axes>"
      ]
     },
     "metadata": {
      "needs_background": "light"
     },
     "output_type": "display_data"
    }
   ],
   "source": [
    "df['Reviews'].plot.box()"
   ]
  },
  {
   "cell_type": "code",
   "execution_count": 25,
   "metadata": {},
   "outputs": [],
   "source": [
    "## to graph outliers\n",
    "\n",
    "def graph_outliers(column_names):\n",
    "    for column_name in column_names:\n",
    "        plt.figure(figsize=(3,6))\n",
    "        sns.boxplot(y=df[column_name])"
   ]
  },
  {
   "cell_type": "code",
   "execution_count": 26,
   "metadata": {},
   "outputs": [
    {
     "data": {
      "image/png": "[encoded data removed]",
      "text/plain": [
       "<Figure size 216x432 with 1 Axes>"
      ]
     },
     "metadata": {
      "needs_background": "light"
     },
     "output_type": "display_data"
    }
   ],
   "source": [
    "graph_outliers(['Reviews'])"
   ]
  },
  {
   "cell_type": "code",
   "execution_count": 27,
   "metadata": {},
   "outputs": [
    {
     "data": {
      "text/plain": [
       "array([[<AxesSubplot:title={'center':'Reviews'}>]], dtype=object)"
      ]
     },
     "execution_count": 27,
     "metadata": {},
     "output_type": "execute_result"
    },
    {
     "data": {
      "image/png": "[encoded data removed]",
      "text/plain": [
       "<Figure size 864x864 with 1 Axes>"
      ]
     },
     "metadata": {
      "needs_background": "light"
     },
     "output_type": "display_data"
    }
   ],
   "source": [
    "## to plot hist to all dataframe\n",
    "df.hist(bins=30, figsize=(12,12), density=True)"
   ]
  },
  {
   "cell_type": "markdown",
   "metadata": {},
   "source": [
    "### Correlation matrix with price (target var)"
   ]
  },
  {
   "cell_type": "code",
   "execution_count": 28,
   "metadata": {},
   "outputs": [
    {
     "data": {
      "text/html": [
       "<div>\n",
       "<style scoped>\n",
       "    .dataframe tbody tr th:only-of-type {\n",
       "        vertical-align: middle;\n",
       "    }\n",
       "\n",
       "    .dataframe tbody tr th {\n",
       "        vertical-align: top;\n",
       "    }\n",
       "\n",
       "    .dataframe thead th {\n",
       "        text-align: right;\n",
       "    }\n",
       "</style>\n",
       "<table border=\"1\" class=\"dataframe\">\n",
       "  <thead>\n",
       "    <tr style=\"text-align: right;\">\n",
       "      <th></th>\n",
       "      <th>Reviews</th>\n",
       "    </tr>\n",
       "  </thead>\n",
       "  <tbody>\n",
       "    <tr>\n",
       "      <th>Reviews</th>\n",
       "      <td>1.000</td>\n",
       "    </tr>\n",
       "  </tbody>\n",
       "</table>\n",
       "</div>"
      ],
      "text/plain": [
       "         Reviews\n",
       "Reviews    1.000"
      ]
     },
     "execution_count": 28,
     "metadata": {},
     "output_type": "execute_result"
    }
   ],
   "source": [
    "df.corr()"
   ]
  },
  {
   "cell_type": "code",
   "execution_count": 29,
   "metadata": {},
   "outputs": [
    {
     "data": {
      "text/html": [
       "<div>\n",
       "<style scoped>\n",
       "    .dataframe tbody tr th:only-of-type {\n",
       "        vertical-align: middle;\n",
       "    }\n",
       "\n",
       "    .dataframe tbody tr th {\n",
       "        vertical-align: top;\n",
       "    }\n",
       "\n",
       "    .dataframe thead th {\n",
       "        text-align: right;\n",
       "    }\n",
       "</style>\n",
       "<table border=\"1\" class=\"dataframe\">\n",
       "  <thead>\n",
       "    <tr style=\"text-align: right;\">\n",
       "      <th></th>\n",
       "      <th>Reviews</th>\n",
       "    </tr>\n",
       "  </thead>\n",
       "  <tbody>\n",
       "    <tr>\n",
       "      <th>Reviews</th>\n",
       "      <td>1.000</td>\n",
       "    </tr>\n",
       "  </tbody>\n",
       "</table>\n",
       "</div>"
      ],
      "text/plain": [
       "         Reviews\n",
       "Reviews    1.000"
      ]
     },
     "execution_count": 29,
     "metadata": {},
     "output_type": "execute_result"
    },
    {
     "data": {
      "image/png": "[encoded data removed]",
      "text/plain": [
       "<Figure size 1080x576 with 2 Axes>"
      ]
     },
     "metadata": {
      "needs_background": "light"
     },
     "output_type": "display_data"
    }
   ],
   "source": [
    "## confusion matriz with seaborn\n",
    "corr = df.corr()\n",
    "plt.figure(figsize=(15,8))\n",
    "\n",
    "sns.heatmap(corr,\n",
    "            xticklabels=corr.columns.values,\n",
    "            yticklabels=corr.columns.values,annot=True)\n",
    "\n",
    "corr"
   ]
  },
  {
   "cell_type": "code",
   "execution_count": 30,
   "metadata": {},
   "outputs": [],
   "source": [
    "## categorical correlation\n",
    "\n",
    "cat_coor = df.apply(lambda x : pd.factorize(x)[0]).corr(method='pearson', min_periods=1)"
   ]
  },
  {
   "cell_type": "code",
   "execution_count": 31,
   "metadata": {},
   "outputs": [
    {
     "data": {
      "text/html": [
       "<div>\n",
       "<style scoped>\n",
       "    .dataframe tbody tr th:only-of-type {\n",
       "        vertical-align: middle;\n",
       "    }\n",
       "\n",
       "    .dataframe tbody tr th {\n",
       "        vertical-align: top;\n",
       "    }\n",
       "\n",
       "    .dataframe thead th {\n",
       "        text-align: right;\n",
       "    }\n",
       "</style>\n",
       "<table border=\"1\" class=\"dataframe\">\n",
       "  <thead>\n",
       "    <tr style=\"text-align: right;\">\n",
       "      <th></th>\n",
       "      <th>App</th>\n",
       "      <th>Category</th>\n",
       "      <th>Reviews</th>\n",
       "      <th>Size</th>\n",
       "      <th>Installs</th>\n",
       "      <th>Type</th>\n",
       "      <th>Price</th>\n",
       "      <th>Content Rating</th>\n",
       "      <th>Genres</th>\n",
       "      <th>Last Updated</th>\n",
       "      <th>Current Ver</th>\n",
       "      <th>Android Ver</th>\n",
       "      <th>review_group</th>\n",
       "    </tr>\n",
       "  </thead>\n",
       "  <tbody>\n",
       "    <tr>\n",
       "      <th>App</th>\n",
       "      <td>1.000</td>\n",
       "      <td>0.033</td>\n",
       "      <td>0.660</td>\n",
       "      <td>0.144</td>\n",
       "      <td>0.001</td>\n",
       "      <td>0.033</td>\n",
       "      <td>0.081</td>\n",
       "      <td>0.018</td>\n",
       "      <td>0.090</td>\n",
       "      <td>0.411</td>\n",
       "      <td>0.480</td>\n",
       "      <td>0.088</td>\n",
       "      <td>0.046</td>\n",
       "    </tr>\n",
       "    <tr>\n",
       "      <th>Category</th>\n",
       "      <td>0.033</td>\n",
       "      <td>1.000</td>\n",
       "      <td>0.050</td>\n",
       "      <td>-0.050</td>\n",
       "      <td>-0.036</td>\n",
       "      <td>-0.037</td>\n",
       "      <td>-0.013</td>\n",
       "      <td>0.034</td>\n",
       "      <td>0.545</td>\n",
       "      <td>-0.029</td>\n",
       "      <td>0.033</td>\n",
       "      <td>-0.015</td>\n",
       "      <td>-0.005</td>\n",
       "    </tr>\n",
       "    <tr>\n",
       "      <th>Reviews</th>\n",
       "      <td>0.660</td>\n",
       "      <td>0.050</td>\n",
       "      <td>1.000</td>\n",
       "      <td>0.083</td>\n",
       "      <td>-0.015</td>\n",
       "      <td>-0.050</td>\n",
       "      <td>-0.039</td>\n",
       "      <td>0.058</td>\n",
       "      <td>0.149</td>\n",
       "      <td>0.186</td>\n",
       "      <td>0.467</td>\n",
       "      <td>0.024</td>\n",
       "      <td>0.437</td>\n",
       "    </tr>\n",
       "    <tr>\n",
       "      <th>Size</th>\n",
       "      <td>0.144</td>\n",
       "      <td>-0.050</td>\n",
       "      <td>0.083</td>\n",
       "      <td>1.000</td>\n",
       "      <td>-0.048</td>\n",
       "      <td>0.053</td>\n",
       "      <td>0.053</td>\n",
       "      <td>-0.021</td>\n",
       "      <td>0.061</td>\n",
       "      <td>0.185</td>\n",
       "      <td>0.188</td>\n",
       "      <td>0.126</td>\n",
       "      <td>-0.074</td>\n",
       "    </tr>\n",
       "    <tr>\n",
       "      <th>Installs</th>\n",
       "      <td>0.001</td>\n",
       "      <td>-0.036</td>\n",
       "      <td>-0.015</td>\n",
       "      <td>-0.048</td>\n",
       "      <td>1.000</td>\n",
       "      <td>-0.027</td>\n",
       "      <td>-0.032</td>\n",
       "      <td>0.055</td>\n",
       "      <td>-0.066</td>\n",
       "      <td>-0.074</td>\n",
       "      <td>-0.008</td>\n",
       "      <td>-0.045</td>\n",
       "      <td>0.180</td>\n",
       "    </tr>\n",
       "    <tr>\n",
       "      <th>Type</th>\n",
       "      <td>0.033</td>\n",
       "      <td>-0.037</td>\n",
       "      <td>-0.050</td>\n",
       "      <td>0.053</td>\n",
       "      <td>-0.027</td>\n",
       "      <td>1.000</td>\n",
       "      <td>0.747</td>\n",
       "      <td>-0.060</td>\n",
       "      <td>0.083</td>\n",
       "      <td>0.131</td>\n",
       "      <td>-0.026</td>\n",
       "      <td>0.120</td>\n",
       "      <td>-0.118</td>\n",
       "    </tr>\n",
       "    <tr>\n",
       "      <th>Price</th>\n",
       "      <td>0.081</td>\n",
       "      <td>-0.013</td>\n",
       "      <td>-0.039</td>\n",
       "      <td>0.053</td>\n",
       "      <td>-0.032</td>\n",
       "      <td>0.747</td>\n",
       "      <td>1.000</td>\n",
       "      <td>-0.036</td>\n",
       "      <td>0.025</td>\n",
       "      <td>0.161</td>\n",
       "      <td>-0.023</td>\n",
       "      <td>0.144</td>\n",
       "      <td>-0.098</td>\n",
       "    </tr>\n",
       "    <tr>\n",
       "      <th>Content Rating</th>\n",
       "      <td>0.018</td>\n",
       "      <td>0.034</td>\n",
       "      <td>0.058</td>\n",
       "      <td>-0.021</td>\n",
       "      <td>0.055</td>\n",
       "      <td>-0.060</td>\n",
       "      <td>-0.036</td>\n",
       "      <td>1.000</td>\n",
       "      <td>0.050</td>\n",
       "      <td>-0.064</td>\n",
       "      <td>0.001</td>\n",
       "      <td>-0.064</td>\n",
       "      <td>0.145</td>\n",
       "    </tr>\n",
       "    <tr>\n",
       "      <th>Genres</th>\n",
       "      <td>0.090</td>\n",
       "      <td>0.545</td>\n",
       "      <td>0.149</td>\n",
       "      <td>0.061</td>\n",
       "      <td>-0.066</td>\n",
       "      <td>0.083</td>\n",
       "      <td>0.025</td>\n",
       "      <td>0.050</td>\n",
       "      <td>1.000</td>\n",
       "      <td>0.077</td>\n",
       "      <td>0.062</td>\n",
       "      <td>-0.044</td>\n",
       "      <td>0.050</td>\n",
       "    </tr>\n",
       "    <tr>\n",
       "      <th>Last Updated</th>\n",
       "      <td>0.411</td>\n",
       "      <td>-0.029</td>\n",
       "      <td>0.186</td>\n",
       "      <td>0.185</td>\n",
       "      <td>-0.074</td>\n",
       "      <td>0.131</td>\n",
       "      <td>0.161</td>\n",
       "      <td>-0.064</td>\n",
       "      <td>0.077</td>\n",
       "      <td>1.000</td>\n",
       "      <td>0.092</td>\n",
       "      <td>0.124</td>\n",
       "      <td>-0.118</td>\n",
       "    </tr>\n",
       "    <tr>\n",
       "      <th>Current Ver</th>\n",
       "      <td>0.480</td>\n",
       "      <td>0.033</td>\n",
       "      <td>0.467</td>\n",
       "      <td>0.188</td>\n",
       "      <td>-0.008</td>\n",
       "      <td>-0.026</td>\n",
       "      <td>-0.023</td>\n",
       "      <td>0.001</td>\n",
       "      <td>0.062</td>\n",
       "      <td>0.092</td>\n",
       "      <td>1.000</td>\n",
       "      <td>0.104</td>\n",
       "      <td>0.148</td>\n",
       "    </tr>\n",
       "    <tr>\n",
       "      <th>Android Ver</th>\n",
       "      <td>0.088</td>\n",
       "      <td>-0.015</td>\n",
       "      <td>0.024</td>\n",
       "      <td>0.126</td>\n",
       "      <td>-0.045</td>\n",
       "      <td>0.120</td>\n",
       "      <td>0.144</td>\n",
       "      <td>-0.064</td>\n",
       "      <td>-0.044</td>\n",
       "      <td>0.124</td>\n",
       "      <td>0.104</td>\n",
       "      <td>1.000</td>\n",
       "      <td>-0.036</td>\n",
       "    </tr>\n",
       "    <tr>\n",
       "      <th>review_group</th>\n",
       "      <td>0.046</td>\n",
       "      <td>-0.005</td>\n",
       "      <td>0.437</td>\n",
       "      <td>-0.074</td>\n",
       "      <td>0.180</td>\n",
       "      <td>-0.118</td>\n",
       "      <td>-0.098</td>\n",
       "      <td>0.145</td>\n",
       "      <td>0.050</td>\n",
       "      <td>-0.118</td>\n",
       "      <td>0.148</td>\n",
       "      <td>-0.036</td>\n",
       "      <td>1.000</td>\n",
       "    </tr>\n",
       "  </tbody>\n",
       "</table>\n",
       "</div>"
      ],
      "text/plain": [
       "                 App  Category  Reviews   Size  Installs   Type  Price  \\\n",
       "App            1.000     0.033    0.660  0.144     0.001  0.033  0.081   \n",
       "Category       0.033     1.000    0.050 -0.050    -0.036 -0.037 -0.013   \n",
       "Reviews        0.660     0.050    1.000  0.083    -0.015 -0.050 -0.039   \n",
       "Size           0.144    -0.050    0.083  1.000    -0.048  0.053  0.053   \n",
       "Installs       0.001    -0.036   -0.015 -0.048     1.000 -0.027 -0.032   \n",
       "Type           0.033    -0.037   -0.050  0.053    -0.027  1.000  0.747   \n",
       "Price          0.081    -0.013   -0.039  0.053    -0.032  0.747  1.000   \n",
       "Content Rating 0.018     0.034    0.058 -0.021     0.055 -0.060 -0.036   \n",
       "Genres         0.090     0.545    0.149  0.061    -0.066  0.083  0.025   \n",
       "Last Updated   0.411    -0.029    0.186  0.185    -0.074  0.131  0.161   \n",
       "Current Ver    0.480     0.033    0.467  0.188    -0.008 -0.026 -0.023   \n",
       "Android Ver    0.088    -0.015    0.024  0.126    -0.045  0.120  0.144   \n",
       "review_group   0.046    -0.005    0.437 -0.074     0.180 -0.118 -0.098   \n",
       "\n",
       "                Content Rating  Genres  Last Updated  Current Ver  \\\n",
       "App                      0.018   0.090         0.411        0.480   \n",
       "Category                 0.034   0.545        -0.029        0.033   \n",
       "Reviews                  0.058   0.149         0.186        0.467   \n",
       "Size                    -0.021   0.061         0.185        0.188   \n",
       "Installs                 0.055  -0.066        -0.074       -0.008   \n",
       "Type                    -0.060   0.083         0.131       -0.026   \n",
       "Price                   -0.036   0.025         0.161       -0.023   \n",
       "Content Rating           1.000   0.050        -0.064        0.001   \n",
       "Genres                   0.050   1.000         0.077        0.062   \n",
       "Last Updated            -0.064   0.077         1.000        0.092   \n",
       "Current Ver              0.001   0.062         0.092        1.000   \n",
       "Android Ver             -0.064  -0.044         0.124        0.104   \n",
       "review_group             0.145   0.050        -0.118        0.148   \n",
       "\n",
       "                Android Ver  review_group  \n",
       "App                   0.088         0.046  \n",
       "Category             -0.015        -0.005  \n",
       "Reviews               0.024         0.437  \n",
       "Size                  0.126        -0.074  \n",
       "Installs             -0.045         0.180  \n",
       "Type                  0.120        -0.118  \n",
       "Price                 0.144        -0.098  \n",
       "Content Rating       -0.064         0.145  \n",
       "Genres               -0.044         0.050  \n",
       "Last Updated          0.124        -0.118  \n",
       "Current Ver           0.104         0.148  \n",
       "Android Ver           1.000        -0.036  \n",
       "review_group         -0.036         1.000  "
      ]
     },
     "execution_count": 31,
     "metadata": {},
     "output_type": "execute_result"
    }
   ],
   "source": [
    "cat_coor"
   ]
  },
  {
   "cell_type": "code",
   "execution_count": 32,
   "metadata": {},
   "outputs": [
    {
     "data": {
      "text/html": [
       "<div>\n",
       "<style scoped>\n",
       "    .dataframe tbody tr th:only-of-type {\n",
       "        vertical-align: middle;\n",
       "    }\n",
       "\n",
       "    .dataframe tbody tr th {\n",
       "        vertical-align: top;\n",
       "    }\n",
       "\n",
       "    .dataframe thead th {\n",
       "        text-align: right;\n",
       "    }\n",
       "</style>\n",
       "<table border=\"1\" class=\"dataframe\">\n",
       "  <thead>\n",
       "    <tr style=\"text-align: right;\">\n",
       "      <th></th>\n",
       "      <th>App</th>\n",
       "      <th>Category</th>\n",
       "      <th>Reviews</th>\n",
       "      <th>Size</th>\n",
       "      <th>Installs</th>\n",
       "      <th>Type</th>\n",
       "      <th>Price</th>\n",
       "      <th>Content Rating</th>\n",
       "      <th>Genres</th>\n",
       "      <th>Last Updated</th>\n",
       "      <th>Current Ver</th>\n",
       "      <th>Android Ver</th>\n",
       "      <th>review_group</th>\n",
       "    </tr>\n",
       "  </thead>\n",
       "  <tbody>\n",
       "    <tr>\n",
       "      <th>App</th>\n",
       "      <td>1.000</td>\n",
       "      <td>-0.190</td>\n",
       "      <td>0.803</td>\n",
       "      <td>0.121</td>\n",
       "      <td>-0.247</td>\n",
       "      <td>-0.228</td>\n",
       "      <td>-0.189</td>\n",
       "      <td>-0.208</td>\n",
       "      <td>-0.114</td>\n",
       "      <td>0.511</td>\n",
       "      <td>0.689</td>\n",
       "      <td>-0.043</td>\n",
       "      <td>0.013</td>\n",
       "    </tr>\n",
       "    <tr>\n",
       "      <th>Category</th>\n",
       "      <td>-0.190</td>\n",
       "      <td>1.000</td>\n",
       "      <td>-0.118</td>\n",
       "      <td>-0.253</td>\n",
       "      <td>-0.192</td>\n",
       "      <td>-0.212</td>\n",
       "      <td>-0.226</td>\n",
       "      <td>-0.026</td>\n",
       "      <td>0.794</td>\n",
       "      <td>-0.233</td>\n",
       "      <td>-0.153</td>\n",
       "      <td>-0.236</td>\n",
       "      <td>-0.110</td>\n",
       "    </tr>\n",
       "    <tr>\n",
       "      <th>Reviews</th>\n",
       "      <td>0.803</td>\n",
       "      <td>-0.118</td>\n",
       "      <td>1.000</td>\n",
       "      <td>-0.036</td>\n",
       "      <td>-0.168</td>\n",
       "      <td>-0.435</td>\n",
       "      <td>-0.418</td>\n",
       "      <td>-0.063</td>\n",
       "      <td>-0.027</td>\n",
       "      <td>0.150</td>\n",
       "      <td>0.692</td>\n",
       "      <td>-0.192</td>\n",
       "      <td>0.517</td>\n",
       "    </tr>\n",
       "    <tr>\n",
       "      <th>Size</th>\n",
       "      <td>0.121</td>\n",
       "      <td>-0.253</td>\n",
       "      <td>-0.036</td>\n",
       "      <td>1.000</td>\n",
       "      <td>-0.267</td>\n",
       "      <td>-0.039</td>\n",
       "      <td>-0.043</td>\n",
       "      <td>-0.234</td>\n",
       "      <td>-0.132</td>\n",
       "      <td>0.252</td>\n",
       "      <td>0.178</td>\n",
       "      <td>0.140</td>\n",
       "      <td>-0.322</td>\n",
       "    </tr>\n",
       "    <tr>\n",
       "      <th>Installs</th>\n",
       "      <td>-0.247</td>\n",
       "      <td>-0.192</td>\n",
       "      <td>-0.168</td>\n",
       "      <td>-0.267</td>\n",
       "      <td>1.000</td>\n",
       "      <td>-0.214</td>\n",
       "      <td>-0.226</td>\n",
       "      <td>0.069</td>\n",
       "      <td>-0.291</td>\n",
       "      <td>-0.346</td>\n",
       "      <td>-0.188</td>\n",
       "      <td>-0.236</td>\n",
       "      <td>0.256</td>\n",
       "    </tr>\n",
       "    <tr>\n",
       "      <th>Type</th>\n",
       "      <td>-0.228</td>\n",
       "      <td>-0.212</td>\n",
       "      <td>-0.435</td>\n",
       "      <td>-0.039</td>\n",
       "      <td>-0.214</td>\n",
       "      <td>1.000</td>\n",
       "      <td>0.950</td>\n",
       "      <td>-0.300</td>\n",
       "      <td>-0.115</td>\n",
       "      <td>0.120</td>\n",
       "      <td>-0.347</td>\n",
       "      <td>0.142</td>\n",
       "      <td>-0.474</td>\n",
       "    </tr>\n",
       "    <tr>\n",
       "      <th>Price</th>\n",
       "      <td>-0.189</td>\n",
       "      <td>-0.226</td>\n",
       "      <td>-0.418</td>\n",
       "      <td>-0.043</td>\n",
       "      <td>-0.226</td>\n",
       "      <td>0.950</td>\n",
       "      <td>1.000</td>\n",
       "      <td>-0.287</td>\n",
       "      <td>-0.176</td>\n",
       "      <td>0.151</td>\n",
       "      <td>-0.339</td>\n",
       "      <td>0.166</td>\n",
       "      <td>-0.469</td>\n",
       "    </tr>\n",
       "    <tr>\n",
       "      <th>Content Rating</th>\n",
       "      <td>-0.208</td>\n",
       "      <td>-0.026</td>\n",
       "      <td>-0.063</td>\n",
       "      <td>-0.234</td>\n",
       "      <td>0.069</td>\n",
       "      <td>-0.300</td>\n",
       "      <td>-0.287</td>\n",
       "      <td>1.000</td>\n",
       "      <td>-0.057</td>\n",
       "      <td>-0.341</td>\n",
       "      <td>-0.168</td>\n",
       "      <td>-0.311</td>\n",
       "      <td>0.209</td>\n",
       "    </tr>\n",
       "    <tr>\n",
       "      <th>Genres</th>\n",
       "      <td>-0.114</td>\n",
       "      <td>0.794</td>\n",
       "      <td>-0.027</td>\n",
       "      <td>-0.132</td>\n",
       "      <td>-0.291</td>\n",
       "      <td>-0.115</td>\n",
       "      <td>-0.176</td>\n",
       "      <td>-0.057</td>\n",
       "      <td>1.000</td>\n",
       "      <td>-0.106</td>\n",
       "      <td>-0.125</td>\n",
       "      <td>-0.302</td>\n",
       "      <td>-0.095</td>\n",
       "    </tr>\n",
       "    <tr>\n",
       "      <th>Last Updated</th>\n",
       "      <td>0.511</td>\n",
       "      <td>-0.233</td>\n",
       "      <td>0.150</td>\n",
       "      <td>0.252</td>\n",
       "      <td>-0.346</td>\n",
       "      <td>0.120</td>\n",
       "      <td>0.151</td>\n",
       "      <td>-0.341</td>\n",
       "      <td>-0.106</td>\n",
       "      <td>1.000</td>\n",
       "      <td>0.091</td>\n",
       "      <td>0.130</td>\n",
       "      <td>-0.413</td>\n",
       "    </tr>\n",
       "    <tr>\n",
       "      <th>Current Ver</th>\n",
       "      <td>0.689</td>\n",
       "      <td>-0.153</td>\n",
       "      <td>0.692</td>\n",
       "      <td>0.178</td>\n",
       "      <td>-0.188</td>\n",
       "      <td>-0.347</td>\n",
       "      <td>-0.339</td>\n",
       "      <td>-0.168</td>\n",
       "      <td>-0.125</td>\n",
       "      <td>0.091</td>\n",
       "      <td>1.000</td>\n",
       "      <td>-0.015</td>\n",
       "      <td>0.184</td>\n",
       "    </tr>\n",
       "    <tr>\n",
       "      <th>Android Ver</th>\n",
       "      <td>-0.043</td>\n",
       "      <td>-0.236</td>\n",
       "      <td>-0.192</td>\n",
       "      <td>0.140</td>\n",
       "      <td>-0.236</td>\n",
       "      <td>0.142</td>\n",
       "      <td>0.166</td>\n",
       "      <td>-0.311</td>\n",
       "      <td>-0.302</td>\n",
       "      <td>0.130</td>\n",
       "      <td>-0.015</td>\n",
       "      <td>1.000</td>\n",
       "      <td>-0.291</td>\n",
       "    </tr>\n",
       "    <tr>\n",
       "      <th>review_group</th>\n",
       "      <td>0.013</td>\n",
       "      <td>-0.110</td>\n",
       "      <td>0.517</td>\n",
       "      <td>-0.322</td>\n",
       "      <td>0.256</td>\n",
       "      <td>-0.474</td>\n",
       "      <td>-0.469</td>\n",
       "      <td>0.209</td>\n",
       "      <td>-0.095</td>\n",
       "      <td>-0.413</td>\n",
       "      <td>0.184</td>\n",
       "      <td>-0.291</td>\n",
       "      <td>1.000</td>\n",
       "    </tr>\n",
       "  </tbody>\n",
       "</table>\n",
       "</div>"
      ],
      "text/plain": [
       "                  App  Category  Reviews   Size  Installs   Type  Price  \\\n",
       "App             1.000    -0.190    0.803  0.121    -0.247 -0.228 -0.189   \n",
       "Category       -0.190     1.000   -0.118 -0.253    -0.192 -0.212 -0.226   \n",
       "Reviews         0.803    -0.118    1.000 -0.036    -0.168 -0.435 -0.418   \n",
       "Size            0.121    -0.253   -0.036  1.000    -0.267 -0.039 -0.043   \n",
       "Installs       -0.247    -0.192   -0.168 -0.267     1.000 -0.214 -0.226   \n",
       "Type           -0.228    -0.212   -0.435 -0.039    -0.214  1.000  0.950   \n",
       "Price          -0.189    -0.226   -0.418 -0.043    -0.226  0.950  1.000   \n",
       "Content Rating -0.208    -0.026   -0.063 -0.234     0.069 -0.300 -0.287   \n",
       "Genres         -0.114     0.794   -0.027 -0.132    -0.291 -0.115 -0.176   \n",
       "Last Updated    0.511    -0.233    0.150  0.252    -0.346  0.120  0.151   \n",
       "Current Ver     0.689    -0.153    0.692  0.178    -0.188 -0.347 -0.339   \n",
       "Android Ver    -0.043    -0.236   -0.192  0.140    -0.236  0.142  0.166   \n",
       "review_group    0.013    -0.110    0.517 -0.322     0.256 -0.474 -0.469   \n",
       "\n",
       "                Content Rating  Genres  Last Updated  Current Ver  \\\n",
       "App                     -0.208  -0.114         0.511        0.689   \n",
       "Category                -0.026   0.794        -0.233       -0.153   \n",
       "Reviews                 -0.063  -0.027         0.150        0.692   \n",
       "Size                    -0.234  -0.132         0.252        0.178   \n",
       "Installs                 0.069  -0.291        -0.346       -0.188   \n",
       "Type                    -0.300  -0.115         0.120       -0.347   \n",
       "Price                   -0.287  -0.176         0.151       -0.339   \n",
       "Content Rating           1.000  -0.057        -0.341       -0.168   \n",
       "Genres                  -0.057   1.000        -0.106       -0.125   \n",
       "Last Updated            -0.341  -0.106         1.000        0.091   \n",
       "Current Ver             -0.168  -0.125         0.091        1.000   \n",
       "Android Ver             -0.311  -0.302         0.130       -0.015   \n",
       "review_group             0.209  -0.095        -0.413        0.184   \n",
       "\n",
       "                Android Ver  review_group  \n",
       "App                  -0.043         0.013  \n",
       "Category             -0.236        -0.110  \n",
       "Reviews              -0.192         0.517  \n",
       "Size                  0.140        -0.322  \n",
       "Installs             -0.236         0.256  \n",
       "Type                  0.142        -0.474  \n",
       "Price                 0.166        -0.469  \n",
       "Content Rating       -0.311         0.209  \n",
       "Genres               -0.302        -0.095  \n",
       "Last Updated          0.130        -0.413  \n",
       "Current Ver          -0.015         0.184  \n",
       "Android Ver           1.000        -0.291  \n",
       "review_group         -0.291         1.000  "
      ]
     },
     "execution_count": 32,
     "metadata": {},
     "output_type": "execute_result"
    },
    {
     "data": {
      "image/png": "[encoded data removed]",
      "text/plain": [
       "<Figure size 1080x576 with 2 Axes>"
      ]
     },
     "metadata": {
      "needs_background": "light"
     },
     "output_type": "display_data"
    }
   ],
   "source": [
    "## confusion matriz with seaborn\n",
    "corr = cat_coor.corr()\n",
    "plt.figure(figsize=(15,8))\n",
    "\n",
    "sns.heatmap(corr,\n",
    "            xticklabels=corr.columns.values,\n",
    "            yticklabels=corr.columns.values,annot=True)\n",
    "\n",
    "corr"
   ]
  },
  {
   "cell_type": "markdown",
   "metadata": {},
   "source": [
    "### Plotting scatterplots with target"
   ]
  },
  {
   "cell_type": "code",
   "execution_count": 33,
   "metadata": {},
   "outputs": [],
   "source": [
    "def scatter_plot_target(column_names, target):\n",
    "    for column_name in column_names:\n",
    "        plt.scatter(df[column_name], df[target])\n",
    "        plt.show()"
   ]
  },
  {
   "cell_type": "markdown",
   "metadata": {},
   "source": [
    "## Export Dataset"
   ]
  },
  {
   "cell_type": "code",
   "execution_count": 34,
   "metadata": {},
   "outputs": [],
   "source": [
    "df.to_csv('datasets/TestDataAnalysis.csv', index=False)"
   ]
  },
  {
   "cell_type": "code",
   "execution_count": null,
   "metadata": {},
   "outputs": [],
   "source": []
  }
 ],
 "metadata": {
  "kernelspec": {
   "display_name": "Python 3",
   "language": "python",
   "name": "python3"
  },
  "language_info": {
   "codemirror_mode": {
    "name": "ipython",
    "version": 3
   },
   "file_extension": ".py",
   "mimetype": "text/x-python",
   "name": "python",
   "nbconvert_exporter": "python",
   "pygments_lexer": "ipython3",
   "version": "3.9.5"
  }
 },
 "nbformat": 4,
 "nbformat_minor": 4
}
