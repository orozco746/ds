{
 "cells": [
  {
   "cell_type": "markdown",
   "id": "imposed-harrison",
   "metadata": {},
   "source": [
    "# Ensemble Learning\n",
    "### 3 tipos de EL:\n",
    "1. Ensemble / Bagging Model ==> Aggregating\n",
    "2. Stacking Model\n",
    "    - aprendices nivel 0 == combinacion de modelos \n",
    "    - Modelo de nivel 1 == Meta-learner ==> votación, la predicción más común\n",
    "3. Boosting Model"
   ]
  },
  {
   "cell_type": "code",
   "execution_count": 1,
   "id": "documented-ballet",
   "metadata": {},
   "outputs": [],
   "source": [
    "import pandas as pd\n",
    "import numpy as np\n",
    "from matplotlib import pyplot as plt\n"
   ]
  },
  {
   "cell_type": "code",
   "execution_count": 2,
   "id": "central-waterproof",
   "metadata": {},
   "outputs": [],
   "source": [
    "X_over_under_sample = pd.read_csv('datasets/X_oversample.csv')\n",
    "y_over_under_sample = pd.read_csv('datasets/y_oversample.csv')\n",
    "X_test = pd.read_csv('datasets/TestEncoded.csv')\n",
    "X_train, y_train = X_over_under_sample, y_over_under_sample"
   ]
  },
  {
   "cell_type": "code",
   "execution_count": 3,
   "id": "documented-equity",
   "metadata": {},
   "outputs": [],
   "source": [
    "from sklearn.ensemble import StackingClassifier\n",
    "\n",
    "from sklearn.neighbors import KNeighborsClassifier\n",
    "from sklearn.linear_model import LogisticRegression\n",
    "from sklearn.linear_model import RidgeClassifier\n",
    "from sklearn.linear_model import SGDClassifier\n",
    "from sklearn.linear_model import PassiveAggressiveClassifier\n",
    "from sklearn.tree import DecisionTreeClassifier\n",
    "from sklearn.tree import ExtraTreeClassifier\n",
    "from sklearn.svm import LinearSVC\n",
    "from sklearn.svm import SVC\n",
    "from sklearn.naive_bayes import GaussianNB\n",
    "from sklearn.ensemble import AdaBoostClassifier\n",
    "from sklearn.ensemble import BaggingClassifier\n",
    "from sklearn.ensemble import RandomForestClassifier\n",
    "from sklearn.ensemble import ExtraTreesClassifier\n",
    "from sklearn.gaussian_process import GaussianProcessClassifier\n",
    "from sklearn.ensemble import GradientBoostingClassifier\n",
    "from sklearn.discriminant_analysis import LinearDiscriminantAnalysis\n",
    "from sklearn.discriminant_analysis import QuadraticDiscriminantAnalysis\n",
    "from lightgbm import LGBMClassifier\n",
    "from catboost import CatBoostClassifier\n",
    "from xgboost import XGBClassifier\n",
    "\n",
    "def get_models():\n",
    "    models = dict() #list() # append\n",
    "    models.update({'KNeighborsClassifier': KNeighborsClassifier()})\n",
    "    models.update({'LogisticRegression': LogisticRegression()})\n",
    "#     models.update({'RidgeClassifier': RidgeClassifier()})\n",
    "#     models.update({'SGDClassifier': SGDClassifier()})\n",
    "#     models.update({'PassiveAggressiveClassifier': PassiveAggressiveClassifier()})\n",
    "#     models.update({'DecisionTreeClassifier': DecisionTreeClassifier()})\n",
    "#     models.update({'ExtraTreeClassifier': ExtraTreeClassifier()})\n",
    "#     models.update({'LinearSVC': LinearSVC()})\n",
    "#     models.update({'SVC': SVC()})\n",
    "#     models.update({'GaussianNB': GaussianNB()})\n",
    "    models.update({'AdaBoostClassifier': AdaBoostClassifier()})\n",
    "    models.update({'BaggingClassifier': BaggingClassifier()})\n",
    "#     models.update({'RandomForestClassifier': RandomForestClassifier()})\n",
    "#     models.update({'ExtraTreesClassifier': ExtraTreesClassifier()})\n",
    "#     models.update({'GaussianProcessClassifier': GaussianProcessClassifier()})\n",
    "#     models.update({'GradientBoostingClassifier': GradientBoostingClassifier()})\n",
    "    models.update({'LinearDiscriminantAnalysis': LinearDiscriminantAnalysis()})\n",
    "#     models.update({'QuadraticDiscriminantAnalysis': QuadraticDiscriminantAnalysis()})\n",
    "    models.update({'LGBMClassifier': LGBMClassifier()})\n",
    "#     models.update({'CatBoostClassifier': CatBoostClassifier()})\n",
    "#     models.update({'XGBClassifier': XGBClassifier()})\n",
    "    return models\n",
    "models = get_models()"
   ]
  },
  {
   "cell_type": "code",
   "execution_count": 4,
   "id": "occupational-carter",
   "metadata": {},
   "outputs": [],
   "source": [
    "def get_stacking(): \n",
    "    level0 = list()\n",
    "    level0.append(('knn', KNeighborsClassifier))## crear el stacking de los modelos\n",
    "def get_stacking():\n",
    "    ## definir los modelos base\n",
    "    level0 = list()\n",
    "    level0.append(('knn', KNeighborsClassifier()))\n",
    "    level0.append(('lr', LogisticRegression()))\n",
    "    #level0.append(('dt', DecisionTreeClassifier()))\n",
    "    level0.append(('bgc', BaggingClassifier()))\n",
    "    level0.append(('ab', AdaBoostClassifier()))\n",
    "#     level0.append(('rf', RandomForestClassifier()))\n",
    "#     level0.append(('gp', GaussianProcessClassifier()))\n",
    "    level0.append(('ld', LinearDiscriminantAnalysis()))\n",
    "    level0.append(('lgb', LGBMClassifier()))\n",
    "#     level0.append(('cbc', CatBoostClassifier()))\n",
    "#     level0.append(('xgb', XGBClassifier()))\n",
    "#     level0.append(('gst', StackingClassifier()))\n",
    "    ## definir el metalearner\n",
    "    level1 = LogisticRegression()\n",
    "    \n",
    "    ## definir el stacking - ensemble \n",
    "    model = StackingClassifier(estimators= level0, final_estimator=level1, cv = 5)\n",
    "    return model"
   ]
  },
  {
   "cell_type": "code",
   "execution_count": 5,
   "id": "wooden-shaft",
   "metadata": {},
   "outputs": [],
   "source": [
    "from sklearn.model_selection import cross_val_score, RepeatedKFold, KFold\n",
    "\n",
    "def evaluate_model(model, X, y):\n",
    "    cv = KFold(n_splits=5)\n",
    "    scores = cross_val_score(model, X, y, scoring='f1', cv=cv, n_jobs=-1)\n",
    "    return scores"
   ]
  },
  {
   "cell_type": "code",
   "execution_count": 6,
   "id": "raised-metropolitan",
   "metadata": {},
   "outputs": [],
   "source": [
    "results,names = [ ], [ ]"
   ]
  },
  {
   "cell_type": "code",
   "execution_count": 7,
   "id": "sexual-compilation",
   "metadata": {},
   "outputs": [
    {
     "name": "stdout",
     "output_type": "stream",
     "text": [
      "KNeighborsClassifier, 0.5478071849796089, 0.276311535746753\n",
      "LogisticRegression, 0.5207275345828881, 0.28496089825987464\n",
      "AdaBoostClassifier, 0.6005889675207521, 0.3008058506190973\n",
      "BaggingClassifier, 0.6110878417265795, 0.3057332009410245\n",
      "LinearDiscriminantAnalysis, 0.6728810971212711, 0.33651856566911414\n",
      "LGBMClassifier, 0.6599226418671182, 0.33005261265455066\n"
     ]
    },
    {
     "data": {
      "image/png": "[encoded data removed]",
      "text/plain": [
       "<Figure size 432x288 with 1 Axes>"
      ]
     },
     "metadata": {
      "needs_background": "light"
     },
     "output_type": "display_data"
    }
   ],
   "source": [
    "for name, model in models.items():\n",
    "    scores = evaluate_model(model, X_over_under_sample, y_over_under_sample)\n",
    "    results.append(scores)\n",
    "    names.append(name)\n",
    "    print(f'{name}, {np.mean(scores)}, {np.std(scores)}')\n",
    "plt.boxplot(results, labels = names, showmeans= True)\n",
    "plt.show()"
   ]
  },
  {
   "cell_type": "code",
   "execution_count": 8,
   "id": "asian-person",
   "metadata": {},
   "outputs": [],
   "source": [
    "def get_models():\n",
    "    models = dict() #list() # append\n",
    "    models.update({'KNeighborsClassifier': KNeighborsClassifier()})\n",
    "    models.update({'LogisticRegression': LogisticRegression()})\n",
    "#     models.update({'RidgeClassifier': RidgeClassifier()})\n",
    "#     models.update({'SGDClassifier': SGDClassifier()})\n",
    "#     models.update({'PassiveAggressiveClassifier': PassiveAggressiveClassifier()})\n",
    "    #models.update({'DecisionTreeClassifier': DecisionTreeClassifier()})\n",
    "#     models.update({'ExtraTreeClassifier': ExtraTreeClassifier()})\n",
    "#     models.update({'LinearSVC': LinearSVC()})\n",
    "#     models.update({'SVC': SVC()})\n",
    "#     models.update({'GaussianNB': GaussianNB()})\n",
    "    models.update({'AdaBoostClassifier': AdaBoostClassifier()})\n",
    "    models.update({'BaggingClassifier': BaggingClassifier()})\n",
    "#     models.update({'RandomForestClassifier': RandomForestClassifier()})\n",
    "#     models.update({'ExtraTreesClassifier': ExtraTreesClassifier()})\n",
    "#     models.update({'GaussianProcessClassifier': GaussianProcessClassifier()})\n",
    "#     models.update({'GradientBoostingClassifier': GradientBoostingClassifier()})\n",
    "    models.update({'LinearDiscriminantAnalysis': LinearDiscriminantAnalysis()})\n",
    "#     models.update({'QuadraticDiscriminantAnalysis': QuadraticDiscriminantAnalysis()})\n",
    "    models.update({'LGBMClassifier': LGBMClassifier()})\n",
    "#     models.update({'CatBoostClassifier': CatBoostClassifier()})\n",
    "    #models.update({'XGBClassifier': XGBClassifier()})\n",
    "    models.update({'StackingClassifier': get_stacking()})\n",
    "    return models\n",
    "models = get_models()\n",
    "\n",
    "def get_stacking():\n",
    "    ## definir los modelos base\n",
    "    level0 = list()\n",
    "    level0.append(('knn', KNeighborsClassifier()))\n",
    "    level0.append(('lr', LogisticRegression()))\n",
    "    #level0.append(('dt', DecisionTreeClassifier()))\n",
    "    level0.append(('bgc', BaggingClassifier()))\n",
    "    level0.append(('ab', AdaBoostClassifier()))\n",
    "#     level0.append(('rf', RandomForestClassifier()))\n",
    "#     level0.append(('gp', GaussianProcessClassifier()))\n",
    "    level0.append(('ld', LinearDiscriminantAnalysis()))\n",
    "    level0.append(('lgb', LGBMClassifier()))\n",
    "#     level0.append(('cbc', CatBoostClassifier()))\n",
    "#     level0.append(('xgb', XGBClassifier()))\n",
    "#     level0.append(('gst', StackingClassifier()))\n",
    "    ## definir el metalearner\n",
    "    level1 = LogisticRegression()\n",
    "    \n",
    "    ## definir el stacking - ensemble \n",
    "    model = StackingClassifier(estimators= level0, final_estimator=level1, cv = 5)\n",
    "    return model"
   ]
  },
  {
   "cell_type": "code",
   "execution_count": 9,
   "id": "occupied-domestic",
   "metadata": {},
   "outputs": [],
   "source": [
    "models = get_models()"
   ]
  },
  {
   "cell_type": "code",
   "execution_count": 10,
   "id": "cathedral-detroit",
   "metadata": {},
   "outputs": [
    {
     "name": "stdout",
     "output_type": "stream",
     "text": [
      "KNeighborsClassifier, 0.5478071849796089, 0.276311535746753\n",
      "LogisticRegression, 0.5207275345828881, 0.28496089825987464\n",
      "AdaBoostClassifier, 0.6005889675207521, 0.3008058506190973\n",
      "BaggingClassifier, 0.6078516042555966, 0.3040790781020689\n",
      "LinearDiscriminantAnalysis, 0.6728810971212711, 0.33651856566911414\n",
      "LGBMClassifier, 0.6599226418671182, 0.33005261265455066\n",
      "StackingClassifier, 0.6797550567610903, 0.34007973043527007\n"
     ]
    },
    {
     "data": {
      "image/png": "[encoded data removed]",
      "text/plain": [
       "<Figure size 432x288 with 1 Axes>"
      ]
     },
     "metadata": {
      "needs_background": "light"
     },
     "output_type": "display_data"
    }
   ],
   "source": [
    "results,names = [ ], [ ]\n",
    "for name, model in models.items():\n",
    "    scores = evaluate_model(model, X_over_under_sample, y_over_under_sample)\n",
    "    results.append(scores)\n",
    "    names.append(name)\n",
    "    print(f'{name}, {np.mean(scores)}, {np.std(scores)}')\n",
    "\n",
    "    \n",
    "plt.boxplot(results, labels = names, showmeans= True)\n",
    "plt.show()"
   ]
  },
  {
   "cell_type": "code",
   "execution_count": 11,
   "id": "removed-shape",
   "metadata": {},
   "outputs": [],
   "source": [
    "model = get_stacking()"
   ]
  },
  {
   "cell_type": "code",
   "execution_count": 12,
   "id": "further-stadium",
   "metadata": {},
   "outputs": [
    {
     "name": "stderr",
     "output_type": "stream",
     "text": [
      "C:\\Users\\porta\\AppData\\Local\\Packages\\PythonSoftwareFoundation.Python.3.9_qbz5n2kfra8p0\\LocalCache\\local-packages\\Python39\\site-packages\\sklearn\\utils\\validation.py:63: DataConversionWarning: A column-vector y was passed when a 1d array was expected. Please change the shape of y to (n_samples, ), for example using ravel().\n",
      "  return f(*args, **kwargs)\n"
     ]
    },
    {
     "data": {
      "text/plain": [
       "StackingClassifier(cv=5,\n",
       "                   estimators=[('knn', KNeighborsClassifier()),\n",
       "                               ('lr', LogisticRegression()),\n",
       "                               ('bgc', BaggingClassifier()),\n",
       "                               ('ab', AdaBoostClassifier()),\n",
       "                               ('ld', LinearDiscriminantAnalysis()),\n",
       "                               ('lgb', LGBMClassifier())],\n",
       "                   final_estimator=LogisticRegression())"
      ]
     },
     "execution_count": 12,
     "metadata": {},
     "output_type": "execute_result"
    }
   ],
   "source": [
    "model.fit(X_over_under_sample, y_over_under_sample)"
   ]
  },
  {
   "cell_type": "code",
   "execution_count": 13,
   "id": "varying-expense",
   "metadata": {},
   "outputs": [],
   "source": [
    "y_pred = model.predict(X_test)"
   ]
  },
  {
   "cell_type": "code",
   "execution_count": 14,
   "id": "swiss-person",
   "metadata": {},
   "outputs": [],
   "source": [
    "def results_to_csv(file_name, y_pred):\n",
    "    model = pd.DataFrame({'id':list(range(1,len(y_pred)+1)),\n",
    "                        'rating': y_pred})\n",
    "    model.to_csv(f'results/{file_name}.csv', index = False)\n",
    "    return model"
   ]
  },
  {
   "cell_type": "code",
   "execution_count": 15,
   "id": "shared-newton",
   "metadata": {},
   "outputs": [
    {
     "data": {
      "text/html": [
       "<div>\n",
       "<style scoped>\n",
       "    .dataframe tbody tr th:only-of-type {\n",
       "        vertical-align: middle;\n",
       "    }\n",
       "\n",
       "    .dataframe tbody tr th {\n",
       "        vertical-align: top;\n",
       "    }\n",
       "\n",
       "    .dataframe thead th {\n",
       "        text-align: right;\n",
       "    }\n",
       "</style>\n",
       "<table border=\"1\" class=\"dataframe\">\n",
       "  <thead>\n",
       "    <tr style=\"text-align: right;\">\n",
       "      <th></th>\n",
       "      <th>id</th>\n",
       "      <th>rating</th>\n",
       "    </tr>\n",
       "  </thead>\n",
       "  <tbody>\n",
       "    <tr>\n",
       "      <th>0</th>\n",
       "      <td>1</td>\n",
       "      <td>1.0</td>\n",
       "    </tr>\n",
       "    <tr>\n",
       "      <th>1</th>\n",
       "      <td>2</td>\n",
       "      <td>1.0</td>\n",
       "    </tr>\n",
       "    <tr>\n",
       "      <th>2</th>\n",
       "      <td>3</td>\n",
       "      <td>1.0</td>\n",
       "    </tr>\n",
       "    <tr>\n",
       "      <th>3</th>\n",
       "      <td>4</td>\n",
       "      <td>1.0</td>\n",
       "    </tr>\n",
       "    <tr>\n",
       "      <th>4</th>\n",
       "      <td>5</td>\n",
       "      <td>1.0</td>\n",
       "    </tr>\n",
       "    <tr>\n",
       "      <th>...</th>\n",
       "      <td>...</td>\n",
       "      <td>...</td>\n",
       "    </tr>\n",
       "    <tr>\n",
       "      <th>1443</th>\n",
       "      <td>1444</td>\n",
       "      <td>1.0</td>\n",
       "    </tr>\n",
       "    <tr>\n",
       "      <th>1444</th>\n",
       "      <td>1445</td>\n",
       "      <td>1.0</td>\n",
       "    </tr>\n",
       "    <tr>\n",
       "      <th>1445</th>\n",
       "      <td>1446</td>\n",
       "      <td>1.0</td>\n",
       "    </tr>\n",
       "    <tr>\n",
       "      <th>1446</th>\n",
       "      <td>1447</td>\n",
       "      <td>1.0</td>\n",
       "    </tr>\n",
       "    <tr>\n",
       "      <th>1447</th>\n",
       "      <td>1448</td>\n",
       "      <td>1.0</td>\n",
       "    </tr>\n",
       "  </tbody>\n",
       "</table>\n",
       "<p>1448 rows × 2 columns</p>\n",
       "</div>"
      ],
      "text/plain": [
       "        id  rating\n",
       "0        1     1.0\n",
       "1        2     1.0\n",
       "2        3     1.0\n",
       "3        4     1.0\n",
       "4        5     1.0\n",
       "...    ...     ...\n",
       "1443  1444     1.0\n",
       "1444  1445     1.0\n",
       "1445  1446     1.0\n",
       "1446  1447     1.0\n",
       "1447  1448     1.0\n",
       "\n",
       "[1448 rows x 2 columns]"
      ]
     },
     "execution_count": 15,
     "metadata": {},
     "output_type": "execute_result"
    }
   ],
   "source": [
    "results_to_csv(f'StackingClassifier - {2}', y_pred)"
   ]
  },
  {
   "cell_type": "code",
   "execution_count": null,
   "id": "natural-acrylic",
   "metadata": {},
   "outputs": [],
   "source": []
  }
 ],
 "metadata": {
  "kernelspec": {
   "display_name": "Python 3",
   "language": "python",
   "name": "python3"
  },
  "language_info": {
   "codemirror_mode": {
    "name": "ipython",
    "version": 3
   },
   "file_extension": ".py",
   "mimetype": "text/x-python",
   "name": "python",
   "nbconvert_exporter": "python",
   "pygments_lexer": "ipython3",
   "version": "3.9.5"
  }
 },
 "nbformat": 4,
 "nbformat_minor": 5
}
