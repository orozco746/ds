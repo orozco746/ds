{
 "cells": [
  {
   "cell_type": "markdown",
   "metadata": {},
   "source": [
    "# 1.1- EDAs - Train.csv"
   ]
  },
  {
   "cell_type": "code",
   "execution_count": 1,
   "metadata": {},
   "outputs": [],
   "source": [
    "import pandas as pd\n",
    "from matplotlib import pyplot as plt\n",
    "import seaborn as sns\n",
    "\n",
    "## 'display.float_format' is to change cientific notation. el '%.3f' es para que x tenga sólo 3 decimales. \n",
    "pd.set_option('display.float_format', lambda x: '%.3f' % x)"
   ]
  },
  {
   "cell_type": "code",
   "execution_count": 2,
   "metadata": {},
   "outputs": [],
   "source": [
    "# importar el dataset de Train.csv\n",
    "df = pd.read_csv(\"datasets/Train.csv\")"
   ]
  },
  {
   "cell_type": "code",
   "execution_count": 3,
   "metadata": {},
   "outputs": [
    {
     "data": {
      "text/html": [
       "<div>\n",
       "<style scoped>\n",
       "    .dataframe tbody tr th:only-of-type {\n",
       "        vertical-align: middle;\n",
       "    }\n",
       "\n",
       "    .dataframe tbody tr th {\n",
       "        vertical-align: top;\n",
       "    }\n",
       "\n",
       "    .dataframe thead th {\n",
       "        text-align: right;\n",
       "    }\n",
       "</style>\n",
       "<table border=\"1\" class=\"dataframe\">\n",
       "  <thead>\n",
       "    <tr style=\"text-align: right;\">\n",
       "      <th></th>\n",
       "      <th>ID</th>\n",
       "      <th>App</th>\n",
       "      <th>Category</th>\n",
       "      <th>Rating</th>\n",
       "      <th>Reviews</th>\n",
       "      <th>Size</th>\n",
       "      <th>Installs</th>\n",
       "      <th>Type</th>\n",
       "      <th>Price</th>\n",
       "      <th>Content Rating</th>\n",
       "      <th>Genres</th>\n",
       "      <th>Last Updated</th>\n",
       "      <th>Current Ver</th>\n",
       "      <th>Android Ver</th>\n",
       "    </tr>\n",
       "  </thead>\n",
       "  <tbody>\n",
       "    <tr>\n",
       "      <th>0</th>\n",
       "      <td>0</td>\n",
       "      <td>GPS Status &amp; Toolbox</td>\n",
       "      <td>TRAVEL_AND_LOCAL</td>\n",
       "      <td>1.000</td>\n",
       "      <td>149723</td>\n",
       "      <td>4.1M</td>\n",
       "      <td>10,000,000+</td>\n",
       "      <td>Free</td>\n",
       "      <td>0</td>\n",
       "      <td>Everyone</td>\n",
       "      <td>Travel &amp; Local</td>\n",
       "      <td>June 13, 2018</td>\n",
       "      <td>8.1.171</td>\n",
       "      <td>4.0 and up</td>\n",
       "    </tr>\n",
       "    <tr>\n",
       "      <th>1</th>\n",
       "      <td>1</td>\n",
       "      <td>Fish|Hunt FL</td>\n",
       "      <td>LIFESTYLE</td>\n",
       "      <td>0.000</td>\n",
       "      <td>853</td>\n",
       "      <td>34M</td>\n",
       "      <td>100,000+</td>\n",
       "      <td>Free</td>\n",
       "      <td>0</td>\n",
       "      <td>Everyone</td>\n",
       "      <td>Lifestyle</td>\n",
       "      <td>March 22, 2018</td>\n",
       "      <td>3.2.0</td>\n",
       "      <td>4.1 and up</td>\n",
       "    </tr>\n",
       "    <tr>\n",
       "      <th>2</th>\n",
       "      <td>2</td>\n",
       "      <td>Allrecipes Dinner Spinner</td>\n",
       "      <td>FOOD_AND_DRINK</td>\n",
       "      <td>1.000</td>\n",
       "      <td>61881</td>\n",
       "      <td>Varies with device</td>\n",
       "      <td>5,000,000+</td>\n",
       "      <td>Free</td>\n",
       "      <td>0</td>\n",
       "      <td>Everyone</td>\n",
       "      <td>Food &amp; Drink</td>\n",
       "      <td>April 10, 2018</td>\n",
       "      <td>Varies with device</td>\n",
       "      <td>Varies with device</td>\n",
       "    </tr>\n",
       "    <tr>\n",
       "      <th>3</th>\n",
       "      <td>3</td>\n",
       "      <td>Don't touch my phone</td>\n",
       "      <td>TOOLS</td>\n",
       "      <td>0.000</td>\n",
       "      <td>21943</td>\n",
       "      <td>2.3M</td>\n",
       "      <td>5,000,000+</td>\n",
       "      <td>Free</td>\n",
       "      <td>0</td>\n",
       "      <td>Everyone</td>\n",
       "      <td>Tools</td>\n",
       "      <td>October 19, 2016</td>\n",
       "      <td>30</td>\n",
       "      <td>2.3 and up</td>\n",
       "    </tr>\n",
       "    <tr>\n",
       "      <th>4</th>\n",
       "      <td>4</td>\n",
       "      <td>BM SPM Practice</td>\n",
       "      <td>FAMILY</td>\n",
       "      <td>1.000</td>\n",
       "      <td>6</td>\n",
       "      <td>9.2M</td>\n",
       "      <td>1,000+</td>\n",
       "      <td>Free</td>\n",
       "      <td>0</td>\n",
       "      <td>Everyone</td>\n",
       "      <td>Education</td>\n",
       "      <td>January 24, 2018</td>\n",
       "      <td>1.0</td>\n",
       "      <td>4.1 and up</td>\n",
       "    </tr>\n",
       "  </tbody>\n",
       "</table>\n",
       "</div>"
      ],
      "text/plain": [
       "   ID                        App          Category  Rating  Reviews  \\\n",
       "0   0       GPS Status & Toolbox  TRAVEL_AND_LOCAL   1.000   149723   \n",
       "1   1               Fish|Hunt FL         LIFESTYLE   0.000      853   \n",
       "2   2  Allrecipes Dinner Spinner    FOOD_AND_DRINK   1.000    61881   \n",
       "3   3       Don't touch my phone             TOOLS   0.000    21943   \n",
       "4   4            BM SPM Practice            FAMILY   1.000        6   \n",
       "\n",
       "                 Size     Installs  Type Price Content Rating          Genres  \\\n",
       "0                4.1M  10,000,000+  Free     0       Everyone  Travel & Local   \n",
       "1                 34M     100,000+  Free     0       Everyone       Lifestyle   \n",
       "2  Varies with device   5,000,000+  Free     0       Everyone    Food & Drink   \n",
       "3                2.3M   5,000,000+  Free     0       Everyone           Tools   \n",
       "4                9.2M       1,000+  Free     0       Everyone       Education   \n",
       "\n",
       "       Last Updated         Current Ver         Android Ver  \n",
       "0     June 13, 2018             8.1.171          4.0 and up  \n",
       "1    March 22, 2018               3.2.0          4.1 and up  \n",
       "2    April 10, 2018  Varies with device  Varies with device  \n",
       "3  October 19, 2016                  30          2.3 and up  \n",
       "4  January 24, 2018                 1.0          4.1 and up  "
      ]
     },
     "execution_count": 3,
     "metadata": {},
     "output_type": "execute_result"
    }
   ],
   "source": [
    "# mirar los nombres de las columnas\n",
    "df.head()\n",
    "\n",
    "# la variable objetivo sería predecir Rating"
   ]
  },
  {
   "cell_type": "code",
   "execution_count": 4,
   "metadata": {},
   "outputs": [
    {
     "data": {
      "text/plain": [
       "(5788, 14)"
      ]
     },
     "execution_count": 4,
     "metadata": {},
     "output_type": "execute_result"
    }
   ],
   "source": [
    "df.shape"
   ]
  },
  {
   "cell_type": "markdown",
   "metadata": {},
   "source": [
    "* ID = Unique Application Identifier \n",
    "* App = Name of the application\n",
    "* Category = Application category \n",
    "* Reviews = Number of reviews of the application \n",
    "* Size = Size of the application \n",
    "* Installs = Number of downloads/installations on the computer\n",
    "* Type = Free or Paid\n",
    "* Price = Price of the application in dollars\n",
    "* Content rating = Content rating\n",
    "* Genres = Gender\n",
    "* Last Updated = Last day to update \n",
    "* Current Ver = Current version of the application \n",
    "* Android View = Required Android Version\n",
    "* Rating = Application Rating, if the avg rat >=4 => Rating = 1, else: Rating  = 0"
   ]
  },
  {
   "cell_type": "markdown",
   "metadata": {},
   "source": [
    "## EDAs content\n",
    "\n",
    "1. Initial descriptions. Unique values on each categorical feature. Histograms, distributions of all columns\n",
    "2. Correlation matrix with price (target var)\n",
    "3. Plotting scatterplots\n",
    "\n",
    "### 1. Initial descriptions. Unique values on each categorical feature. Histograms, distributions of all columns"
   ]
  },
  {
   "cell_type": "code",
   "execution_count": 5,
   "metadata": {},
   "outputs": [
    {
     "data": {
      "text/plain": [
       "ID                  int64\n",
       "App                object\n",
       "Category           object\n",
       "Rating            float64\n",
       "Reviews             int64\n",
       "Size               object\n",
       "Installs           object\n",
       "Type               object\n",
       "Price              object\n",
       "Content Rating     object\n",
       "Genres             object\n",
       "Last Updated       object\n",
       "Current Ver        object\n",
       "Android Ver        object\n",
       "dtype: object"
      ]
     },
     "execution_count": 5,
     "metadata": {},
     "output_type": "execute_result"
    }
   ],
   "source": [
    "## To see the data types\n",
    "df.dtypes"
   ]
  },
  {
   "cell_type": "code",
   "execution_count": 6,
   "metadata": {},
   "outputs": [],
   "source": [
    "## delete Id columns\n",
    "df.drop('ID', axis=1, inplace=True)"
   ]
  },
  {
   "cell_type": "code",
   "execution_count": 7,
   "metadata": {},
   "outputs": [
    {
     "data": {
      "text/html": [
       "<div>\n",
       "<style scoped>\n",
       "    .dataframe tbody tr th:only-of-type {\n",
       "        vertical-align: middle;\n",
       "    }\n",
       "\n",
       "    .dataframe tbody tr th {\n",
       "        vertical-align: top;\n",
       "    }\n",
       "\n",
       "    .dataframe thead th {\n",
       "        text-align: right;\n",
       "    }\n",
       "</style>\n",
       "<table border=\"1\" class=\"dataframe\">\n",
       "  <thead>\n",
       "    <tr style=\"text-align: right;\">\n",
       "      <th></th>\n",
       "      <th>Rating</th>\n",
       "      <th>Reviews</th>\n",
       "    </tr>\n",
       "  </thead>\n",
       "  <tbody>\n",
       "    <tr>\n",
       "      <th>count</th>\n",
       "      <td>5788.000</td>\n",
       "      <td>5788.000</td>\n",
       "    </tr>\n",
       "    <tr>\n",
       "      <th>mean</th>\n",
       "      <td>0.746</td>\n",
       "      <td>234145.160</td>\n",
       "    </tr>\n",
       "    <tr>\n",
       "      <th>std</th>\n",
       "      <td>0.435</td>\n",
       "      <td>2174468.934</td>\n",
       "    </tr>\n",
       "    <tr>\n",
       "      <th>min</th>\n",
       "      <td>0.000</td>\n",
       "      <td>0.000</td>\n",
       "    </tr>\n",
       "    <tr>\n",
       "      <th>25%</th>\n",
       "      <td>0.000</td>\n",
       "      <td>23.000</td>\n",
       "    </tr>\n",
       "    <tr>\n",
       "      <th>50%</th>\n",
       "      <td>1.000</td>\n",
       "      <td>889.000</td>\n",
       "    </tr>\n",
       "    <tr>\n",
       "      <th>75%</th>\n",
       "      <td>1.000</td>\n",
       "      <td>26432.500</td>\n",
       "    </tr>\n",
       "    <tr>\n",
       "      <th>max</th>\n",
       "      <td>1.000</td>\n",
       "      <td>78158306.000</td>\n",
       "    </tr>\n",
       "  </tbody>\n",
       "</table>\n",
       "</div>"
      ],
      "text/plain": [
       "        Rating      Reviews\n",
       "count 5788.000     5788.000\n",
       "mean     0.746   234145.160\n",
       "std      0.435  2174468.934\n",
       "min      0.000        0.000\n",
       "25%      0.000       23.000\n",
       "50%      1.000      889.000\n",
       "75%      1.000    26432.500\n",
       "max      1.000 78158306.000"
      ]
     },
     "execution_count": 7,
     "metadata": {},
     "output_type": "execute_result"
    }
   ],
   "source": [
    "## to get a data visual\n",
    "df.describe()\n",
    "## sólo paarece las columnas int64\n"
   ]
  },
  {
   "cell_type": "code",
   "execution_count": 8,
   "metadata": {},
   "outputs": [
    {
     "data": {
      "text/html": [
       "<div>\n",
       "<style scoped>\n",
       "    .dataframe tbody tr th:only-of-type {\n",
       "        vertical-align: middle;\n",
       "    }\n",
       "\n",
       "    .dataframe tbody tr th {\n",
       "        vertical-align: top;\n",
       "    }\n",
       "\n",
       "    .dataframe thead th {\n",
       "        text-align: right;\n",
       "    }\n",
       "</style>\n",
       "<table border=\"1\" class=\"dataframe\">\n",
       "  <thead>\n",
       "    <tr style=\"text-align: right;\">\n",
       "      <th></th>\n",
       "      <th>App</th>\n",
       "      <th>Category</th>\n",
       "      <th>Size</th>\n",
       "      <th>Installs</th>\n",
       "      <th>Type</th>\n",
       "      <th>Price</th>\n",
       "      <th>Content Rating</th>\n",
       "      <th>Genres</th>\n",
       "      <th>Last Updated</th>\n",
       "      <th>Current Ver</th>\n",
       "      <th>Android Ver</th>\n",
       "    </tr>\n",
       "  </thead>\n",
       "  <tbody>\n",
       "    <tr>\n",
       "      <th>count</th>\n",
       "      <td>5788</td>\n",
       "      <td>5788</td>\n",
       "      <td>5788</td>\n",
       "      <td>5788</td>\n",
       "      <td>5788</td>\n",
       "      <td>5788</td>\n",
       "      <td>5788</td>\n",
       "      <td>5788</td>\n",
       "      <td>5788</td>\n",
       "      <td>5788</td>\n",
       "      <td>5788</td>\n",
       "    </tr>\n",
       "    <tr>\n",
       "      <th>unique</th>\n",
       "      <td>5788</td>\n",
       "      <td>33</td>\n",
       "      <td>358</td>\n",
       "      <td>20</td>\n",
       "      <td>2</td>\n",
       "      <td>68</td>\n",
       "      <td>6</td>\n",
       "      <td>107</td>\n",
       "      <td>1165</td>\n",
       "      <td>1947</td>\n",
       "      <td>31</td>\n",
       "    </tr>\n",
       "    <tr>\n",
       "      <th>top</th>\n",
       "      <td>Video.Guru - Video Maker</td>\n",
       "      <td>FAMILY</td>\n",
       "      <td>Varies with device</td>\n",
       "      <td>1,000,000+</td>\n",
       "      <td>Free</td>\n",
       "      <td>0</td>\n",
       "      <td>Everyone</td>\n",
       "      <td>Tools</td>\n",
       "      <td>August 3, 2018</td>\n",
       "      <td>Varies with device</td>\n",
       "      <td>4.1 and up</td>\n",
       "    </tr>\n",
       "    <tr>\n",
       "      <th>freq</th>\n",
       "      <td>1</td>\n",
       "      <td>1114</td>\n",
       "      <td>728</td>\n",
       "      <td>841</td>\n",
       "      <td>5323</td>\n",
       "      <td>5323</td>\n",
       "      <td>4764</td>\n",
       "      <td>507</td>\n",
       "      <td>145</td>\n",
       "      <td>620</td>\n",
       "      <td>1317</td>\n",
       "    </tr>\n",
       "  </tbody>\n",
       "</table>\n",
       "</div>"
      ],
      "text/plain": [
       "                             App Category                Size    Installs  \\\n",
       "count                       5788     5788                5788        5788   \n",
       "unique                      5788       33                 358          20   \n",
       "top     Video.Guru - Video Maker   FAMILY  Varies with device  1,000,000+   \n",
       "freq                           1     1114                 728         841   \n",
       "\n",
       "        Type Price Content Rating Genres    Last Updated         Current Ver  \\\n",
       "count   5788  5788           5788   5788            5788                5788   \n",
       "unique     2    68              6    107            1165                1947   \n",
       "top     Free     0       Everyone  Tools  August 3, 2018  Varies with device   \n",
       "freq    5323  5323           4764    507             145                 620   \n",
       "\n",
       "       Android Ver  \n",
       "count         5788  \n",
       "unique          31  \n",
       "top     4.1 and up  \n",
       "freq          1317  "
      ]
     },
     "execution_count": 8,
     "metadata": {},
     "output_type": "execute_result"
    }
   ],
   "source": [
    "## to get a data visual\n",
    "df.describe(include='object')"
   ]
  },
  {
   "cell_type": "code",
   "execution_count": 9,
   "metadata": {},
   "outputs": [
    {
     "data": {
      "text/plain": [
       "App               0\n",
       "Category          0\n",
       "Rating            0\n",
       "Reviews           0\n",
       "Size              0\n",
       "Installs          0\n",
       "Type              0\n",
       "Price             0\n",
       "Content Rating    0\n",
       "Genres            0\n",
       "Last Updated      0\n",
       "Current Ver       0\n",
       "Android Ver       0\n",
       "dtype: int64"
      ]
     },
     "execution_count": 9,
     "metadata": {},
     "output_type": "execute_result"
    }
   ],
   "source": [
    "## to explore nulls\n",
    "df.isnull().sum()"
   ]
  },
  {
   "cell_type": "markdown",
   "metadata": {},
   "source": [
    "## Value counts graphs\n",
    "\n",
    "This is usefull for low cardinal variables"
   ]
  },
  {
   "cell_type": "code",
   "execution_count": 10,
   "metadata": {},
   "outputs": [],
   "source": [
    "def value_counts_graphs(column_name):\n",
    "    label_freq = df[column_name].value_counts() / len(df) # la frecuencia de cada valor sobre la len para estandarizar\n",
    "    plotting = label_freq.plot.bar() ## plottear de mayor a menor\n",
    "    return label_freq, plotting   "
   ]
  },
  {
   "cell_type": "code",
   "execution_count": 11,
   "metadata": {},
   "outputs": [
    {
     "data": {
      "text/plain": [
       "(1.000   0.746\n",
       " 0.000   0.254\n",
       " Name: Rating, dtype: float64,\n",
       " <AxesSubplot:>)"
      ]
     },
     "execution_count": 11,
     "metadata": {},
     "output_type": "execute_result"
    },
    {
     "data": {
      "image/png": "[encoded data removed]",
      "text/plain": [
       "<Figure size 432x288 with 1 Axes>"
      ]
     },
     "metadata": {
      "needs_background": "light"
     },
     "output_type": "display_data"
    }
   ],
   "source": [
    "value_counts_graphs('Rating') ## el 74.6% es positivo el Rating, el 25.4% negativo."
   ]
  },
  {
   "cell_type": "code",
   "execution_count": 56,
   "metadata": {},
   "outputs": [
    {
     "data": {
      "text/plain": [
       "<AxesSubplot:>"
      ]
     },
     "execution_count": 56,
     "metadata": {},
     "output_type": "execute_result"
    },
    {
     "data": {
      "image/png": "[encoded data removed]",
      "text/plain": [
       "<Figure size 432x288 with 1 Axes>"
      ]
     },
     "metadata": {
      "needs_background": "light"
     },
     "output_type": "display_data"
    }
   ],
   "source": [
    "value_counts_graphs('Category') # la gran mayoría de los datos están como clase familia, juegos y herramientas."
   ]
  },
  {
   "cell_type": "code",
   "execution_count": 68,
   "metadata": {},
   "outputs": [
    {
     "data": {
      "text/plain": [
       "FAMILY                19.247\n",
       "GAME                  10.038\n",
       "TOOLS                  8.777\n",
       "BUSINESS               4.561\n",
       "MEDICAL                4.371\n",
       "PRODUCTIVITY           4.026\n",
       "LIFESTYLE              3.784\n",
       "PERSONALIZATION        3.663\n",
       "SPORTS                 3.628\n",
       "FINANCE                3.525\n",
       "COMMUNICATION          3.369\n",
       "HEALTH_AND_FITNESS     2.937\n",
       "PHOTOGRAPHY            2.799\n",
       "NEWS_AND_MAGAZINES     2.471\n",
       "SOCIAL                 2.315\n",
       "TRAVEL_AND_LOCAL       2.298\n",
       "BOOKS_AND_REFERENCE    2.056\n",
       "SHOPPING               1.831\n",
       "DATING                 1.728\n",
       "VIDEO_PLAYERS          1.624\n",
       "MAPS_AND_NAVIGATION    1.279\n",
       "EDUCATION              1.261\n",
       "FOOD_AND_DRINK         1.158\n",
       "ENTERTAINMENT          0.916\n",
       "AUTO_AND_VEHICLES      0.898\n",
       "LIBRARIES_AND_DEMO     0.847\n",
       "WEATHER                0.795\n",
       "HOUSE_AND_HOME         0.726\n",
       "EVENTS                 0.657\n",
       "PARENTING              0.657\n",
       "COMICS                 0.639\n",
       "BEAUTY                 0.570\n",
       "ART_AND_DESIGN         0.553\n",
       "Name: Category, dtype: float64"
      ]
     },
     "execution_count": 68,
     "metadata": {},
     "output_type": "execute_result"
    }
   ],
   "source": [
    "df.Category.value_counts()/df.shape[0]*100\n"
   ]
  },
  {
   "cell_type": "code",
   "execution_count": 59,
   "metadata": {},
   "outputs": [
    {
     "data": {
      "text/plain": [
       "(1,000,000+       0.145\n",
       " 100,000+         0.114\n",
       " 10,000+          0.108\n",
       " 10,000,000+      0.093\n",
       " 1,000+           0.093\n",
       " 100+             0.077\n",
       " 5,000,000+       0.062\n",
       " 500,000+         0.053\n",
       " 50,000+          0.051\n",
       " 5,000+           0.049\n",
       " 10+              0.041\n",
       " 500+             0.033\n",
       " 50+              0.021\n",
       " 50,000,000+      0.020\n",
       " 100,000,000+     0.020\n",
       " 5+               0.007\n",
       " 1+               0.006\n",
       " 500,000,000+     0.003\n",
       " 1,000,000,000+   0.002\n",
       " 0+               0.001\n",
       " Name: Installs, dtype: float64,\n",
       " <AxesSubplot:>)"
      ]
     },
     "execution_count": 59,
     "metadata": {},
     "output_type": "execute_result"
    },
    {
     "data": {
      "image/png": "[encoded data removed]",
      "text/plain": [
       "<Figure size 432x288 with 1 Axes>"
      ]
     },
     "metadata": {
      "needs_background": "light"
     },
     "output_type": "display_data"
    }
   ],
   "source": [
    "value_counts_graphs('Installs') ##muy uniforme, pero se observa que la media está cerca a 1M"
   ]
  },
  {
   "cell_type": "code",
   "execution_count": 14,
   "metadata": {},
   "outputs": [
    {
     "data": {
      "text/plain": [
       "(Free   0.920\n",
       " Paid   0.080\n",
       " Name: Type, dtype: float64,\n",
       " <AxesSubplot:>)"
      ]
     },
     "execution_count": 14,
     "metadata": {},
     "output_type": "execute_result"
    },
    {
     "data": {
      "image/png": "[encoded data removed]",
      "text/plain": [
       "<Figure size 432x288 with 1 Axes>"
      ]
     },
     "metadata": {
      "needs_background": "light"
     },
     "output_type": "display_data"
    }
   ],
   "source": [
    "##la mayor parte de las apps son gratis, pero hay que tener especial cuidado con las Paid,\n",
    "#ya que si alguien paga por una app y no cumple con sus expectativas es más probable que la califique negativamente.\n",
    "# pero tienden a ser más elaboradas.\n",
    "value_counts_graphs('Type')"
   ]
  },
  {
   "cell_type": "code",
   "execution_count": 81,
   "metadata": {},
   "outputs": [
    {
     "data": {
      "text/plain": [
       "(0         0.920\n",
       " $0.99     0.016\n",
       " $2.99     0.012\n",
       " $4.99     0.009\n",
       " $1.99     0.008\n",
       "            ... \n",
       " $16.99    0.000\n",
       " $19.40    0.000\n",
       " $109.99   0.000\n",
       " $1.96     0.000\n",
       " $89.99    0.000\n",
       " Name: Price, Length: 68, dtype: float64,\n",
       " <AxesSubplot:>)"
      ]
     },
     "execution_count": 81,
     "metadata": {},
     "output_type": "execute_result"
    },
    {
     "data": {
      "image/png": "[encoded data removed]",
      "text/plain": [
       "<Figure size 432x288 with 1 Axes>"
      ]
     },
     "metadata": {
      "needs_background": "light"
     },
     "output_type": "display_data"
    }
   ],
   "source": [
    "# has not much sense cuz there are too many free apps\n",
    "value_counts_graphs('Price')"
   ]
  },
  {
   "cell_type": "code",
   "execution_count": 15,
   "metadata": {},
   "outputs": [
    {
     "data": {
      "text/plain": [
       "(Everyone          0.823\n",
       " Teen              0.103\n",
       " Mature 17+        0.040\n",
       " Everyone 10+      0.033\n",
       " Adults only 18+   0.001\n",
       " Unrated           0.000\n",
       " Name: Content Rating, dtype: float64,\n",
       " <AxesSubplot:>)"
      ]
     },
     "execution_count": 15,
     "metadata": {},
     "output_type": "execute_result"
    },
    {
     "data": {
      "image/png": "[encoded data removed]",
      "text/plain": [
       "<Figure size 432x288 with 1 Axes>"
      ]
     },
     "metadata": {
      "needs_background": "light"
     },
     "output_type": "display_data"
    }
   ],
   "source": [
    "## no tiene mucha importancia, no relaciono el contenido en edad con la calificación\n",
    "value_counts_graphs('Content Rating')"
   ]
  },
  {
   "cell_type": "markdown",
   "metadata": {},
   "source": [
    "### Questions to Answer\n",
    "\n",
    "If ratings are 0 and 1, and 1 == 5 and 0 othe ones and that and taking into account that this is the Ratings distribution: \n",
    "\n",
    "```\n",
    "1   0.746\n",
    "0   0.254\n",
    "```\n",
    "\n",
    "What characteristics the cero ratings has? and what characteristics do the 1 rating has?\n",
    "\n",
    "* Which categories has more cero ratings and what more one ratings\n",
    "* What number of reviews has cero ratings and one ratings\n",
    "* What's the number of installs for zero ratings\n",
    "* What type do the zero ratings has?\n",
    "* What price do the zero ratings has?\n",
    "* What content ratring do the zero ratings has?\n",
    "* What genres do the zero ratings has?"
   ]
  },
  {
   "cell_type": "markdown",
   "metadata": {},
   "source": [
    "### Groupings, pivot tables and ploting\n",
    "\n",
    "This is usefull to see independent variables vs dependent variable."
   ]
  },
  {
   "cell_type": "code",
   "execution_count": 16,
   "metadata": {},
   "outputs": [
    {
     "data": {
      "text/plain": [
       "Index(['App', 'Category', 'Rating', 'Reviews', 'Size', 'Installs', 'Type',\n",
       "       'Price', 'Content Rating', 'Genres', 'Last Updated', 'Current Ver',\n",
       "       'Android Ver'],\n",
       "      dtype='object')"
      ]
     },
     "execution_count": 16,
     "metadata": {},
     "output_type": "execute_result"
    }
   ],
   "source": [
    "df.columns"
   ]
  },
  {
   "cell_type": "code",
   "execution_count": 72,
   "metadata": {},
   "outputs": [],
   "source": [
    "def groupby_var_target(df, column_name, target_name, title):\n",
    "    ## group by sum(ya que ratings es 1 o 0)/group by count(total) \n",
    "    groupby_var_target = df.groupby(\n",
    "        column_name)[target_name].sum() / df.groupby(\n",
    "        column_name)[target_name].count() * 100.0\n",
    "    \n",
    "    ## plot groupby\n",
    "    ax = groupby_var_target.sort_values(ascending=False).plot(\n",
    "        kind='bar',\n",
    "        color='skyblue',\n",
    "        grid=True,\n",
    "        figsize=(10, 7),\n",
    "        title=title\n",
    "    )\n",
    "    \n",
    "    return groupby_var_target, plt.show()"
   ]
  },
  {
   "cell_type": "code",
   "execution_count": 74,
   "metadata": {
    "scrolled": false
   },
   "outputs": [
    {
     "data": {
      "image/png": "[encoded data removed]",
      "text/plain": [
       "<Figure size 720x504 with 1 Axes>"
      ]
     },
     "metadata": {
      "needs_background": "light"
     },
     "output_type": "display_data"
    },
    {
     "data": {
      "text/plain": [
       "(Category\n",
       " ART_AND_DESIGN        78.125\n",
       " AUTO_AND_VEHICLES     67.308\n",
       " BEAUTY                75.758\n",
       " BOOKS_AND_REFERENCE   85.714\n",
       " BUSINESS              79.545\n",
       " COMICS                72.973\n",
       " COMMUNICATION         73.846\n",
       " DATING                65.000\n",
       " EDUCATION             89.041\n",
       " ENTERTAINMENT         64.151\n",
       " EVENTS                86.842\n",
       " FAMILY                72.711\n",
       " FINANCE               70.098\n",
       " FOOD_AND_DRINK        73.134\n",
       " GAME                  78.657\n",
       " HEALTH_AND_FITNESS    80.588\n",
       " HOUSE_AND_HOME        73.810\n",
       " LIBRARIES_AND_DEMO    67.347\n",
       " LIFESTYLE             65.753\n",
       " MAPS_AND_NAVIGATION   64.865\n",
       " MEDICAL               77.470\n",
       " NEWS_AND_MAGAZINES    74.126\n",
       " PARENTING             76.316\n",
       " PERSONALIZATION       89.151\n",
       " PHOTOGRAPHY           73.457\n",
       " PRODUCTIVITY          79.399\n",
       " SHOPPING              80.189\n",
       " SOCIAL                80.597\n",
       " SPORTS                77.143\n",
       " TOOLS                 66.535\n",
       " TRAVEL_AND_LOCAL      69.925\n",
       " VIDEO_PLAYERS         61.702\n",
       " WEATHER               69.565\n",
       " Name: Rating, dtype: float64,\n",
       " None)"
      ]
     },
     "execution_count": 74,
     "metadata": {},
     "output_type": "execute_result"
    }
   ],
   "source": [
    "## Family, that is the 20% of tha data, has a 72% mean(), same of the mean columns mean.\n",
    "groupby_var_target(df, 'Category', 'Rating', 'Category Vs Rating')"
   ]
  },
  {
   "cell_type": "code",
   "execution_count": 19,
   "metadata": {},
   "outputs": [
    {
     "data": {
      "text/html": [
       "<div>\n",
       "<style scoped>\n",
       "    .dataframe tbody tr th:only-of-type {\n",
       "        vertical-align: middle;\n",
       "    }\n",
       "\n",
       "    .dataframe tbody tr th {\n",
       "        vertical-align: top;\n",
       "    }\n",
       "\n",
       "    .dataframe thead th {\n",
       "        text-align: right;\n",
       "    }\n",
       "</style>\n",
       "<table border=\"1\" class=\"dataframe\">\n",
       "  <thead>\n",
       "    <tr style=\"text-align: right;\">\n",
       "      <th></th>\n",
       "      <th>Rating</th>\n",
       "      <th>Reviews</th>\n",
       "    </tr>\n",
       "  </thead>\n",
       "  <tbody>\n",
       "    <tr>\n",
       "      <th>count</th>\n",
       "      <td>5788.000</td>\n",
       "      <td>5788.000</td>\n",
       "    </tr>\n",
       "    <tr>\n",
       "      <th>mean</th>\n",
       "      <td>0.746</td>\n",
       "      <td>234145.160</td>\n",
       "    </tr>\n",
       "    <tr>\n",
       "      <th>std</th>\n",
       "      <td>0.435</td>\n",
       "      <td>2174468.934</td>\n",
       "    </tr>\n",
       "    <tr>\n",
       "      <th>min</th>\n",
       "      <td>0.000</td>\n",
       "      <td>0.000</td>\n",
       "    </tr>\n",
       "    <tr>\n",
       "      <th>25%</th>\n",
       "      <td>0.000</td>\n",
       "      <td>23.000</td>\n",
       "    </tr>\n",
       "    <tr>\n",
       "      <th>50%</th>\n",
       "      <td>1.000</td>\n",
       "      <td>889.000</td>\n",
       "    </tr>\n",
       "    <tr>\n",
       "      <th>75%</th>\n",
       "      <td>1.000</td>\n",
       "      <td>26432.500</td>\n",
       "    </tr>\n",
       "    <tr>\n",
       "      <th>max</th>\n",
       "      <td>1.000</td>\n",
       "      <td>78158306.000</td>\n",
       "    </tr>\n",
       "  </tbody>\n",
       "</table>\n",
       "</div>"
      ],
      "text/plain": [
       "        Rating      Reviews\n",
       "count 5788.000     5788.000\n",
       "mean     0.746   234145.160\n",
       "std      0.435  2174468.934\n",
       "min      0.000        0.000\n",
       "25%      0.000       23.000\n",
       "50%      1.000      889.000\n",
       "75%      1.000    26432.500\n",
       "max      1.000 78158306.000"
      ]
     },
     "execution_count": 19,
     "metadata": {},
     "output_type": "execute_result"
    }
   ],
   "source": [
    "## to get a data visual\n",
    "df.describe()"
   ]
  },
  {
   "cell_type": "code",
   "execution_count": 20,
   "metadata": {},
   "outputs": [],
   "source": [
    "df['review_group'] = df['Reviews'].apply(\n",
    "    lambda x: '[0, 23)' if x < 23 else '[23, 889)' if x < 889 \\\n",
    "        else '[889, 26432)' if x < 26432  \\\n",
    "        else '[26432+)'\n",
    ")"
   ]
  },
  {
   "cell_type": "code",
   "execution_count": 21,
   "metadata": {},
   "outputs": [
    {
     "data": {
      "text/html": [
       "<div>\n",
       "<style scoped>\n",
       "    .dataframe tbody tr th:only-of-type {\n",
       "        vertical-align: middle;\n",
       "    }\n",
       "\n",
       "    .dataframe tbody tr th {\n",
       "        vertical-align: top;\n",
       "    }\n",
       "\n",
       "    .dataframe thead th {\n",
       "        text-align: right;\n",
       "    }\n",
       "</style>\n",
       "<table border=\"1\" class=\"dataframe\">\n",
       "  <thead>\n",
       "    <tr style=\"text-align: right;\">\n",
       "      <th></th>\n",
       "      <th>App</th>\n",
       "      <th>Category</th>\n",
       "      <th>Rating</th>\n",
       "      <th>Reviews</th>\n",
       "      <th>Size</th>\n",
       "      <th>Installs</th>\n",
       "      <th>Type</th>\n",
       "      <th>Price</th>\n",
       "      <th>Content Rating</th>\n",
       "      <th>Genres</th>\n",
       "      <th>Last Updated</th>\n",
       "      <th>Current Ver</th>\n",
       "      <th>Android Ver</th>\n",
       "      <th>review_group</th>\n",
       "    </tr>\n",
       "  </thead>\n",
       "  <tbody>\n",
       "    <tr>\n",
       "      <th>0</th>\n",
       "      <td>GPS Status &amp; Toolbox</td>\n",
       "      <td>TRAVEL_AND_LOCAL</td>\n",
       "      <td>1.000</td>\n",
       "      <td>149723</td>\n",
       "      <td>4.1M</td>\n",
       "      <td>10,000,000+</td>\n",
       "      <td>Free</td>\n",
       "      <td>0</td>\n",
       "      <td>Everyone</td>\n",
       "      <td>Travel &amp; Local</td>\n",
       "      <td>June 13, 2018</td>\n",
       "      <td>8.1.171</td>\n",
       "      <td>4.0 and up</td>\n",
       "      <td>[26432+)</td>\n",
       "    </tr>\n",
       "    <tr>\n",
       "      <th>1</th>\n",
       "      <td>Fish|Hunt FL</td>\n",
       "      <td>LIFESTYLE</td>\n",
       "      <td>0.000</td>\n",
       "      <td>853</td>\n",
       "      <td>34M</td>\n",
       "      <td>100,000+</td>\n",
       "      <td>Free</td>\n",
       "      <td>0</td>\n",
       "      <td>Everyone</td>\n",
       "      <td>Lifestyle</td>\n",
       "      <td>March 22, 2018</td>\n",
       "      <td>3.2.0</td>\n",
       "      <td>4.1 and up</td>\n",
       "      <td>[23, 889)</td>\n",
       "    </tr>\n",
       "    <tr>\n",
       "      <th>2</th>\n",
       "      <td>Allrecipes Dinner Spinner</td>\n",
       "      <td>FOOD_AND_DRINK</td>\n",
       "      <td>1.000</td>\n",
       "      <td>61881</td>\n",
       "      <td>Varies with device</td>\n",
       "      <td>5,000,000+</td>\n",
       "      <td>Free</td>\n",
       "      <td>0</td>\n",
       "      <td>Everyone</td>\n",
       "      <td>Food &amp; Drink</td>\n",
       "      <td>April 10, 2018</td>\n",
       "      <td>Varies with device</td>\n",
       "      <td>Varies with device</td>\n",
       "      <td>[26432+)</td>\n",
       "    </tr>\n",
       "    <tr>\n",
       "      <th>3</th>\n",
       "      <td>Don't touch my phone</td>\n",
       "      <td>TOOLS</td>\n",
       "      <td>0.000</td>\n",
       "      <td>21943</td>\n",
       "      <td>2.3M</td>\n",
       "      <td>5,000,000+</td>\n",
       "      <td>Free</td>\n",
       "      <td>0</td>\n",
       "      <td>Everyone</td>\n",
       "      <td>Tools</td>\n",
       "      <td>October 19, 2016</td>\n",
       "      <td>30</td>\n",
       "      <td>2.3 and up</td>\n",
       "      <td>[889, 26432)</td>\n",
       "    </tr>\n",
       "    <tr>\n",
       "      <th>4</th>\n",
       "      <td>BM SPM Practice</td>\n",
       "      <td>FAMILY</td>\n",
       "      <td>1.000</td>\n",
       "      <td>6</td>\n",
       "      <td>9.2M</td>\n",
       "      <td>1,000+</td>\n",
       "      <td>Free</td>\n",
       "      <td>0</td>\n",
       "      <td>Everyone</td>\n",
       "      <td>Education</td>\n",
       "      <td>January 24, 2018</td>\n",
       "      <td>1.0</td>\n",
       "      <td>4.1 and up</td>\n",
       "      <td>[0, 23)</td>\n",
       "    </tr>\n",
       "  </tbody>\n",
       "</table>\n",
       "</div>"
      ],
      "text/plain": [
       "                         App          Category  Rating  Reviews  \\\n",
       "0       GPS Status & Toolbox  TRAVEL_AND_LOCAL   1.000   149723   \n",
       "1               Fish|Hunt FL         LIFESTYLE   0.000      853   \n",
       "2  Allrecipes Dinner Spinner    FOOD_AND_DRINK   1.000    61881   \n",
       "3       Don't touch my phone             TOOLS   0.000    21943   \n",
       "4            BM SPM Practice            FAMILY   1.000        6   \n",
       "\n",
       "                 Size     Installs  Type Price Content Rating          Genres  \\\n",
       "0                4.1M  10,000,000+  Free     0       Everyone  Travel & Local   \n",
       "1                 34M     100,000+  Free     0       Everyone       Lifestyle   \n",
       "2  Varies with device   5,000,000+  Free     0       Everyone    Food & Drink   \n",
       "3                2.3M   5,000,000+  Free     0       Everyone           Tools   \n",
       "4                9.2M       1,000+  Free     0       Everyone       Education   \n",
       "\n",
       "       Last Updated         Current Ver         Android Ver  review_group  \n",
       "0     June 13, 2018             8.1.171          4.0 and up      [26432+)  \n",
       "1    March 22, 2018               3.2.0          4.1 and up     [23, 889)  \n",
       "2    April 10, 2018  Varies with device  Varies with device      [26432+)  \n",
       "3  October 19, 2016                  30          2.3 and up  [889, 26432)  \n",
       "4  January 24, 2018                 1.0          4.1 and up       [0, 23)  "
      ]
     },
     "execution_count": 21,
     "metadata": {},
     "output_type": "execute_result"
    }
   ],
   "source": [
    "df.head()"
   ]
  },
  {
   "cell_type": "code",
   "execution_count": 22,
   "metadata": {},
   "outputs": [
    {
     "data": {
      "image/png": "[encoded data removed]",
      "text/plain": [
       "<Figure size 720x504 with 1 Axes>"
      ]
     },
     "metadata": {
      "needs_background": "light"
     },
     "output_type": "display_data"
    },
    {
     "data": {
      "text/plain": [
       "(review_group\n",
       " [0, 23)        84.390\n",
       " [23, 889)      58.848\n",
       " [26432+)       86.524\n",
       " [889, 26432)   68.785\n",
       " Name: Rating, dtype: float64,\n",
       " None)"
      ]
     },
     "execution_count": 22,
     "metadata": {},
     "output_type": "execute_result"
    }
   ],
   "source": [
    "groupby_var_target(df, 'review_group', 'Rating', 'Category Vs Rating')"
   ]
  },
  {
   "cell_type": "code",
   "execution_count": 23,
   "metadata": {},
   "outputs": [
    {
     "data": {
      "text/plain": [
       "Index(['App', 'Category', 'Rating', 'Reviews', 'Size', 'Installs', 'Type',\n",
       "       'Price', 'Content Rating', 'Genres', 'Last Updated', 'Current Ver',\n",
       "       'Android Ver', 'review_group'],\n",
       "      dtype='object')"
      ]
     },
     "execution_count": 23,
     "metadata": {},
     "output_type": "execute_result"
    }
   ],
   "source": [
    "df.columns"
   ]
  },
  {
   "cell_type": "code",
   "execution_count": 24,
   "metadata": {},
   "outputs": [
    {
     "data": {
      "image/png": "[encoded data removed]",
      "text/plain": [
       "<Figure size 720x504 with 1 Axes>"
      ]
     },
     "metadata": {
      "needs_background": "light"
     },
     "output_type": "display_data"
    },
    {
     "data": {
      "text/plain": [
       "(Installs\n",
       " 0+               100.000\n",
       " 1+               100.000\n",
       " 1,000+            68.657\n",
       " 1,000,000+        73.841\n",
       " 1,000,000,000+    75.000\n",
       " 10+               96.203\n",
       " 10,000+           59.711\n",
       " 10,000,000+       84.473\n",
       " 100+              89.955\n",
       " 100,000+          64.750\n",
       " 100,000,000+      96.491\n",
       " 5+                97.619\n",
       " 5,000+            60.993\n",
       " 5,000,000+        75.281\n",
       " 50+               94.355\n",
       " 50,000+           64.430\n",
       " 50,000,000+       90.517\n",
       " 500+              81.579\n",
       " 500,000+          68.831\n",
       " 500,000,000+     100.000\n",
       " Name: Rating, dtype: float64,\n",
       " None)"
      ]
     },
     "execution_count": 24,
     "metadata": {},
     "output_type": "execute_result"
    }
   ],
   "source": [
    "groupby_var_target(df, 'Installs', 'Rating', 'Installs Vs Rating')"
   ]
  },
  {
   "cell_type": "code",
   "execution_count": 25,
   "metadata": {},
   "outputs": [
    {
     "data": {
      "text/plain": [
       "Index(['App', 'Category', 'Rating', 'Reviews', 'Size', 'Installs', 'Type',\n",
       "       'Price', 'Content Rating', 'Genres', 'Last Updated', 'Current Ver',\n",
       "       'Android Ver', 'review_group'],\n",
       "      dtype='object')"
      ]
     },
     "execution_count": 25,
     "metadata": {},
     "output_type": "execute_result"
    }
   ],
   "source": [
    "df.columns"
   ]
  },
  {
   "cell_type": "code",
   "execution_count": 26,
   "metadata": {},
   "outputs": [
    {
     "data": {
      "image/png": "[encoded data removed]",
      "text/plain": [
       "<Figure size 720x504 with 1 Axes>"
      ]
     },
     "metadata": {
      "needs_background": "light"
     },
     "output_type": "display_data"
    },
    {
     "data": {
      "text/plain": [
       "(Type\n",
       " Free   73.981\n",
       " Paid   81.505\n",
       " Name: Rating, dtype: float64,\n",
       " None)"
      ]
     },
     "execution_count": 26,
     "metadata": {},
     "output_type": "execute_result"
    }
   ],
   "source": [
    "## Paid type has 81.5% good rating califications, those might be more elaborated, but people must be stricter.\n",
    "groupby_var_target(df, 'Type', 'Rating', 'Installs Vs Rating')"
   ]
  },
  {
   "cell_type": "code",
   "execution_count": 76,
   "metadata": {},
   "outputs": [
    {
     "data": {
      "image/png": "[encoded data removed]",
      "text/plain": [
       "<Figure size 720x504 with 1 Axes>"
      ]
     },
     "metadata": {
      "needs_background": "light"
     },
     "output_type": "display_data"
    },
    {
     "data": {
      "text/plain": [
       "(Price\n",
       " $0.99     82.796\n",
       " $1.00    100.000\n",
       " $1.26    100.000\n",
       " $1.29    100.000\n",
       " $1.49     87.097\n",
       "            ...  \n",
       " $8.99     25.000\n",
       " $89.99   100.000\n",
       " $9.00    100.000\n",
       " $9.99     75.000\n",
       " 0         73.981\n",
       " Name: Rating, Length: 68, dtype: float64,\n",
       " None)"
      ]
     },
     "execution_count": 76,
     "metadata": {},
     "output_type": "execute_result"
    }
   ],
   "source": [
    "groupby_var_target(df, 'Price', 'Rating', 'Installs Vs Rating') ## pasarlo a rangos."
   ]
  },
  {
   "cell_type": "code",
   "execution_count": 28,
   "metadata": {},
   "outputs": [
    {
     "data": {
      "image/png": "[encoded data removed]",
      "text/plain": [
       "<Figure size 720x504 with 1 Axes>"
      ]
     },
     "metadata": {
      "needs_background": "light"
     },
     "output_type": "display_data"
    },
    {
     "data": {
      "text/plain": [
       "(Content Rating\n",
       " Adults only 18+    66.667\n",
       " Everyone           74.559\n",
       " Everyone 10+       75.661\n",
       " Mature 17+         72.650\n",
       " Teen               75.209\n",
       " Unrated           100.000\n",
       " Name: Rating, dtype: float64,\n",
       " None)"
      ]
     },
     "execution_count": 28,
     "metadata": {},
     "output_type": "execute_result"
    }
   ],
   "source": [
    "groupby_var_target(df, 'Content Rating', 'Rating', 'Installs Vs Rating')"
   ]
  },
  {
   "cell_type": "code",
   "execution_count": 29,
   "metadata": {},
   "outputs": [
    {
     "data": {
      "image/png": "[encoded data removed]",
      "text/plain": [
       "<Figure size 720x504 with 1 Axes>"
      ]
     },
     "metadata": {
      "needs_background": "light"
     },
     "output_type": "display_data"
    },
    {
     "data": {
      "text/plain": [
       "(Genres\n",
       " Action                                   79.330\n",
       " Action;Action & Adventure                77.778\n",
       " Adventure                                76.000\n",
       " Adventure;Action & Adventure            100.000\n",
       " Adventure;Brain Games                   100.000\n",
       "                                           ...  \n",
       " Trivia                                   85.000\n",
       " Video Players & Editors                  61.702\n",
       " Video Players & Editors;Music & Video     0.000\n",
       " Weather                                  69.565\n",
       " Word                                     76.471\n",
       " Name: Rating, Length: 107, dtype: float64,\n",
       " None)"
      ]
     },
     "execution_count": 29,
     "metadata": {},
     "output_type": "execute_result"
    }
   ],
   "source": [
    "groupby_var_target(df, 'Genres', 'Rating', 'Installs Vs Rating')"
   ]
  },
  {
   "cell_type": "code",
   "execution_count": 30,
   "metadata": {},
   "outputs": [
    {
     "data": {
      "text/plain": [
       "Index(['App', 'Category', 'Rating', 'Reviews', 'Size', 'Installs', 'Type',\n",
       "       'Price', 'Content Rating', 'Genres', 'Last Updated', 'Current Ver',\n",
       "       'Android Ver', 'review_group'],\n",
       "      dtype='object')"
      ]
     },
     "execution_count": 30,
     "metadata": {},
     "output_type": "execute_result"
    }
   ],
   "source": [
    "df.columns"
   ]
  },
  {
   "cell_type": "code",
   "execution_count": 31,
   "metadata": {},
   "outputs": [],
   "source": [
    "def groupby_2_cols_against_target(df, column1, column2, target):\n",
    "\n",
    "    groupby_2_cols_against_target = df.groupby(\n",
    "        [column1, column2]\n",
    "    )[target].sum() / df.groupby(\n",
    "        [column1, column2]\n",
    "    )[target].count() * 100.0\n",
    "\n",
    "    pivot_t = groupby_2_cols_against_target.reset_index().pivot(\n",
    "        index=column1,\n",
    "        columns=column2,\n",
    "        values=target\n",
    "    )\n",
    "    \n",
    "    return pivot_t"
   ]
  },
  {
   "cell_type": "code",
   "execution_count": 85,
   "metadata": {},
   "outputs": [
    {
     "data": {
      "text/html": [
       "<div>\n",
       "<style scoped>\n",
       "    .dataframe tbody tr th:only-of-type {\n",
       "        vertical-align: middle;\n",
       "    }\n",
       "\n",
       "    .dataframe tbody tr th {\n",
       "        vertical-align: top;\n",
       "    }\n",
       "\n",
       "    .dataframe thead th {\n",
       "        text-align: right;\n",
       "    }\n",
       "</style>\n",
       "<table border=\"1\" class=\"dataframe\">\n",
       "  <thead>\n",
       "    <tr style=\"text-align: right;\">\n",
       "      <th>Type</th>\n",
       "      <th>Free</th>\n",
       "      <th>Paid</th>\n",
       "    </tr>\n",
       "    <tr>\n",
       "      <th>Category</th>\n",
       "      <th></th>\n",
       "      <th></th>\n",
       "    </tr>\n",
       "  </thead>\n",
       "  <tbody>\n",
       "    <tr>\n",
       "      <th>ART_AND_DESIGN</th>\n",
       "      <td>77.419</td>\n",
       "      <td>100.000</td>\n",
       "    </tr>\n",
       "    <tr>\n",
       "      <th>AUTO_AND_VEHICLES</th>\n",
       "      <td>66.667</td>\n",
       "      <td>100.000</td>\n",
       "    </tr>\n",
       "    <tr>\n",
       "      <th>BEAUTY</th>\n",
       "      <td>75.758</td>\n",
       "      <td>NaN</td>\n",
       "    </tr>\n",
       "    <tr>\n",
       "      <th>BOOKS_AND_REFERENCE</th>\n",
       "      <td>85.577</td>\n",
       "      <td>86.667</td>\n",
       "    </tr>\n",
       "    <tr>\n",
       "      <th>BUSINESS</th>\n",
       "      <td>79.457</td>\n",
       "      <td>83.333</td>\n",
       "    </tr>\n",
       "    <tr>\n",
       "      <th>COMICS</th>\n",
       "      <td>72.973</td>\n",
       "      <td>NaN</td>\n",
       "    </tr>\n",
       "    <tr>\n",
       "      <th>COMMUNICATION</th>\n",
       "      <td>74.432</td>\n",
       "      <td>68.421</td>\n",
       "    </tr>\n",
       "    <tr>\n",
       "      <th>DATING</th>\n",
       "      <td>65.263</td>\n",
       "      <td>60.000</td>\n",
       "    </tr>\n",
       "    <tr>\n",
       "      <th>EDUCATION</th>\n",
       "      <td>88.406</td>\n",
       "      <td>100.000</td>\n",
       "    </tr>\n",
       "    <tr>\n",
       "      <th>ENTERTAINMENT</th>\n",
       "      <td>63.462</td>\n",
       "      <td>100.000</td>\n",
       "    </tr>\n",
       "    <tr>\n",
       "      <th>EVENTS</th>\n",
       "      <td>86.486</td>\n",
       "      <td>100.000</td>\n",
       "    </tr>\n",
       "    <tr>\n",
       "      <th>FAMILY</th>\n",
       "      <td>71.257</td>\n",
       "      <td>85.714</td>\n",
       "    </tr>\n",
       "    <tr>\n",
       "      <th>FINANCE</th>\n",
       "      <td>70.558</td>\n",
       "      <td>57.143</td>\n",
       "    </tr>\n",
       "    <tr>\n",
       "      <th>FOOD_AND_DRINK</th>\n",
       "      <td>72.727</td>\n",
       "      <td>100.000</td>\n",
       "    </tr>\n",
       "    <tr>\n",
       "      <th>GAME</th>\n",
       "      <td>77.925</td>\n",
       "      <td>86.275</td>\n",
       "    </tr>\n",
       "    <tr>\n",
       "      <th>HEALTH_AND_FITNESS</th>\n",
       "      <td>80.745</td>\n",
       "      <td>77.778</td>\n",
       "    </tr>\n",
       "    <tr>\n",
       "      <th>HOUSE_AND_HOME</th>\n",
       "      <td>73.810</td>\n",
       "      <td>NaN</td>\n",
       "    </tr>\n",
       "    <tr>\n",
       "      <th>LIBRARIES_AND_DEMO</th>\n",
       "      <td>67.347</td>\n",
       "      <td>NaN</td>\n",
       "    </tr>\n",
       "    <tr>\n",
       "      <th>LIFESTYLE</th>\n",
       "      <td>64.423</td>\n",
       "      <td>90.909</td>\n",
       "    </tr>\n",
       "    <tr>\n",
       "      <th>MAPS_AND_NAVIGATION</th>\n",
       "      <td>64.286</td>\n",
       "      <td>75.000</td>\n",
       "    </tr>\n",
       "    <tr>\n",
       "      <th>MEDICAL</th>\n",
       "      <td>76.884</td>\n",
       "      <td>79.630</td>\n",
       "    </tr>\n",
       "    <tr>\n",
       "      <th>NEWS_AND_MAGAZINES</th>\n",
       "      <td>73.944</td>\n",
       "      <td>100.000</td>\n",
       "    </tr>\n",
       "    <tr>\n",
       "      <th>PARENTING</th>\n",
       "      <td>77.778</td>\n",
       "      <td>50.000</td>\n",
       "    </tr>\n",
       "    <tr>\n",
       "      <th>PERSONALIZATION</th>\n",
       "      <td>87.500</td>\n",
       "      <td>95.455</td>\n",
       "    </tr>\n",
       "    <tr>\n",
       "      <th>PHOTOGRAPHY</th>\n",
       "      <td>74.834</td>\n",
       "      <td>54.545</td>\n",
       "    </tr>\n",
       "    <tr>\n",
       "      <th>PRODUCTIVITY</th>\n",
       "      <td>79.147</td>\n",
       "      <td>81.818</td>\n",
       "    </tr>\n",
       "    <tr>\n",
       "      <th>SHOPPING</th>\n",
       "      <td>80.000</td>\n",
       "      <td>100.000</td>\n",
       "    </tr>\n",
       "    <tr>\n",
       "      <th>SOCIAL</th>\n",
       "      <td>81.203</td>\n",
       "      <td>0.000</td>\n",
       "    </tr>\n",
       "    <tr>\n",
       "      <th>SPORTS</th>\n",
       "      <td>77.041</td>\n",
       "      <td>78.571</td>\n",
       "    </tr>\n",
       "    <tr>\n",
       "      <th>TOOLS</th>\n",
       "      <td>65.721</td>\n",
       "      <td>74.000</td>\n",
       "    </tr>\n",
       "    <tr>\n",
       "      <th>TRAVEL_AND_LOCAL</th>\n",
       "      <td>69.355</td>\n",
       "      <td>77.778</td>\n",
       "    </tr>\n",
       "    <tr>\n",
       "      <th>VIDEO_PLAYERS</th>\n",
       "      <td>62.366</td>\n",
       "      <td>0.000</td>\n",
       "    </tr>\n",
       "    <tr>\n",
       "      <th>WEATHER</th>\n",
       "      <td>69.231</td>\n",
       "      <td>71.429</td>\n",
       "    </tr>\n",
       "  </tbody>\n",
       "</table>\n",
       "</div>"
      ],
      "text/plain": [
       "Type                  Free    Paid\n",
       "Category                          \n",
       "ART_AND_DESIGN      77.419 100.000\n",
       "AUTO_AND_VEHICLES   66.667 100.000\n",
       "BEAUTY              75.758     NaN\n",
       "BOOKS_AND_REFERENCE 85.577  86.667\n",
       "BUSINESS            79.457  83.333\n",
       "COMICS              72.973     NaN\n",
       "COMMUNICATION       74.432  68.421\n",
       "DATING              65.263  60.000\n",
       "EDUCATION           88.406 100.000\n",
       "ENTERTAINMENT       63.462 100.000\n",
       "EVENTS              86.486 100.000\n",
       "FAMILY              71.257  85.714\n",
       "FINANCE             70.558  57.143\n",
       "FOOD_AND_DRINK      72.727 100.000\n",
       "GAME                77.925  86.275\n",
       "HEALTH_AND_FITNESS  80.745  77.778\n",
       "HOUSE_AND_HOME      73.810     NaN\n",
       "LIBRARIES_AND_DEMO  67.347     NaN\n",
       "LIFESTYLE           64.423  90.909\n",
       "MAPS_AND_NAVIGATION 64.286  75.000\n",
       "MEDICAL             76.884  79.630\n",
       "NEWS_AND_MAGAZINES  73.944 100.000\n",
       "PARENTING           77.778  50.000\n",
       "PERSONALIZATION     87.500  95.455\n",
       "PHOTOGRAPHY         74.834  54.545\n",
       "PRODUCTIVITY        79.147  81.818\n",
       "SHOPPING            80.000 100.000\n",
       "SOCIAL              81.203   0.000\n",
       "SPORTS              77.041  78.571\n",
       "TOOLS               65.721  74.000\n",
       "TRAVEL_AND_LOCAL    69.355  77.778\n",
       "VIDEO_PLAYERS       62.366   0.000\n",
       "WEATHER             69.231  71.429"
      ]
     },
     "execution_count": 85,
     "metadata": {},
     "output_type": "execute_result"
    }
   ],
   "source": [
    "groupby_2_cols_against_target(df, \"Category\", \"Type\", \"Rating\")\n",
    "\n"
   ]
  },
  {
   "cell_type": "code",
   "execution_count": 33,
   "metadata": {},
   "outputs": [
    {
     "data": {
      "text/plain": [
       "Index(['App', 'Category', 'Rating', 'Reviews', 'Size', 'Installs', 'Type',\n",
       "       'Price', 'Content Rating', 'Genres', 'Last Updated', 'Current Ver',\n",
       "       'Android Ver', 'review_group'],\n",
       "      dtype='object')"
      ]
     },
     "execution_count": 33,
     "metadata": {},
     "output_type": "execute_result"
    }
   ],
   "source": [
    "df.columns"
   ]
  },
  {
   "cell_type": "code",
   "execution_count": 34,
   "metadata": {},
   "outputs": [
    {
     "data": {
      "text/html": [
       "<div>\n",
       "<style scoped>\n",
       "    .dataframe tbody tr th:only-of-type {\n",
       "        vertical-align: middle;\n",
       "    }\n",
       "\n",
       "    .dataframe tbody tr th {\n",
       "        vertical-align: top;\n",
       "    }\n",
       "\n",
       "    .dataframe thead th {\n",
       "        text-align: right;\n",
       "    }\n",
       "</style>\n",
       "<table border=\"1\" class=\"dataframe\">\n",
       "  <thead>\n",
       "    <tr style=\"text-align: right;\">\n",
       "      <th>Content Rating</th>\n",
       "      <th>Adults only 18+</th>\n",
       "      <th>Everyone</th>\n",
       "      <th>Everyone 10+</th>\n",
       "      <th>Mature 17+</th>\n",
       "      <th>Teen</th>\n",
       "      <th>Unrated</th>\n",
       "    </tr>\n",
       "    <tr>\n",
       "      <th>Installs</th>\n",
       "      <th></th>\n",
       "      <th></th>\n",
       "      <th></th>\n",
       "      <th></th>\n",
       "      <th></th>\n",
       "      <th></th>\n",
       "    </tr>\n",
       "  </thead>\n",
       "  <tbody>\n",
       "    <tr>\n",
       "      <th>0+</th>\n",
       "      <td>NaN</td>\n",
       "      <td>100.000</td>\n",
       "      <td>NaN</td>\n",
       "      <td>NaN</td>\n",
       "      <td>100.000</td>\n",
       "      <td>NaN</td>\n",
       "    </tr>\n",
       "    <tr>\n",
       "      <th>1+</th>\n",
       "      <td>NaN</td>\n",
       "      <td>100.000</td>\n",
       "      <td>NaN</td>\n",
       "      <td>100.000</td>\n",
       "      <td>100.000</td>\n",
       "      <td>NaN</td>\n",
       "    </tr>\n",
       "    <tr>\n",
       "      <th>1,000+</th>\n",
       "      <td>NaN</td>\n",
       "      <td>68.399</td>\n",
       "      <td>55.556</td>\n",
       "      <td>83.333</td>\n",
       "      <td>70.588</td>\n",
       "      <td>NaN</td>\n",
       "    </tr>\n",
       "    <tr>\n",
       "      <th>1,000,000+</th>\n",
       "      <td>100.000</td>\n",
       "      <td>75.804</td>\n",
       "      <td>68.293</td>\n",
       "      <td>71.429</td>\n",
       "      <td>64.423</td>\n",
       "      <td>NaN</td>\n",
       "    </tr>\n",
       "    <tr>\n",
       "      <th>1,000,000,000+</th>\n",
       "      <td>NaN</td>\n",
       "      <td>87.500</td>\n",
       "      <td>NaN</td>\n",
       "      <td>NaN</td>\n",
       "      <td>50.000</td>\n",
       "      <td>NaN</td>\n",
       "    </tr>\n",
       "    <tr>\n",
       "      <th>10+</th>\n",
       "      <td>NaN</td>\n",
       "      <td>96.190</td>\n",
       "      <td>100.000</td>\n",
       "      <td>85.714</td>\n",
       "      <td>100.000</td>\n",
       "      <td>NaN</td>\n",
       "    </tr>\n",
       "    <tr>\n",
       "      <th>10,000+</th>\n",
       "      <td>NaN</td>\n",
       "      <td>58.442</td>\n",
       "      <td>81.250</td>\n",
       "      <td>59.091</td>\n",
       "      <td>67.391</td>\n",
       "      <td>NaN</td>\n",
       "    </tr>\n",
       "    <tr>\n",
       "      <th>10,000,000+</th>\n",
       "      <td>NaN</td>\n",
       "      <td>84.444</td>\n",
       "      <td>82.759</td>\n",
       "      <td>86.667</td>\n",
       "      <td>84.416</td>\n",
       "      <td>NaN</td>\n",
       "    </tr>\n",
       "    <tr>\n",
       "      <th>100+</th>\n",
       "      <td>NaN</td>\n",
       "      <td>89.717</td>\n",
       "      <td>83.333</td>\n",
       "      <td>86.667</td>\n",
       "      <td>94.737</td>\n",
       "      <td>NaN</td>\n",
       "    </tr>\n",
       "    <tr>\n",
       "      <th>100,000+</th>\n",
       "      <td>NaN</td>\n",
       "      <td>65.112</td>\n",
       "      <td>68.000</td>\n",
       "      <td>54.545</td>\n",
       "      <td>65.672</td>\n",
       "      <td>NaN</td>\n",
       "    </tr>\n",
       "    <tr>\n",
       "      <th>100,000,000+</th>\n",
       "      <td>NaN</td>\n",
       "      <td>96.512</td>\n",
       "      <td>100.000</td>\n",
       "      <td>83.333</td>\n",
       "      <td>100.000</td>\n",
       "      <td>NaN</td>\n",
       "    </tr>\n",
       "    <tr>\n",
       "      <th>5+</th>\n",
       "      <td>NaN</td>\n",
       "      <td>97.368</td>\n",
       "      <td>NaN</td>\n",
       "      <td>100.000</td>\n",
       "      <td>100.000</td>\n",
       "      <td>NaN</td>\n",
       "    </tr>\n",
       "    <tr>\n",
       "      <th>5,000+</th>\n",
       "      <td>NaN</td>\n",
       "      <td>62.451</td>\n",
       "      <td>50.000</td>\n",
       "      <td>71.429</td>\n",
       "      <td>37.500</td>\n",
       "      <td>NaN</td>\n",
       "    </tr>\n",
       "    <tr>\n",
       "      <th>5,000,000+</th>\n",
       "      <td>NaN</td>\n",
       "      <td>75.458</td>\n",
       "      <td>75.000</td>\n",
       "      <td>76.471</td>\n",
       "      <td>74.074</td>\n",
       "      <td>NaN</td>\n",
       "    </tr>\n",
       "    <tr>\n",
       "      <th>50+</th>\n",
       "      <td>NaN</td>\n",
       "      <td>93.396</td>\n",
       "      <td>100.000</td>\n",
       "      <td>100.000</td>\n",
       "      <td>100.000</td>\n",
       "      <td>NaN</td>\n",
       "    </tr>\n",
       "    <tr>\n",
       "      <th>50,000+</th>\n",
       "      <td>NaN</td>\n",
       "      <td>63.158</td>\n",
       "      <td>75.000</td>\n",
       "      <td>66.667</td>\n",
       "      <td>69.697</td>\n",
       "      <td>100.000</td>\n",
       "    </tr>\n",
       "    <tr>\n",
       "      <th>50,000,000+</th>\n",
       "      <td>NaN</td>\n",
       "      <td>88.372</td>\n",
       "      <td>80.000</td>\n",
       "      <td>100.000</td>\n",
       "      <td>100.000</td>\n",
       "      <td>NaN</td>\n",
       "    </tr>\n",
       "    <tr>\n",
       "      <th>500+</th>\n",
       "      <td>NaN</td>\n",
       "      <td>80.682</td>\n",
       "      <td>100.000</td>\n",
       "      <td>66.667</td>\n",
       "      <td>100.000</td>\n",
       "      <td>NaN</td>\n",
       "    </tr>\n",
       "    <tr>\n",
       "      <th>500,000+</th>\n",
       "      <td>50.000</td>\n",
       "      <td>68.584</td>\n",
       "      <td>83.333</td>\n",
       "      <td>57.895</td>\n",
       "      <td>69.767</td>\n",
       "      <td>NaN</td>\n",
       "    </tr>\n",
       "    <tr>\n",
       "      <th>500,000,000+</th>\n",
       "      <td>NaN</td>\n",
       "      <td>100.000</td>\n",
       "      <td>100.000</td>\n",
       "      <td>100.000</td>\n",
       "      <td>100.000</td>\n",
       "      <td>NaN</td>\n",
       "    </tr>\n",
       "  </tbody>\n",
       "</table>\n",
       "</div>"
      ],
      "text/plain": [
       "Content Rating  Adults only 18+  Everyone  Everyone 10+  Mature 17+    Teen  \\\n",
       "Installs                                                                      \n",
       "0+                          NaN   100.000           NaN         NaN 100.000   \n",
       "1+                          NaN   100.000           NaN     100.000 100.000   \n",
       "1,000+                      NaN    68.399        55.556      83.333  70.588   \n",
       "1,000,000+              100.000    75.804        68.293      71.429  64.423   \n",
       "1,000,000,000+              NaN    87.500           NaN         NaN  50.000   \n",
       "10+                         NaN    96.190       100.000      85.714 100.000   \n",
       "10,000+                     NaN    58.442        81.250      59.091  67.391   \n",
       "10,000,000+                 NaN    84.444        82.759      86.667  84.416   \n",
       "100+                        NaN    89.717        83.333      86.667  94.737   \n",
       "100,000+                    NaN    65.112        68.000      54.545  65.672   \n",
       "100,000,000+                NaN    96.512       100.000      83.333 100.000   \n",
       "5+                          NaN    97.368           NaN     100.000 100.000   \n",
       "5,000+                      NaN    62.451        50.000      71.429  37.500   \n",
       "5,000,000+                  NaN    75.458        75.000      76.471  74.074   \n",
       "50+                         NaN    93.396       100.000     100.000 100.000   \n",
       "50,000+                     NaN    63.158        75.000      66.667  69.697   \n",
       "50,000,000+                 NaN    88.372        80.000     100.000 100.000   \n",
       "500+                        NaN    80.682       100.000      66.667 100.000   \n",
       "500,000+                 50.000    68.584        83.333      57.895  69.767   \n",
       "500,000,000+                NaN   100.000       100.000     100.000 100.000   \n",
       "\n",
       "Content Rating  Unrated  \n",
       "Installs                 \n",
       "0+                  NaN  \n",
       "1+                  NaN  \n",
       "1,000+              NaN  \n",
       "1,000,000+          NaN  \n",
       "1,000,000,000+      NaN  \n",
       "10+                 NaN  \n",
       "10,000+             NaN  \n",
       "10,000,000+         NaN  \n",
       "100+                NaN  \n",
       "100,000+            NaN  \n",
       "100,000,000+        NaN  \n",
       "5+                  NaN  \n",
       "5,000+              NaN  \n",
       "5,000,000+          NaN  \n",
       "50+                 NaN  \n",
       "50,000+         100.000  \n",
       "50,000,000+         NaN  \n",
       "500+                NaN  \n",
       "500,000+            NaN  \n",
       "500,000,000+        NaN  "
      ]
     },
     "execution_count": 34,
     "metadata": {},
     "output_type": "execute_result"
    }
   ],
   "source": [
    "groupby_2_cols_against_target(df, \"Installs\", \"Content Rating\", \"Rating\")"
   ]
  },
  {
   "cell_type": "code",
   "execution_count": 35,
   "metadata": {},
   "outputs": [
    {
     "data": {
      "text/html": [
       "<div>\n",
       "<style scoped>\n",
       "    .dataframe tbody tr th:only-of-type {\n",
       "        vertical-align: middle;\n",
       "    }\n",
       "\n",
       "    .dataframe tbody tr th {\n",
       "        vertical-align: top;\n",
       "    }\n",
       "\n",
       "    .dataframe thead th {\n",
       "        text-align: right;\n",
       "    }\n",
       "</style>\n",
       "<table border=\"1\" class=\"dataframe\">\n",
       "  <thead>\n",
       "    <tr style=\"text-align: right;\">\n",
       "      <th>Type</th>\n",
       "      <th>Free</th>\n",
       "      <th>Paid</th>\n",
       "    </tr>\n",
       "    <tr>\n",
       "      <th>Installs</th>\n",
       "      <th></th>\n",
       "      <th></th>\n",
       "    </tr>\n",
       "  </thead>\n",
       "  <tbody>\n",
       "    <tr>\n",
       "      <th>0+</th>\n",
       "      <td>100.000</td>\n",
       "      <td>100.000</td>\n",
       "    </tr>\n",
       "    <tr>\n",
       "      <th>1+</th>\n",
       "      <td>100.000</td>\n",
       "      <td>100.000</td>\n",
       "    </tr>\n",
       "    <tr>\n",
       "      <th>1,000+</th>\n",
       "      <td>68.874</td>\n",
       "      <td>67.470</td>\n",
       "    </tr>\n",
       "    <tr>\n",
       "      <th>1,000,000+</th>\n",
       "      <td>73.366</td>\n",
       "      <td>100.000</td>\n",
       "    </tr>\n",
       "    <tr>\n",
       "      <th>1,000,000,000+</th>\n",
       "      <td>75.000</td>\n",
       "      <td>NaN</td>\n",
       "    </tr>\n",
       "    <tr>\n",
       "      <th>10+</th>\n",
       "      <td>96.429</td>\n",
       "      <td>95.122</td>\n",
       "    </tr>\n",
       "    <tr>\n",
       "      <th>10,000+</th>\n",
       "      <td>57.246</td>\n",
       "      <td>78.873</td>\n",
       "    </tr>\n",
       "    <tr>\n",
       "      <th>10,000,000+</th>\n",
       "      <td>84.444</td>\n",
       "      <td>100.000</td>\n",
       "    </tr>\n",
       "    <tr>\n",
       "      <th>100+</th>\n",
       "      <td>91.560</td>\n",
       "      <td>78.947</td>\n",
       "    </tr>\n",
       "    <tr>\n",
       "      <th>100,000+</th>\n",
       "      <td>62.459</td>\n",
       "      <td>92.157</td>\n",
       "    </tr>\n",
       "    <tr>\n",
       "      <th>100,000,000+</th>\n",
       "      <td>96.491</td>\n",
       "      <td>NaN</td>\n",
       "    </tr>\n",
       "    <tr>\n",
       "      <th>5+</th>\n",
       "      <td>97.143</td>\n",
       "      <td>100.000</td>\n",
       "    </tr>\n",
       "    <tr>\n",
       "      <th>5,000+</th>\n",
       "      <td>59.583</td>\n",
       "      <td>69.048</td>\n",
       "    </tr>\n",
       "    <tr>\n",
       "      <th>5,000,000+</th>\n",
       "      <td>75.281</td>\n",
       "      <td>NaN</td>\n",
       "    </tr>\n",
       "    <tr>\n",
       "      <th>50+</th>\n",
       "      <td>95.238</td>\n",
       "      <td>89.474</td>\n",
       "    </tr>\n",
       "    <tr>\n",
       "      <th>50,000+</th>\n",
       "      <td>61.624</td>\n",
       "      <td>92.593</td>\n",
       "    </tr>\n",
       "    <tr>\n",
       "      <th>50,000,000+</th>\n",
       "      <td>90.517</td>\n",
       "      <td>NaN</td>\n",
       "    </tr>\n",
       "    <tr>\n",
       "      <th>500+</th>\n",
       "      <td>83.636</td>\n",
       "      <td>68.000</td>\n",
       "    </tr>\n",
       "    <tr>\n",
       "      <th>500,000+</th>\n",
       "      <td>68.333</td>\n",
       "      <td>87.500</td>\n",
       "    </tr>\n",
       "    <tr>\n",
       "      <th>500,000,000+</th>\n",
       "      <td>100.000</td>\n",
       "      <td>NaN</td>\n",
       "    </tr>\n",
       "  </tbody>\n",
       "</table>\n",
       "</div>"
      ],
      "text/plain": [
       "Type              Free    Paid\n",
       "Installs                      \n",
       "0+             100.000 100.000\n",
       "1+             100.000 100.000\n",
       "1,000+          68.874  67.470\n",
       "1,000,000+      73.366 100.000\n",
       "1,000,000,000+  75.000     NaN\n",
       "10+             96.429  95.122\n",
       "10,000+         57.246  78.873\n",
       "10,000,000+     84.444 100.000\n",
       "100+            91.560  78.947\n",
       "100,000+        62.459  92.157\n",
       "100,000,000+    96.491     NaN\n",
       "5+              97.143 100.000\n",
       "5,000+          59.583  69.048\n",
       "5,000,000+      75.281     NaN\n",
       "50+             95.238  89.474\n",
       "50,000+         61.624  92.593\n",
       "50,000,000+     90.517     NaN\n",
       "500+            83.636  68.000\n",
       "500,000+        68.333  87.500\n",
       "500,000,000+   100.000     NaN"
      ]
     },
     "execution_count": 35,
     "metadata": {},
     "output_type": "execute_result"
    }
   ],
   "source": [
    "groupby_2_cols_against_target(df, \"Installs\", \"Type\", \"Rating\")"
   ]
  },
  {
   "cell_type": "code",
   "execution_count": 36,
   "metadata": {},
   "outputs": [
    {
     "data": {
      "text/html": [
       "<div>\n",
       "<style scoped>\n",
       "    .dataframe tbody tr th:only-of-type {\n",
       "        vertical-align: middle;\n",
       "    }\n",
       "\n",
       "    .dataframe tbody tr th {\n",
       "        vertical-align: top;\n",
       "    }\n",
       "\n",
       "    .dataframe thead th {\n",
       "        text-align: right;\n",
       "    }\n",
       "</style>\n",
       "<table border=\"1\" class=\"dataframe\">\n",
       "  <thead>\n",
       "    <tr style=\"text-align: right;\">\n",
       "      <th>review_group</th>\n",
       "      <th>[0, 23)</th>\n",
       "      <th>[23, 889)</th>\n",
       "      <th>[26432+)</th>\n",
       "      <th>[889, 26432)</th>\n",
       "    </tr>\n",
       "    <tr>\n",
       "      <th>Installs</th>\n",
       "      <th></th>\n",
       "      <th></th>\n",
       "      <th></th>\n",
       "      <th></th>\n",
       "    </tr>\n",
       "  </thead>\n",
       "  <tbody>\n",
       "    <tr>\n",
       "      <th>0+</th>\n",
       "      <td>100.000</td>\n",
       "      <td>NaN</td>\n",
       "      <td>NaN</td>\n",
       "      <td>NaN</td>\n",
       "    </tr>\n",
       "    <tr>\n",
       "      <th>1+</th>\n",
       "      <td>100.000</td>\n",
       "      <td>NaN</td>\n",
       "      <td>NaN</td>\n",
       "      <td>NaN</td>\n",
       "    </tr>\n",
       "    <tr>\n",
       "      <th>1,000+</th>\n",
       "      <td>65.902</td>\n",
       "      <td>72.294</td>\n",
       "      <td>NaN</td>\n",
       "      <td>NaN</td>\n",
       "    </tr>\n",
       "    <tr>\n",
       "      <th>1,000,000+</th>\n",
       "      <td>NaN</td>\n",
       "      <td>57.143</td>\n",
       "      <td>86.667</td>\n",
       "      <td>65.675</td>\n",
       "    </tr>\n",
       "    <tr>\n",
       "      <th>1,000,000,000+</th>\n",
       "      <td>NaN</td>\n",
       "      <td>NaN</td>\n",
       "      <td>75.000</td>\n",
       "      <td>NaN</td>\n",
       "    </tr>\n",
       "    <tr>\n",
       "      <th>10+</th>\n",
       "      <td>96.203</td>\n",
       "      <td>NaN</td>\n",
       "      <td>NaN</td>\n",
       "      <td>NaN</td>\n",
       "    </tr>\n",
       "    <tr>\n",
       "      <th>10,000+</th>\n",
       "      <td>64.706</td>\n",
       "      <td>56.545</td>\n",
       "      <td>NaN</td>\n",
       "      <td>89.286</td>\n",
       "    </tr>\n",
       "    <tr>\n",
       "      <th>10,000,000+</th>\n",
       "      <td>NaN</td>\n",
       "      <td>0.000</td>\n",
       "      <td>86.898</td>\n",
       "      <td>28.571</td>\n",
       "    </tr>\n",
       "    <tr>\n",
       "      <th>100+</th>\n",
       "      <td>89.862</td>\n",
       "      <td>92.857</td>\n",
       "      <td>NaN</td>\n",
       "      <td>NaN</td>\n",
       "    </tr>\n",
       "    <tr>\n",
       "      <th>100,000+</th>\n",
       "      <td>100.000</td>\n",
       "      <td>50.510</td>\n",
       "      <td>100.000</td>\n",
       "      <td>70.044</td>\n",
       "    </tr>\n",
       "    <tr>\n",
       "      <th>100,000,000+</th>\n",
       "      <td>NaN</td>\n",
       "      <td>NaN</td>\n",
       "      <td>96.491</td>\n",
       "      <td>NaN</td>\n",
       "    </tr>\n",
       "    <tr>\n",
       "      <th>5+</th>\n",
       "      <td>97.619</td>\n",
       "      <td>NaN</td>\n",
       "      <td>NaN</td>\n",
       "      <td>NaN</td>\n",
       "    </tr>\n",
       "    <tr>\n",
       "      <th>5,000+</th>\n",
       "      <td>67.241</td>\n",
       "      <td>59.009</td>\n",
       "      <td>NaN</td>\n",
       "      <td>100.000</td>\n",
       "    </tr>\n",
       "    <tr>\n",
       "      <th>5,000,000+</th>\n",
       "      <td>NaN</td>\n",
       "      <td>NaN</td>\n",
       "      <td>79.167</td>\n",
       "      <td>47.727</td>\n",
       "    </tr>\n",
       "    <tr>\n",
       "      <th>50+</th>\n",
       "      <td>94.355</td>\n",
       "      <td>NaN</td>\n",
       "      <td>NaN</td>\n",
       "      <td>NaN</td>\n",
       "    </tr>\n",
       "    <tr>\n",
       "      <th>50,000+</th>\n",
       "      <td>100.000</td>\n",
       "      <td>52.239</td>\n",
       "      <td>NaN</td>\n",
       "      <td>89.362</td>\n",
       "    </tr>\n",
       "    <tr>\n",
       "      <th>50,000,000+</th>\n",
       "      <td>NaN</td>\n",
       "      <td>NaN</td>\n",
       "      <td>92.105</td>\n",
       "      <td>0.000</td>\n",
       "    </tr>\n",
       "    <tr>\n",
       "      <th>500+</th>\n",
       "      <td>79.762</td>\n",
       "      <td>95.455</td>\n",
       "      <td>NaN</td>\n",
       "      <td>NaN</td>\n",
       "    </tr>\n",
       "    <tr>\n",
       "      <th>500,000+</th>\n",
       "      <td>NaN</td>\n",
       "      <td>50.000</td>\n",
       "      <td>91.304</td>\n",
       "      <td>67.897</td>\n",
       "    </tr>\n",
       "    <tr>\n",
       "      <th>500,000,000+</th>\n",
       "      <td>NaN</td>\n",
       "      <td>NaN</td>\n",
       "      <td>100.000</td>\n",
       "      <td>NaN</td>\n",
       "    </tr>\n",
       "  </tbody>\n",
       "</table>\n",
       "</div>"
      ],
      "text/plain": [
       "review_group    [0, 23)  [23, 889)  [26432+)  [889, 26432)\n",
       "Installs                                                  \n",
       "0+              100.000        NaN       NaN           NaN\n",
       "1+              100.000        NaN       NaN           NaN\n",
       "1,000+           65.902     72.294       NaN           NaN\n",
       "1,000,000+          NaN     57.143    86.667        65.675\n",
       "1,000,000,000+      NaN        NaN    75.000           NaN\n",
       "10+              96.203        NaN       NaN           NaN\n",
       "10,000+          64.706     56.545       NaN        89.286\n",
       "10,000,000+         NaN      0.000    86.898        28.571\n",
       "100+             89.862     92.857       NaN           NaN\n",
       "100,000+        100.000     50.510   100.000        70.044\n",
       "100,000,000+        NaN        NaN    96.491           NaN\n",
       "5+               97.619        NaN       NaN           NaN\n",
       "5,000+           67.241     59.009       NaN       100.000\n",
       "5,000,000+          NaN        NaN    79.167        47.727\n",
       "50+              94.355        NaN       NaN           NaN\n",
       "50,000+         100.000     52.239       NaN        89.362\n",
       "50,000,000+         NaN        NaN    92.105         0.000\n",
       "500+             79.762     95.455       NaN           NaN\n",
       "500,000+            NaN     50.000    91.304        67.897\n",
       "500,000,000+        NaN        NaN   100.000           NaN"
      ]
     },
     "execution_count": 36,
     "metadata": {},
     "output_type": "execute_result"
    }
   ],
   "source": [
    "groupby_2_cols_against_target(df, \"Installs\", \"review_group\", \"Rating\")"
   ]
  },
  {
   "cell_type": "markdown",
   "metadata": {},
   "source": [
    "### Graph Outliers"
   ]
  },
  {
   "cell_type": "code",
   "execution_count": 37,
   "metadata": {},
   "outputs": [
    {
     "data": {
      "text/plain": [
       "<AxesSubplot:>"
      ]
     },
     "execution_count": 37,
     "metadata": {},
     "output_type": "execute_result"
    },
    {
     "data": {
      "image/png": "[encoded data removed]",
      "text/plain": [
       "<Figure size 432x288 with 1 Axes>"
      ]
     },
     "metadata": {
      "needs_background": "light"
     },
     "output_type": "display_data"
    }
   ],
   "source": [
    "df.plot.box()"
   ]
  },
  {
   "cell_type": "code",
   "execution_count": 38,
   "metadata": {},
   "outputs": [
    {
     "data": {
      "text/plain": [
       "<AxesSubplot:>"
      ]
     },
     "execution_count": 38,
     "metadata": {},
     "output_type": "execute_result"
    },
    {
     "data": {
      "image/png": "[encoded data removed]",
      "text/plain": [
       "<Figure size 432x288 with 1 Axes>"
      ]
     },
     "metadata": {
      "needs_background": "light"
     },
     "output_type": "display_data"
    }
   ],
   "source": [
    "df['Reviews'].hist(bins=30, range=(0, 1000))"
   ]
  },
  {
   "cell_type": "code",
   "execution_count": 39,
   "metadata": {},
   "outputs": [
    {
     "data": {
      "text/plain": [
       "<AxesSubplot:>"
      ]
     },
     "execution_count": 39,
     "metadata": {},
     "output_type": "execute_result"
    },
    {
     "data": {
      "image/png": "[encoded data removed]",
      "text/plain": [
       "<Figure size 432x288 with 1 Axes>"
      ]
     },
     "metadata": {
      "needs_background": "light"
     },
     "output_type": "display_data"
    }
   ],
   "source": [
    "df['Reviews'].plot.box()"
   ]
  },
  {
   "cell_type": "code",
   "execution_count": 40,
   "metadata": {},
   "outputs": [],
   "source": [
    "## to graph outliers\n",
    "\n",
    "def graph_outliers(column_names):\n",
    "    for column_name in column_names:\n",
    "        plt.figure(figsize=(3,6))\n",
    "        sns.boxplot(y=df[column_name])"
   ]
  },
  {
   "cell_type": "code",
   "execution_count": 41,
   "metadata": {},
   "outputs": [
    {
     "data": {
      "image/png": "[encoded data removed]",
      "text/plain": [
       "<Figure size 216x432 with 1 Axes>"
      ]
     },
     "metadata": {
      "needs_background": "light"
     },
     "output_type": "display_data"
    }
   ],
   "source": [
    "graph_outliers(['Reviews'])"
   ]
  },
  {
   "cell_type": "code",
   "execution_count": 42,
   "metadata": {},
   "outputs": [
    {
     "name": "stderr",
     "output_type": "stream",
     "text": [
      "C:\\Users\\porta\\AppData\\Local\\Packages\\PythonSoftwareFoundation.Python.3.9_qbz5n2kfra8p0\\LocalCache\\local-packages\\Python39\\site-packages\\pandas\\plotting\\_matplotlib\\tools.py:400: MatplotlibDeprecationWarning: \n",
      "The is_first_col function was deprecated in Matplotlib 3.4 and will be removed two minor releases later. Use ax.get_subplotspec().is_first_col() instead.\n",
      "  if ax.is_first_col():\n"
     ]
    },
    {
     "data": {
      "text/plain": [
       "array([[<AxesSubplot:title={'center':'Rating'}>,\n",
       "        <AxesSubplot:title={'center':'Reviews'}>]], dtype=object)"
      ]
     },
     "execution_count": 42,
     "metadata": {},
     "output_type": "execute_result"
    },
    {
     "data": {
      "image/png": "[encoded data removed]",
      "text/plain": [
       "<Figure size 864x864 with 2 Axes>"
      ]
     },
     "metadata": {
      "needs_background": "light"
     },
     "output_type": "display_data"
    }
   ],
   "source": [
    "## to plot hist to all dataframe\n",
    "df.hist(bins=30, figsize=(12,12), density=True)"
   ]
  },
  {
   "cell_type": "markdown",
   "metadata": {},
   "source": [
    "### Correlation matrix with price (target var)"
   ]
  },
  {
   "cell_type": "code",
   "execution_count": 43,
   "metadata": {},
   "outputs": [
    {
     "data": {
      "text/html": [
       "<div>\n",
       "<style scoped>\n",
       "    .dataframe tbody tr th:only-of-type {\n",
       "        vertical-align: middle;\n",
       "    }\n",
       "\n",
       "    .dataframe tbody tr th {\n",
       "        vertical-align: top;\n",
       "    }\n",
       "\n",
       "    .dataframe thead th {\n",
       "        text-align: right;\n",
       "    }\n",
       "</style>\n",
       "<table border=\"1\" class=\"dataframe\">\n",
       "  <thead>\n",
       "    <tr style=\"text-align: right;\">\n",
       "      <th></th>\n",
       "      <th>Rating</th>\n",
       "      <th>Reviews</th>\n",
       "    </tr>\n",
       "  </thead>\n",
       "  <tbody>\n",
       "    <tr>\n",
       "      <th>Rating</th>\n",
       "      <td>1.000</td>\n",
       "      <td>0.047</td>\n",
       "    </tr>\n",
       "    <tr>\n",
       "      <th>Reviews</th>\n",
       "      <td>0.047</td>\n",
       "      <td>1.000</td>\n",
       "    </tr>\n",
       "  </tbody>\n",
       "</table>\n",
       "</div>"
      ],
      "text/plain": [
       "         Rating  Reviews\n",
       "Rating    1.000    0.047\n",
       "Reviews   0.047    1.000"
      ]
     },
     "execution_count": 43,
     "metadata": {},
     "output_type": "execute_result"
    }
   ],
   "source": [
    "df.corr()"
   ]
  },
  {
   "cell_type": "code",
   "execution_count": 44,
   "metadata": {},
   "outputs": [
    {
     "data": {
      "text/html": [
       "<div>\n",
       "<style scoped>\n",
       "    .dataframe tbody tr th:only-of-type {\n",
       "        vertical-align: middle;\n",
       "    }\n",
       "\n",
       "    .dataframe tbody tr th {\n",
       "        vertical-align: top;\n",
       "    }\n",
       "\n",
       "    .dataframe thead th {\n",
       "        text-align: right;\n",
       "    }\n",
       "</style>\n",
       "<table border=\"1\" class=\"dataframe\">\n",
       "  <thead>\n",
       "    <tr style=\"text-align: right;\">\n",
       "      <th></th>\n",
       "      <th>Rating</th>\n",
       "      <th>Reviews</th>\n",
       "    </tr>\n",
       "  </thead>\n",
       "  <tbody>\n",
       "    <tr>\n",
       "      <th>Rating</th>\n",
       "      <td>1.000</td>\n",
       "      <td>0.047</td>\n",
       "    </tr>\n",
       "    <tr>\n",
       "      <th>Reviews</th>\n",
       "      <td>0.047</td>\n",
       "      <td>1.000</td>\n",
       "    </tr>\n",
       "  </tbody>\n",
       "</table>\n",
       "</div>"
      ],
      "text/plain": [
       "         Rating  Reviews\n",
       "Rating    1.000    0.047\n",
       "Reviews   0.047    1.000"
      ]
     },
     "execution_count": 44,
     "metadata": {},
     "output_type": "execute_result"
    },
    {
     "data": {
      "image/png": "[encoded data removed]",
      "text/plain": [
       "<Figure size 1080x576 with 2 Axes>"
      ]
     },
     "metadata": {
      "needs_background": "light"
     },
     "output_type": "display_data"
    }
   ],
   "source": [
    "## confusion matriz with seaborn\n",
    "corr = df.corr()\n",
    "plt.figure(figsize=(15,8))\n",
    "\n",
    "sns.heatmap(corr,\n",
    "            xticklabels=corr.columns.values,\n",
    "            yticklabels=corr.columns.values,annot=True)\n",
    "\n",
    "corr"
   ]
  },
  {
   "cell_type": "code",
   "execution_count": 45,
   "metadata": {},
   "outputs": [],
   "source": [
    "## categorical correlation\n",
    "\n",
    "cat_coor = df.apply(lambda x : pd.factorize(x)[0]).corr(method='pearson', min_periods=1)"
   ]
  },
  {
   "cell_type": "code",
   "execution_count": 46,
   "metadata": {},
   "outputs": [
    {
     "data": {
      "text/html": [
       "<div>\n",
       "<style scoped>\n",
       "    .dataframe tbody tr th:only-of-type {\n",
       "        vertical-align: middle;\n",
       "    }\n",
       "\n",
       "    .dataframe tbody tr th {\n",
       "        vertical-align: top;\n",
       "    }\n",
       "\n",
       "    .dataframe thead th {\n",
       "        text-align: right;\n",
       "    }\n",
       "</style>\n",
       "<table border=\"1\" class=\"dataframe\">\n",
       "  <thead>\n",
       "    <tr style=\"text-align: right;\">\n",
       "      <th></th>\n",
       "      <th>App</th>\n",
       "      <th>Category</th>\n",
       "      <th>Rating</th>\n",
       "      <th>Reviews</th>\n",
       "      <th>Size</th>\n",
       "      <th>Installs</th>\n",
       "      <th>Type</th>\n",
       "      <th>Price</th>\n",
       "      <th>Content Rating</th>\n",
       "      <th>Genres</th>\n",
       "      <th>Last Updated</th>\n",
       "      <th>Current Ver</th>\n",
       "      <th>Android Ver</th>\n",
       "      <th>review_group</th>\n",
       "    </tr>\n",
       "  </thead>\n",
       "  <tbody>\n",
       "    <tr>\n",
       "      <th>App</th>\n",
       "      <td>1.000</td>\n",
       "      <td>0.006</td>\n",
       "      <td>-0.003</td>\n",
       "      <td>0.519</td>\n",
       "      <td>0.055</td>\n",
       "      <td>0.009</td>\n",
       "      <td>0.004</td>\n",
       "      <td>0.046</td>\n",
       "      <td>-0.019</td>\n",
       "      <td>0.005</td>\n",
       "      <td>0.233</td>\n",
       "      <td>0.313</td>\n",
       "      <td>0.010</td>\n",
       "      <td>0.006</td>\n",
       "    </tr>\n",
       "    <tr>\n",
       "      <th>Category</th>\n",
       "      <td>0.006</td>\n",
       "      <td>1.000</td>\n",
       "      <td>-0.055</td>\n",
       "      <td>0.019</td>\n",
       "      <td>-0.013</td>\n",
       "      <td>0.005</td>\n",
       "      <td>-0.044</td>\n",
       "      <td>-0.022</td>\n",
       "      <td>0.069</td>\n",
       "      <td>0.555</td>\n",
       "      <td>-0.082</td>\n",
       "      <td>0.007</td>\n",
       "      <td>-0.016</td>\n",
       "      <td>-0.017</td>\n",
       "    </tr>\n",
       "    <tr>\n",
       "      <th>Rating</th>\n",
       "      <td>-0.003</td>\n",
       "      <td>-0.055</td>\n",
       "      <td>1.000</td>\n",
       "      <td>0.016</td>\n",
       "      <td>0.052</td>\n",
       "      <td>-0.084</td>\n",
       "      <td>-0.047</td>\n",
       "      <td>-0.030</td>\n",
       "      <td>0.003</td>\n",
       "      <td>-0.058</td>\n",
       "      <td>0.090</td>\n",
       "      <td>0.011</td>\n",
       "      <td>0.057</td>\n",
       "      <td>-0.009</td>\n",
       "    </tr>\n",
       "    <tr>\n",
       "      <th>Reviews</th>\n",
       "      <td>0.519</td>\n",
       "      <td>0.019</td>\n",
       "      <td>0.016</td>\n",
       "      <td>1.000</td>\n",
       "      <td>-0.051</td>\n",
       "      <td>-0.117</td>\n",
       "      <td>-0.085</td>\n",
       "      <td>-0.059</td>\n",
       "      <td>0.081</td>\n",
       "      <td>0.090</td>\n",
       "      <td>-0.019</td>\n",
       "      <td>0.330</td>\n",
       "      <td>-0.016</td>\n",
       "      <td>-0.459</td>\n",
       "    </tr>\n",
       "    <tr>\n",
       "      <th>Size</th>\n",
       "      <td>0.055</td>\n",
       "      <td>-0.013</td>\n",
       "      <td>0.052</td>\n",
       "      <td>-0.051</td>\n",
       "      <td>1.000</td>\n",
       "      <td>-0.002</td>\n",
       "      <td>0.056</td>\n",
       "      <td>0.036</td>\n",
       "      <td>-0.023</td>\n",
       "      <td>0.013</td>\n",
       "      <td>0.171</td>\n",
       "      <td>0.067</td>\n",
       "      <td>0.132</td>\n",
       "      <td>0.097</td>\n",
       "    </tr>\n",
       "    <tr>\n",
       "      <th>Installs</th>\n",
       "      <td>0.009</td>\n",
       "      <td>0.005</td>\n",
       "      <td>-0.084</td>\n",
       "      <td>-0.117</td>\n",
       "      <td>-0.002</td>\n",
       "      <td>1.000</td>\n",
       "      <td>0.030</td>\n",
       "      <td>0.032</td>\n",
       "      <td>-0.017</td>\n",
       "      <td>-0.022</td>\n",
       "      <td>0.000</td>\n",
       "      <td>-0.030</td>\n",
       "      <td>-0.004</td>\n",
       "      <td>0.283</td>\n",
       "    </tr>\n",
       "    <tr>\n",
       "      <th>Type</th>\n",
       "      <td>0.004</td>\n",
       "      <td>-0.044</td>\n",
       "      <td>-0.047</td>\n",
       "      <td>-0.085</td>\n",
       "      <td>0.056</td>\n",
       "      <td>0.030</td>\n",
       "      <td>1.000</td>\n",
       "      <td>0.636</td>\n",
       "      <td>-0.023</td>\n",
       "      <td>0.030</td>\n",
       "      <td>0.114</td>\n",
       "      <td>-0.032</td>\n",
       "      <td>0.053</td>\n",
       "      <td>0.111</td>\n",
       "    </tr>\n",
       "    <tr>\n",
       "      <th>Price</th>\n",
       "      <td>0.046</td>\n",
       "      <td>-0.022</td>\n",
       "      <td>-0.030</td>\n",
       "      <td>-0.059</td>\n",
       "      <td>0.036</td>\n",
       "      <td>0.032</td>\n",
       "      <td>0.636</td>\n",
       "      <td>1.000</td>\n",
       "      <td>-0.025</td>\n",
       "      <td>-0.014</td>\n",
       "      <td>0.114</td>\n",
       "      <td>-0.020</td>\n",
       "      <td>0.039</td>\n",
       "      <td>0.087</td>\n",
       "    </tr>\n",
       "    <tr>\n",
       "      <th>Content Rating</th>\n",
       "      <td>-0.019</td>\n",
       "      <td>0.069</td>\n",
       "      <td>0.003</td>\n",
       "      <td>0.081</td>\n",
       "      <td>-0.023</td>\n",
       "      <td>-0.017</td>\n",
       "      <td>-0.023</td>\n",
       "      <td>-0.025</td>\n",
       "      <td>1.000</td>\n",
       "      <td>0.054</td>\n",
       "      <td>-0.056</td>\n",
       "      <td>0.037</td>\n",
       "      <td>-0.027</td>\n",
       "      <td>-0.093</td>\n",
       "    </tr>\n",
       "    <tr>\n",
       "      <th>Genres</th>\n",
       "      <td>0.005</td>\n",
       "      <td>0.555</td>\n",
       "      <td>-0.058</td>\n",
       "      <td>0.090</td>\n",
       "      <td>0.013</td>\n",
       "      <td>-0.022</td>\n",
       "      <td>0.030</td>\n",
       "      <td>-0.014</td>\n",
       "      <td>0.054</td>\n",
       "      <td>1.000</td>\n",
       "      <td>-0.051</td>\n",
       "      <td>0.028</td>\n",
       "      <td>-0.025</td>\n",
       "      <td>-0.082</td>\n",
       "    </tr>\n",
       "    <tr>\n",
       "      <th>Last Updated</th>\n",
       "      <td>0.233</td>\n",
       "      <td>-0.082</td>\n",
       "      <td>0.090</td>\n",
       "      <td>-0.019</td>\n",
       "      <td>0.171</td>\n",
       "      <td>0.000</td>\n",
       "      <td>0.114</td>\n",
       "      <td>0.114</td>\n",
       "      <td>-0.056</td>\n",
       "      <td>-0.051</td>\n",
       "      <td>1.000</td>\n",
       "      <td>-0.069</td>\n",
       "      <td>0.110</td>\n",
       "      <td>0.161</td>\n",
       "    </tr>\n",
       "    <tr>\n",
       "      <th>Current Ver</th>\n",
       "      <td>0.313</td>\n",
       "      <td>0.007</td>\n",
       "      <td>0.011</td>\n",
       "      <td>0.330</td>\n",
       "      <td>0.067</td>\n",
       "      <td>-0.030</td>\n",
       "      <td>-0.032</td>\n",
       "      <td>-0.020</td>\n",
       "      <td>0.037</td>\n",
       "      <td>0.028</td>\n",
       "      <td>-0.069</td>\n",
       "      <td>1.000</td>\n",
       "      <td>0.066</td>\n",
       "      <td>-0.124</td>\n",
       "    </tr>\n",
       "    <tr>\n",
       "      <th>Android Ver</th>\n",
       "      <td>0.010</td>\n",
       "      <td>-0.016</td>\n",
       "      <td>0.057</td>\n",
       "      <td>-0.016</td>\n",
       "      <td>0.132</td>\n",
       "      <td>-0.004</td>\n",
       "      <td>0.053</td>\n",
       "      <td>0.039</td>\n",
       "      <td>-0.027</td>\n",
       "      <td>-0.025</td>\n",
       "      <td>0.110</td>\n",
       "      <td>0.066</td>\n",
       "      <td>1.000</td>\n",
       "      <td>0.038</td>\n",
       "    </tr>\n",
       "    <tr>\n",
       "      <th>review_group</th>\n",
       "      <td>0.006</td>\n",
       "      <td>-0.017</td>\n",
       "      <td>-0.009</td>\n",
       "      <td>-0.459</td>\n",
       "      <td>0.097</td>\n",
       "      <td>0.283</td>\n",
       "      <td>0.111</td>\n",
       "      <td>0.087</td>\n",
       "      <td>-0.093</td>\n",
       "      <td>-0.082</td>\n",
       "      <td>0.161</td>\n",
       "      <td>-0.124</td>\n",
       "      <td>0.038</td>\n",
       "      <td>1.000</td>\n",
       "    </tr>\n",
       "  </tbody>\n",
       "</table>\n",
       "</div>"
      ],
      "text/plain": [
       "                  App  Category  Rating  Reviews   Size  Installs   Type  \\\n",
       "App             1.000     0.006  -0.003    0.519  0.055     0.009  0.004   \n",
       "Category        0.006     1.000  -0.055    0.019 -0.013     0.005 -0.044   \n",
       "Rating         -0.003    -0.055   1.000    0.016  0.052    -0.084 -0.047   \n",
       "Reviews         0.519     0.019   0.016    1.000 -0.051    -0.117 -0.085   \n",
       "Size            0.055    -0.013   0.052   -0.051  1.000    -0.002  0.056   \n",
       "Installs        0.009     0.005  -0.084   -0.117 -0.002     1.000  0.030   \n",
       "Type            0.004    -0.044  -0.047   -0.085  0.056     0.030  1.000   \n",
       "Price           0.046    -0.022  -0.030   -0.059  0.036     0.032  0.636   \n",
       "Content Rating -0.019     0.069   0.003    0.081 -0.023    -0.017 -0.023   \n",
       "Genres          0.005     0.555  -0.058    0.090  0.013    -0.022  0.030   \n",
       "Last Updated    0.233    -0.082   0.090   -0.019  0.171     0.000  0.114   \n",
       "Current Ver     0.313     0.007   0.011    0.330  0.067    -0.030 -0.032   \n",
       "Android Ver     0.010    -0.016   0.057   -0.016  0.132    -0.004  0.053   \n",
       "review_group    0.006    -0.017  -0.009   -0.459  0.097     0.283  0.111   \n",
       "\n",
       "                Price  Content Rating  Genres  Last Updated  Current Ver  \\\n",
       "App             0.046          -0.019   0.005         0.233        0.313   \n",
       "Category       -0.022           0.069   0.555        -0.082        0.007   \n",
       "Rating         -0.030           0.003  -0.058         0.090        0.011   \n",
       "Reviews        -0.059           0.081   0.090        -0.019        0.330   \n",
       "Size            0.036          -0.023   0.013         0.171        0.067   \n",
       "Installs        0.032          -0.017  -0.022         0.000       -0.030   \n",
       "Type            0.636          -0.023   0.030         0.114       -0.032   \n",
       "Price           1.000          -0.025  -0.014         0.114       -0.020   \n",
       "Content Rating -0.025           1.000   0.054        -0.056        0.037   \n",
       "Genres         -0.014           0.054   1.000        -0.051        0.028   \n",
       "Last Updated    0.114          -0.056  -0.051         1.000       -0.069   \n",
       "Current Ver    -0.020           0.037   0.028        -0.069        1.000   \n",
       "Android Ver     0.039          -0.027  -0.025         0.110        0.066   \n",
       "review_group    0.087          -0.093  -0.082         0.161       -0.124   \n",
       "\n",
       "                Android Ver  review_group  \n",
       "App                   0.010         0.006  \n",
       "Category             -0.016        -0.017  \n",
       "Rating                0.057        -0.009  \n",
       "Reviews              -0.016        -0.459  \n",
       "Size                  0.132         0.097  \n",
       "Installs             -0.004         0.283  \n",
       "Type                  0.053         0.111  \n",
       "Price                 0.039         0.087  \n",
       "Content Rating       -0.027        -0.093  \n",
       "Genres               -0.025        -0.082  \n",
       "Last Updated          0.110         0.161  \n",
       "Current Ver           0.066        -0.124  \n",
       "Android Ver           1.000         0.038  \n",
       "review_group          0.038         1.000  "
      ]
     },
     "execution_count": 46,
     "metadata": {},
     "output_type": "execute_result"
    }
   ],
   "source": [
    "cat_coor"
   ]
  },
  {
   "cell_type": "code",
   "execution_count": 47,
   "metadata": {},
   "outputs": [
    {
     "data": {
      "text/html": [
       "<div>\n",
       "<style scoped>\n",
       "    .dataframe tbody tr th:only-of-type {\n",
       "        vertical-align: middle;\n",
       "    }\n",
       "\n",
       "    .dataframe tbody tr th {\n",
       "        vertical-align: top;\n",
       "    }\n",
       "\n",
       "    .dataframe thead th {\n",
       "        text-align: right;\n",
       "    }\n",
       "</style>\n",
       "<table border=\"1\" class=\"dataframe\">\n",
       "  <thead>\n",
       "    <tr style=\"text-align: right;\">\n",
       "      <th></th>\n",
       "      <th>App</th>\n",
       "      <th>Category</th>\n",
       "      <th>Rating</th>\n",
       "      <th>Reviews</th>\n",
       "      <th>Size</th>\n",
       "      <th>Installs</th>\n",
       "      <th>Type</th>\n",
       "      <th>Price</th>\n",
       "      <th>Content Rating</th>\n",
       "      <th>Genres</th>\n",
       "      <th>Last Updated</th>\n",
       "      <th>Current Ver</th>\n",
       "      <th>Android Ver</th>\n",
       "      <th>review_group</th>\n",
       "    </tr>\n",
       "  </thead>\n",
       "  <tbody>\n",
       "    <tr>\n",
       "      <th>App</th>\n",
       "      <td>1.000</td>\n",
       "      <td>-0.190</td>\n",
       "      <td>-0.118</td>\n",
       "      <td>0.725</td>\n",
       "      <td>-0.102</td>\n",
       "      <td>-0.206</td>\n",
       "      <td>-0.232</td>\n",
       "      <td>-0.172</td>\n",
       "      <td>-0.147</td>\n",
       "      <td>-0.161</td>\n",
       "      <td>0.180</td>\n",
       "      <td>0.500</td>\n",
       "      <td>-0.154</td>\n",
       "      <td>-0.310</td>\n",
       "    </tr>\n",
       "    <tr>\n",
       "      <th>Category</th>\n",
       "      <td>-0.190</td>\n",
       "      <td>1.000</td>\n",
       "      <td>-0.227</td>\n",
       "      <td>-0.009</td>\n",
       "      <td>-0.199</td>\n",
       "      <td>-0.108</td>\n",
       "      <td>-0.233</td>\n",
       "      <td>-0.232</td>\n",
       "      <td>0.077</td>\n",
       "      <td>0.825</td>\n",
       "      <td>-0.363</td>\n",
       "      <td>-0.100</td>\n",
       "      <td>-0.201</td>\n",
       "      <td>-0.175</td>\n",
       "    </tr>\n",
       "    <tr>\n",
       "      <th>Rating</th>\n",
       "      <td>-0.118</td>\n",
       "      <td>-0.227</td>\n",
       "      <td>1.000</td>\n",
       "      <td>-0.034</td>\n",
       "      <td>0.017</td>\n",
       "      <td>-0.249</td>\n",
       "      <td>-0.205</td>\n",
       "      <td>-0.186</td>\n",
       "      <td>-0.070</td>\n",
       "      <td>-0.235</td>\n",
       "      <td>0.078</td>\n",
       "      <td>-0.075</td>\n",
       "      <td>0.037</td>\n",
       "      <td>-0.087</td>\n",
       "    </tr>\n",
       "    <tr>\n",
       "      <th>Reviews</th>\n",
       "      <td>0.725</td>\n",
       "      <td>-0.009</td>\n",
       "      <td>-0.034</td>\n",
       "      <td>1.000</td>\n",
       "      <td>-0.215</td>\n",
       "      <td>-0.380</td>\n",
       "      <td>-0.322</td>\n",
       "      <td>-0.274</td>\n",
       "      <td>0.112</td>\n",
       "      <td>0.081</td>\n",
       "      <td>-0.168</td>\n",
       "      <td>0.589</td>\n",
       "      <td>-0.143</td>\n",
       "      <td>-0.792</td>\n",
       "    </tr>\n",
       "    <tr>\n",
       "      <th>Size</th>\n",
       "      <td>-0.102</td>\n",
       "      <td>-0.199</td>\n",
       "      <td>0.017</td>\n",
       "      <td>-0.215</td>\n",
       "      <td>1.000</td>\n",
       "      <td>-0.101</td>\n",
       "      <td>-0.030</td>\n",
       "      <td>-0.061</td>\n",
       "      <td>-0.196</td>\n",
       "      <td>-0.175</td>\n",
       "      <td>0.219</td>\n",
       "      <td>-0.064</td>\n",
       "      <td>0.155</td>\n",
       "      <td>0.128</td>\n",
       "    </tr>\n",
       "    <tr>\n",
       "      <th>Installs</th>\n",
       "      <td>-0.206</td>\n",
       "      <td>-0.108</td>\n",
       "      <td>-0.249</td>\n",
       "      <td>-0.380</td>\n",
       "      <td>-0.101</td>\n",
       "      <td>1.000</td>\n",
       "      <td>-0.012</td>\n",
       "      <td>-0.020</td>\n",
       "      <td>-0.148</td>\n",
       "      <td>-0.174</td>\n",
       "      <td>-0.081</td>\n",
       "      <td>-0.248</td>\n",
       "      <td>-0.113</td>\n",
       "      <td>0.481</td>\n",
       "    </tr>\n",
       "    <tr>\n",
       "      <th>Type</th>\n",
       "      <td>-0.232</td>\n",
       "      <td>-0.233</td>\n",
       "      <td>-0.205</td>\n",
       "      <td>-0.322</td>\n",
       "      <td>-0.030</td>\n",
       "      <td>-0.012</td>\n",
       "      <td>1.000</td>\n",
       "      <td>0.888</td>\n",
       "      <td>-0.199</td>\n",
       "      <td>-0.161</td>\n",
       "      <td>0.107</td>\n",
       "      <td>-0.285</td>\n",
       "      <td>-0.030</td>\n",
       "      <td>0.179</td>\n",
       "    </tr>\n",
       "    <tr>\n",
       "      <th>Price</th>\n",
       "      <td>-0.172</td>\n",
       "      <td>-0.232</td>\n",
       "      <td>-0.186</td>\n",
       "      <td>-0.274</td>\n",
       "      <td>-0.061</td>\n",
       "      <td>-0.020</td>\n",
       "      <td>0.888</td>\n",
       "      <td>1.000</td>\n",
       "      <td>-0.200</td>\n",
       "      <td>-0.201</td>\n",
       "      <td>0.108</td>\n",
       "      <td>-0.256</td>\n",
       "      <td>-0.051</td>\n",
       "      <td>0.144</td>\n",
       "    </tr>\n",
       "    <tr>\n",
       "      <th>Content Rating</th>\n",
       "      <td>-0.147</td>\n",
       "      <td>0.077</td>\n",
       "      <td>-0.070</td>\n",
       "      <td>0.112</td>\n",
       "      <td>-0.196</td>\n",
       "      <td>-0.148</td>\n",
       "      <td>-0.199</td>\n",
       "      <td>-0.200</td>\n",
       "      <td>1.000</td>\n",
       "      <td>0.058</td>\n",
       "      <td>-0.285</td>\n",
       "      <td>0.001</td>\n",
       "      <td>-0.180</td>\n",
       "      <td>-0.288</td>\n",
       "    </tr>\n",
       "    <tr>\n",
       "      <th>Genres</th>\n",
       "      <td>-0.161</td>\n",
       "      <td>0.825</td>\n",
       "      <td>-0.235</td>\n",
       "      <td>0.081</td>\n",
       "      <td>-0.175</td>\n",
       "      <td>-0.174</td>\n",
       "      <td>-0.161</td>\n",
       "      <td>-0.201</td>\n",
       "      <td>0.058</td>\n",
       "      <td>1.000</td>\n",
       "      <td>-0.336</td>\n",
       "      <td>-0.061</td>\n",
       "      <td>-0.218</td>\n",
       "      <td>-0.278</td>\n",
       "    </tr>\n",
       "    <tr>\n",
       "      <th>Last Updated</th>\n",
       "      <td>0.180</td>\n",
       "      <td>-0.363</td>\n",
       "      <td>0.078</td>\n",
       "      <td>-0.168</td>\n",
       "      <td>0.219</td>\n",
       "      <td>-0.081</td>\n",
       "      <td>0.107</td>\n",
       "      <td>0.108</td>\n",
       "      <td>-0.285</td>\n",
       "      <td>-0.336</td>\n",
       "      <td>1.000</td>\n",
       "      <td>-0.272</td>\n",
       "      <td>0.099</td>\n",
       "      <td>0.242</td>\n",
       "    </tr>\n",
       "    <tr>\n",
       "      <th>Current Ver</th>\n",
       "      <td>0.500</td>\n",
       "      <td>-0.100</td>\n",
       "      <td>-0.075</td>\n",
       "      <td>0.589</td>\n",
       "      <td>-0.064</td>\n",
       "      <td>-0.248</td>\n",
       "      <td>-0.285</td>\n",
       "      <td>-0.256</td>\n",
       "      <td>0.001</td>\n",
       "      <td>-0.061</td>\n",
       "      <td>-0.272</td>\n",
       "      <td>1.000</td>\n",
       "      <td>-0.037</td>\n",
       "      <td>-0.452</td>\n",
       "    </tr>\n",
       "    <tr>\n",
       "      <th>Android Ver</th>\n",
       "      <td>-0.154</td>\n",
       "      <td>-0.201</td>\n",
       "      <td>0.037</td>\n",
       "      <td>-0.143</td>\n",
       "      <td>0.155</td>\n",
       "      <td>-0.113</td>\n",
       "      <td>-0.030</td>\n",
       "      <td>-0.051</td>\n",
       "      <td>-0.180</td>\n",
       "      <td>-0.218</td>\n",
       "      <td>0.099</td>\n",
       "      <td>-0.037</td>\n",
       "      <td>1.000</td>\n",
       "      <td>0.016</td>\n",
       "    </tr>\n",
       "    <tr>\n",
       "      <th>review_group</th>\n",
       "      <td>-0.310</td>\n",
       "      <td>-0.175</td>\n",
       "      <td>-0.087</td>\n",
       "      <td>-0.792</td>\n",
       "      <td>0.128</td>\n",
       "      <td>0.481</td>\n",
       "      <td>0.179</td>\n",
       "      <td>0.144</td>\n",
       "      <td>-0.288</td>\n",
       "      <td>-0.278</td>\n",
       "      <td>0.242</td>\n",
       "      <td>-0.452</td>\n",
       "      <td>0.016</td>\n",
       "      <td>1.000</td>\n",
       "    </tr>\n",
       "  </tbody>\n",
       "</table>\n",
       "</div>"
      ],
      "text/plain": [
       "                  App  Category  Rating  Reviews   Size  Installs   Type  \\\n",
       "App             1.000    -0.190  -0.118    0.725 -0.102    -0.206 -0.232   \n",
       "Category       -0.190     1.000  -0.227   -0.009 -0.199    -0.108 -0.233   \n",
       "Rating         -0.118    -0.227   1.000   -0.034  0.017    -0.249 -0.205   \n",
       "Reviews         0.725    -0.009  -0.034    1.000 -0.215    -0.380 -0.322   \n",
       "Size           -0.102    -0.199   0.017   -0.215  1.000    -0.101 -0.030   \n",
       "Installs       -0.206    -0.108  -0.249   -0.380 -0.101     1.000 -0.012   \n",
       "Type           -0.232    -0.233  -0.205   -0.322 -0.030    -0.012  1.000   \n",
       "Price          -0.172    -0.232  -0.186   -0.274 -0.061    -0.020  0.888   \n",
       "Content Rating -0.147     0.077  -0.070    0.112 -0.196    -0.148 -0.199   \n",
       "Genres         -0.161     0.825  -0.235    0.081 -0.175    -0.174 -0.161   \n",
       "Last Updated    0.180    -0.363   0.078   -0.168  0.219    -0.081  0.107   \n",
       "Current Ver     0.500    -0.100  -0.075    0.589 -0.064    -0.248 -0.285   \n",
       "Android Ver    -0.154    -0.201   0.037   -0.143  0.155    -0.113 -0.030   \n",
       "review_group   -0.310    -0.175  -0.087   -0.792  0.128     0.481  0.179   \n",
       "\n",
       "                Price  Content Rating  Genres  Last Updated  Current Ver  \\\n",
       "App            -0.172          -0.147  -0.161         0.180        0.500   \n",
       "Category       -0.232           0.077   0.825        -0.363       -0.100   \n",
       "Rating         -0.186          -0.070  -0.235         0.078       -0.075   \n",
       "Reviews        -0.274           0.112   0.081        -0.168        0.589   \n",
       "Size           -0.061          -0.196  -0.175         0.219       -0.064   \n",
       "Installs       -0.020          -0.148  -0.174        -0.081       -0.248   \n",
       "Type            0.888          -0.199  -0.161         0.107       -0.285   \n",
       "Price           1.000          -0.200  -0.201         0.108       -0.256   \n",
       "Content Rating -0.200           1.000   0.058        -0.285        0.001   \n",
       "Genres         -0.201           0.058   1.000        -0.336       -0.061   \n",
       "Last Updated    0.108          -0.285  -0.336         1.000       -0.272   \n",
       "Current Ver    -0.256           0.001  -0.061        -0.272        1.000   \n",
       "Android Ver    -0.051          -0.180  -0.218         0.099       -0.037   \n",
       "review_group    0.144          -0.288  -0.278         0.242       -0.452   \n",
       "\n",
       "                Android Ver  review_group  \n",
       "App                  -0.154        -0.310  \n",
       "Category             -0.201        -0.175  \n",
       "Rating                0.037        -0.087  \n",
       "Reviews              -0.143        -0.792  \n",
       "Size                  0.155         0.128  \n",
       "Installs             -0.113         0.481  \n",
       "Type                 -0.030         0.179  \n",
       "Price                -0.051         0.144  \n",
       "Content Rating       -0.180        -0.288  \n",
       "Genres               -0.218        -0.278  \n",
       "Last Updated          0.099         0.242  \n",
       "Current Ver          -0.037        -0.452  \n",
       "Android Ver           1.000         0.016  \n",
       "review_group          0.016         1.000  "
      ]
     },
     "execution_count": 47,
     "metadata": {},
     "output_type": "execute_result"
    },
    {
     "data": {
      "image/png": "[encoded data removed]",
      "text/plain": [
       "<Figure size 1080x576 with 2 Axes>"
      ]
     },
     "metadata": {
      "needs_background": "light"
     },
     "output_type": "display_data"
    }
   ],
   "source": [
    "## confusion matriz with seaborn\n",
    "corr = cat_coor.corr()\n",
    "plt.figure(figsize=(15,8))\n",
    "\n",
    "sns.heatmap(corr,\n",
    "            xticklabels=corr.columns.values,\n",
    "            yticklabels=corr.columns.values,annot=True)\n",
    "\n",
    "corr"
   ]
  },
  {
   "cell_type": "markdown",
   "metadata": {},
   "source": [
    "### Plotting scatterplots with target"
   ]
  },
  {
   "cell_type": "code",
   "execution_count": 48,
   "metadata": {},
   "outputs": [],
   "source": [
    "def scatter_plot_target(column_names, target):\n",
    "    for column_name in column_names:\n",
    "        plt.scatter(df[column_name], df[target])\n",
    "        plt.show()"
   ]
  },
  {
   "cell_type": "code",
   "execution_count": 49,
   "metadata": {},
   "outputs": [
    {
     "data": {
      "image/png": "[encoded data removed]",
      "text/plain": [
       "<Figure size 432x288 with 1 Axes>"
      ]
     },
     "metadata": {
      "needs_background": "light"
     },
     "output_type": "display_data"
    }
   ],
   "source": [
    "scatter_plot_target(['Reviews'], 'Rating')"
   ]
  },
  {
   "cell_type": "markdown",
   "metadata": {},
   "source": [
    "## Export Dataset"
   ]
  },
  {
   "cell_type": "code",
   "execution_count": 50,
   "metadata": {},
   "outputs": [],
   "source": [
    "df.to_csv('datasets/TrainDataAnalysis.csv', index=False)"
   ]
  },
  {
   "cell_type": "code",
   "execution_count": null,
   "metadata": {},
   "outputs": [],
   "source": []
  }
 ],
 "metadata": {
  "kernelspec": {
   "display_name": "Python 3",
   "language": "python",
   "name": "python3"
  },
  "language_info": {
   "codemirror_mode": {
    "name": "ipython",
    "version": 3
   },
   "file_extension": ".py",
   "mimetype": "text/x-python",
   "name": "python",
   "nbconvert_exporter": "python",
   "pygments_lexer": "ipython3",
   "version": "3.9.7"
  }
 },
 "nbformat": 4,
 "nbformat_minor": 4
}
