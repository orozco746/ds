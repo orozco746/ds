{
 "cells": [
  {
   "cell_type": "code",
   "execution_count": 1,
   "id": "sitting-building",
   "metadata": {},
   "outputs": [],
   "source": [
    "from sklearn.neighbors import KNeighborsClassifier\n",
    "from sklearn.linear_model import LogisticRegression\n",
    "from sklearn.tree import DecisionTreeClassifier\n",
    "\n",
    "import numpy as np\n",
    "from matplotlib import pyplot as plt\n",
    "\n",
    "from sklearn.datasets import make_classification\n",
    "\n",
    "from sklearn.model_selection import cross_val_score, KFold\n",
    "\n",
    "from sklearn.ensemble import StackingClassifier"
   ]
  },
  {
   "cell_type": "code",
   "execution_count": 2,
   "id": "spanish-holocaust",
   "metadata": {},
   "outputs": [],
   "source": [
    "def get_datasets():\n",
    "    X, y = make_classification(n_samples= 1000, n_features= 20, n_informative= 15, n_redundant= 5, random_state = 1)\n",
    "    return X,y\n",
    "X,y = get_datasets()"
   ]
  },
  {
   "cell_type": "code",
   "execution_count": 3,
   "id": "filled-latin",
   "metadata": {},
   "outputs": [],
   "source": [
    "def get_models():\n",
    "    models = dict() #list() # append\n",
    "    models.update({'KNeighborsClassifier': KNeighborsClassifier()})\n",
    "    models.update({'LogisticRegression': LogisticRegression()})\n",
    "    models.update({'DecisionTreeClassifier': DecisionTreeClassifier()})\n",
    "    \n",
    "    return models\n",
    "models = get_models()"
   ]
  },
  {
   "cell_type": "code",
   "execution_count": 4,
   "id": "american-state",
   "metadata": {},
   "outputs": [],
   "source": [
    "def evaluate_model(model, X, y):\n",
    "    cv = KFold(n_splits= 10)\n",
    "    scores = cross_val_score(model, X, y, scoring='f1', cv=cv, n_jobs=-1)\n",
    "    return scores"
   ]
  },
  {
   "cell_type": "code",
   "execution_count": 5,
   "id": "stylish-howard",
   "metadata": {},
   "outputs": [
    {
     "name": "stdout",
     "output_type": "stream",
     "text": [
      "KNeighborsClassifier, 0.9247968571789311, 0.03602116142341796\n",
      "LogisticRegression, 0.8703054478134383, 0.021502428463896807\n",
      "DecisionTreeClassifier, 0.824456345099075, 0.027159089646442588\n"
     ]
    },
    {
     "data": {
      "image/png": "[encoded data removed]",
      "text/plain": [
       "<Figure size 432x288 with 1 Axes>"
      ]
     },
     "metadata": {
      "needs_background": "light"
     },
     "output_type": "display_data"
    }
   ],
   "source": [
    "results,names = [ ], [ ]\n",
    "for name, model in models.items():\n",
    "    scores = evaluate_model(model, X, y)\n",
    "    results.append(scores)\n",
    "    names.append(name)\n",
    "    print(f'{name}, {np.mean(scores)}, {np.std(scores)}')\n",
    "\n",
    "    \n",
    "plt.boxplot(results, labels = names, showmeans= True)\n",
    "plt.show()"
   ]
  },
  {
   "cell_type": "code",
   "execution_count": 6,
   "id": "minor-phoenix",
   "metadata": {},
   "outputs": [],
   "source": [
    "def get_stacking():\n",
    "    ## definir los modelos base\n",
    "    level0 = list()\n",
    "    level0.append(('knn', KNeighborsClassifier()))\n",
    "    level0.append(('lr', LogisticRegression()))\n",
    "    level0.append(('dt', DecisionTreeClassifier()))\n",
    "    \n",
    "    level1 = LogisticRegression()\n",
    "    \n",
    "    ## definir el stacking - ensemble \n",
    "    model = StackingClassifier(estimators= level0, final_estimator=level1, cv = 5)\n",
    "    return model"
   ]
  },
  {
   "cell_type": "code",
   "execution_count": 7,
   "id": "liquid-cancer",
   "metadata": {},
   "outputs": [],
   "source": [
    "def get_models():\n",
    "    models = dict() #list() # append\n",
    "    models.update({'KNeighborsClassifier': KNeighborsClassifier()})\n",
    "    models.update({'LogisticRegression': LogisticRegression()})\n",
    "    models.update({'DecisionTreeClassifier': DecisionTreeClassifier()})\n",
    "    models.update({'StackingClassifier': get_stacking()})\n",
    "    return models\n",
    "models = get_models()"
   ]
  },
  {
   "cell_type": "code",
   "execution_count": 8,
   "id": "civic-refrigerator",
   "metadata": {},
   "outputs": [
    {
     "name": "stdout",
     "output_type": "stream",
     "text": [
      "KNeighborsClassifier, 0.9247968571789311, 0.03602116142341796\n",
      "LogisticRegression, 0.8703054478134383, 0.021502428463896807\n",
      "DecisionTreeClassifier, 0.8398714774983912, 0.02591067547273263\n",
      "StackingClassifier, 0.9356303998271673, 0.02809150442940167\n"
     ]
    },
    {
     "data": {
      "image/png": "[encoded data removed]",
      "text/plain": [
       "<Figure size 432x288 with 1 Axes>"
      ]
     },
     "metadata": {
      "needs_background": "light"
     },
     "output_type": "display_data"
    }
   ],
   "source": [
    "results,names = [ ], [ ]\n",
    "for name, model in models.items():\n",
    "    scores = evaluate_model(model, X, y)\n",
    "    results.append(scores)\n",
    "    names.append(name)\n",
    "    print(f'{name}, {np.mean(scores)}, {np.std(scores)}')\n",
    "\n",
    "    \n",
    "plt.boxplot(results, labels = names, showmeans= True)\n",
    "plt.show()"
   ]
  },
  {
   "cell_type": "code",
   "execution_count": null,
   "id": "pacific-wireless",
   "metadata": {},
   "outputs": [],
   "source": []
  }
 ],
 "metadata": {
  "kernelspec": {
   "display_name": "Python 3",
   "language": "python",
   "name": "python3"
  },
  "language_info": {
   "codemirror_mode": {
    "name": "ipython",
    "version": 3
   },
   "file_extension": ".py",
   "mimetype": "text/x-python",
   "name": "python",
   "nbconvert_exporter": "python",
   "pygments_lexer": "ipython3",
   "version": "3.9.5"
  }
 },
 "nbformat": 4,
 "nbformat_minor": 5
}
