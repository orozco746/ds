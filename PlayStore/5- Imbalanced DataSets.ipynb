{
 "cells": [
  {
   "cell_type": "code",
   "execution_count": 1,
   "id": "positive-blade",
   "metadata": {},
   "outputs": [],
   "source": [
    "#!pip install imbalanced-learn==0.6.2"
   ]
  },
  {
   "cell_type": "code",
   "execution_count": 2,
   "id": "organized-comparative",
   "metadata": {},
   "outputs": [],
   "source": [
    "import pandas as pd\n",
    "from matplotlib import pyplot as plt\n",
    "import numpy as np\n",
    "from collections import Counter\n",
    "from imblearn.over_sampling import SMOTE"
   ]
  },
  {
   "cell_type": "code",
   "execution_count": 3,
   "id": "medieval-leader",
   "metadata": {},
   "outputs": [
    {
     "data": {
      "text/html": [
       "<div>\n",
       "<style scoped>\n",
       "    .dataframe tbody tr th:only-of-type {\n",
       "        vertical-align: middle;\n",
       "    }\n",
       "\n",
       "    .dataframe tbody tr th {\n",
       "        vertical-align: top;\n",
       "    }\n",
       "\n",
       "    .dataframe thead th {\n",
       "        text-align: right;\n",
       "    }\n",
       "</style>\n",
       "<table border=\"1\" class=\"dataframe\">\n",
       "  <thead>\n",
       "    <tr style=\"text-align: right;\">\n",
       "      <th></th>\n",
       "      <th>Rating</th>\n",
       "      <th>Reviews</th>\n",
       "      <th>Type</th>\n",
       "      <th>SizeNew</th>\n",
       "      <th>InstallsNew</th>\n",
       "      <th>PriceNew</th>\n",
       "      <th>LastUpdatedNewYear</th>\n",
       "      <th>LastUpdatedNewMonth</th>\n",
       "      <th>LastUpdatedNewDay</th>\n",
       "      <th>AndroidVerNew</th>\n",
       "      <th>...</th>\n",
       "      <th>Genres_Strategy;Education</th>\n",
       "      <th>Genres_Tools</th>\n",
       "      <th>Genres_Tools;Education</th>\n",
       "      <th>Genres_Travel &amp; Local</th>\n",
       "      <th>Genres_Travel &amp; Local;Action &amp; Adventure</th>\n",
       "      <th>Genres_Trivia</th>\n",
       "      <th>Genres_Video Players &amp; Editors</th>\n",
       "      <th>Genres_Video Players &amp; Editors;Music &amp; Video</th>\n",
       "      <th>Genres_Weather</th>\n",
       "      <th>Genres_Word</th>\n",
       "    </tr>\n",
       "  </thead>\n",
       "  <tbody>\n",
       "    <tr>\n",
       "      <th>0</th>\n",
       "      <td>1.0</td>\n",
       "      <td>149723</td>\n",
       "      <td>0</td>\n",
       "      <td>0.041000</td>\n",
       "      <td>10000000</td>\n",
       "      <td>0.0</td>\n",
       "      <td>2018</td>\n",
       "      <td>6</td>\n",
       "      <td>13</td>\n",
       "      <td>4.000000</td>\n",
       "      <td>...</td>\n",
       "      <td>0</td>\n",
       "      <td>0</td>\n",
       "      <td>0</td>\n",
       "      <td>1</td>\n",
       "      <td>0</td>\n",
       "      <td>0</td>\n",
       "      <td>0</td>\n",
       "      <td>0</td>\n",
       "      <td>0</td>\n",
       "      <td>0</td>\n",
       "    </tr>\n",
       "    <tr>\n",
       "      <th>1</th>\n",
       "      <td>0.0</td>\n",
       "      <td>853</td>\n",
       "      <td>0</td>\n",
       "      <td>0.340000</td>\n",
       "      <td>100000</td>\n",
       "      <td>0.0</td>\n",
       "      <td>2018</td>\n",
       "      <td>3</td>\n",
       "      <td>22</td>\n",
       "      <td>4.100000</td>\n",
       "      <td>...</td>\n",
       "      <td>0</td>\n",
       "      <td>0</td>\n",
       "      <td>0</td>\n",
       "      <td>0</td>\n",
       "      <td>0</td>\n",
       "      <td>0</td>\n",
       "      <td>0</td>\n",
       "      <td>0</td>\n",
       "      <td>0</td>\n",
       "      <td>0</td>\n",
       "    </tr>\n",
       "    <tr>\n",
       "      <th>2</th>\n",
       "      <td>1.0</td>\n",
       "      <td>61881</td>\n",
       "      <td>0</td>\n",
       "      <td>0.372354</td>\n",
       "      <td>5000000</td>\n",
       "      <td>0.0</td>\n",
       "      <td>2018</td>\n",
       "      <td>4</td>\n",
       "      <td>10</td>\n",
       "      <td>3.831783</td>\n",
       "      <td>...</td>\n",
       "      <td>0</td>\n",
       "      <td>0</td>\n",
       "      <td>0</td>\n",
       "      <td>0</td>\n",
       "      <td>0</td>\n",
       "      <td>0</td>\n",
       "      <td>0</td>\n",
       "      <td>0</td>\n",
       "      <td>0</td>\n",
       "      <td>0</td>\n",
       "    </tr>\n",
       "    <tr>\n",
       "      <th>3</th>\n",
       "      <td>0.0</td>\n",
       "      <td>21943</td>\n",
       "      <td>0</td>\n",
       "      <td>0.023000</td>\n",
       "      <td>5000000</td>\n",
       "      <td>0.0</td>\n",
       "      <td>2016</td>\n",
       "      <td>10</td>\n",
       "      <td>19</td>\n",
       "      <td>2.300000</td>\n",
       "      <td>...</td>\n",
       "      <td>0</td>\n",
       "      <td>1</td>\n",
       "      <td>0</td>\n",
       "      <td>0</td>\n",
       "      <td>0</td>\n",
       "      <td>0</td>\n",
       "      <td>0</td>\n",
       "      <td>0</td>\n",
       "      <td>0</td>\n",
       "      <td>0</td>\n",
       "    </tr>\n",
       "    <tr>\n",
       "      <th>4</th>\n",
       "      <td>1.0</td>\n",
       "      <td>6</td>\n",
       "      <td>0</td>\n",
       "      <td>0.092000</td>\n",
       "      <td>1000</td>\n",
       "      <td>0.0</td>\n",
       "      <td>2018</td>\n",
       "      <td>1</td>\n",
       "      <td>24</td>\n",
       "      <td>4.100000</td>\n",
       "      <td>...</td>\n",
       "      <td>0</td>\n",
       "      <td>0</td>\n",
       "      <td>0</td>\n",
       "      <td>0</td>\n",
       "      <td>0</td>\n",
       "      <td>0</td>\n",
       "      <td>0</td>\n",
       "      <td>0</td>\n",
       "      <td>0</td>\n",
       "      <td>0</td>\n",
       "    </tr>\n",
       "  </tbody>\n",
       "</table>\n",
       "<p>5 rows × 125 columns</p>\n",
       "</div>"
      ],
      "text/plain": [
       "   Rating  Reviews  Type   SizeNew  InstallsNew  PriceNew  LastUpdatedNewYear  \\\n",
       "0     1.0   149723     0  0.041000     10000000       0.0                2018   \n",
       "1     0.0      853     0  0.340000       100000       0.0                2018   \n",
       "2     1.0    61881     0  0.372354      5000000       0.0                2018   \n",
       "3     0.0    21943     0  0.023000      5000000       0.0                2016   \n",
       "4     1.0        6     0  0.092000         1000       0.0                2018   \n",
       "\n",
       "   LastUpdatedNewMonth  LastUpdatedNewDay  AndroidVerNew  ...  \\\n",
       "0                    6                 13       4.000000  ...   \n",
       "1                    3                 22       4.100000  ...   \n",
       "2                    4                 10       3.831783  ...   \n",
       "3                   10                 19       2.300000  ...   \n",
       "4                    1                 24       4.100000  ...   \n",
       "\n",
       "   Genres_Strategy;Education  Genres_Tools  Genres_Tools;Education  \\\n",
       "0                          0             0                       0   \n",
       "1                          0             0                       0   \n",
       "2                          0             0                       0   \n",
       "3                          0             1                       0   \n",
       "4                          0             0                       0   \n",
       "\n",
       "   Genres_Travel & Local  Genres_Travel & Local;Action & Adventure  \\\n",
       "0                      1                                         0   \n",
       "1                      0                                         0   \n",
       "2                      0                                         0   \n",
       "3                      0                                         0   \n",
       "4                      0                                         0   \n",
       "\n",
       "   Genres_Trivia  Genres_Video Players & Editors  \\\n",
       "0              0                               0   \n",
       "1              0                               0   \n",
       "2              0                               0   \n",
       "3              0                               0   \n",
       "4              0                               0   \n",
       "\n",
       "   Genres_Video Players & Editors;Music & Video  Genres_Weather  Genres_Word  \n",
       "0                                             0               0            0  \n",
       "1                                             0               0            0  \n",
       "2                                             0               0            0  \n",
       "3                                             0               0            0  \n",
       "4                                             0               0            0  \n",
       "\n",
       "[5 rows x 125 columns]"
      ]
     },
     "execution_count": 3,
     "metadata": {},
     "output_type": "execute_result"
    }
   ],
   "source": [
    "df = pd.read_csv('datasets/TrainEncoded.csv')\n",
    "df.head()"
   ]
  },
  {
   "cell_type": "code",
   "execution_count": 4,
   "id": "absent-train",
   "metadata": {},
   "outputs": [],
   "source": [
    "def value_counts_graphs(df, y, column_name):\n",
    "    abs_vals = y.value_counts()\n",
    "    label_freq = y.value_counts() / len(df)\n",
    "    plotting = label_freq.sort_values(ascending=False).plot.bar()\n",
    "    plt.title(column_name)\n",
    "    return abs_vals, label_freq, plotting"
   ]
  },
  {
   "cell_type": "code",
   "execution_count": 5,
   "id": "forbidden-singles",
   "metadata": {},
   "outputs": [
    {
     "data": {
      "text/plain": [
       "(1.0    4317\n",
       " 0.0    1471\n",
       " Name: Rating, dtype: int64,\n",
       " 1.0    0.745853\n",
       " 0.0    0.254147\n",
       " Name: Rating, dtype: float64,\n",
       " <AxesSubplot:title={'center':'Rating'}>)"
      ]
     },
     "execution_count": 5,
     "metadata": {},
     "output_type": "execute_result"
    },
    {
     "data": {
      "image/png": "[encoded data removed]",
      "text/plain": [
       "<Figure size 432x288 with 1 Axes>"
      ]
     },
     "metadata": {
      "needs_background": "light"
     },
     "output_type": "display_data"
    }
   ],
   "source": [
    "value_counts_graphs(df, df['Rating'], 'Rating')"
   ]
  },
  {
   "cell_type": "markdown",
   "id": "duplicate-approval",
   "metadata": {},
   "source": [
    "## SMOTE para imbalanceo"
   ]
  },
  {
   "cell_type": "code",
   "execution_count": 6,
   "id": "narrow-clearing",
   "metadata": {},
   "outputs": [
    {
     "data": {
      "text/plain": [
       "5788"
      ]
     },
     "execution_count": 6,
     "metadata": {},
     "output_type": "execute_result"
    }
   ],
   "source": [
    "X = df.drop('Rating', axis = 1)\n",
    "y = df [['Rating']]\n",
    "len(X)"
   ]
  },
  {
   "cell_type": "code",
   "execution_count": 7,
   "id": "exposed-decrease",
   "metadata": {},
   "outputs": [
    {
     "data": {
      "text/plain": [
       "5788"
      ]
     },
     "execution_count": 7,
     "metadata": {},
     "output_type": "execute_result"
    }
   ],
   "source": [
    "len(y)"
   ]
  },
  {
   "cell_type": "code",
   "execution_count": 8,
   "id": "intended-modem",
   "metadata": {},
   "outputs": [],
   "source": [
    "oversampling = SMOTE()\n",
    "X_oversample, y_oversample = oversampling.fit_resample(X,y)"
   ]
  },
  {
   "cell_type": "code",
   "execution_count": 9,
   "id": "danish-geography",
   "metadata": {},
   "outputs": [
    {
     "data": {
      "text/plain": [
       "8634"
      ]
     },
     "execution_count": 9,
     "metadata": {},
     "output_type": "execute_result"
    }
   ],
   "source": [
    "len(X_oversample)"
   ]
  },
  {
   "cell_type": "code",
   "execution_count": 10,
   "id": "micro-infrastructure",
   "metadata": {},
   "outputs": [
    {
     "data": {
      "text/html": [
       "<div>\n",
       "<style scoped>\n",
       "    .dataframe tbody tr th:only-of-type {\n",
       "        vertical-align: middle;\n",
       "    }\n",
       "\n",
       "    .dataframe tbody tr th {\n",
       "        vertical-align: top;\n",
       "    }\n",
       "\n",
       "    .dataframe thead th {\n",
       "        text-align: right;\n",
       "    }\n",
       "</style>\n",
       "<table border=\"1\" class=\"dataframe\">\n",
       "  <thead>\n",
       "    <tr style=\"text-align: right;\">\n",
       "      <th></th>\n",
       "      <th>Reviews</th>\n",
       "      <th>Type</th>\n",
       "      <th>SizeNew</th>\n",
       "      <th>InstallsNew</th>\n",
       "      <th>PriceNew</th>\n",
       "      <th>LastUpdatedNewYear</th>\n",
       "      <th>LastUpdatedNewMonth</th>\n",
       "      <th>LastUpdatedNewDay</th>\n",
       "      <th>AndroidVerNew</th>\n",
       "      <th>ReviewGroupNew</th>\n",
       "      <th>...</th>\n",
       "      <th>Genres_Strategy;Education</th>\n",
       "      <th>Genres_Tools</th>\n",
       "      <th>Genres_Tools;Education</th>\n",
       "      <th>Genres_Travel &amp; Local</th>\n",
       "      <th>Genres_Travel &amp; Local;Action &amp; Adventure</th>\n",
       "      <th>Genres_Trivia</th>\n",
       "      <th>Genres_Video Players &amp; Editors</th>\n",
       "      <th>Genres_Video Players &amp; Editors;Music &amp; Video</th>\n",
       "      <th>Genres_Weather</th>\n",
       "      <th>Genres_Word</th>\n",
       "    </tr>\n",
       "  </thead>\n",
       "  <tbody>\n",
       "    <tr>\n",
       "      <th>0</th>\n",
       "      <td>149723</td>\n",
       "      <td>0</td>\n",
       "      <td>0.041000</td>\n",
       "      <td>10000000</td>\n",
       "      <td>0.0</td>\n",
       "      <td>2018</td>\n",
       "      <td>6</td>\n",
       "      <td>13</td>\n",
       "      <td>4.000000</td>\n",
       "      <td>3</td>\n",
       "      <td>...</td>\n",
       "      <td>0</td>\n",
       "      <td>0</td>\n",
       "      <td>0</td>\n",
       "      <td>1</td>\n",
       "      <td>0</td>\n",
       "      <td>0</td>\n",
       "      <td>0</td>\n",
       "      <td>0</td>\n",
       "      <td>0</td>\n",
       "      <td>0</td>\n",
       "    </tr>\n",
       "    <tr>\n",
       "      <th>1</th>\n",
       "      <td>853</td>\n",
       "      <td>0</td>\n",
       "      <td>0.340000</td>\n",
       "      <td>100000</td>\n",
       "      <td>0.0</td>\n",
       "      <td>2018</td>\n",
       "      <td>3</td>\n",
       "      <td>22</td>\n",
       "      <td>4.100000</td>\n",
       "      <td>1</td>\n",
       "      <td>...</td>\n",
       "      <td>0</td>\n",
       "      <td>0</td>\n",
       "      <td>0</td>\n",
       "      <td>0</td>\n",
       "      <td>0</td>\n",
       "      <td>0</td>\n",
       "      <td>0</td>\n",
       "      <td>0</td>\n",
       "      <td>0</td>\n",
       "      <td>0</td>\n",
       "    </tr>\n",
       "    <tr>\n",
       "      <th>2</th>\n",
       "      <td>61881</td>\n",
       "      <td>0</td>\n",
       "      <td>0.372354</td>\n",
       "      <td>5000000</td>\n",
       "      <td>0.0</td>\n",
       "      <td>2018</td>\n",
       "      <td>4</td>\n",
       "      <td>10</td>\n",
       "      <td>3.831783</td>\n",
       "      <td>3</td>\n",
       "      <td>...</td>\n",
       "      <td>0</td>\n",
       "      <td>0</td>\n",
       "      <td>0</td>\n",
       "      <td>0</td>\n",
       "      <td>0</td>\n",
       "      <td>0</td>\n",
       "      <td>0</td>\n",
       "      <td>0</td>\n",
       "      <td>0</td>\n",
       "      <td>0</td>\n",
       "    </tr>\n",
       "    <tr>\n",
       "      <th>3</th>\n",
       "      <td>21943</td>\n",
       "      <td>0</td>\n",
       "      <td>0.023000</td>\n",
       "      <td>5000000</td>\n",
       "      <td>0.0</td>\n",
       "      <td>2016</td>\n",
       "      <td>10</td>\n",
       "      <td>19</td>\n",
       "      <td>2.300000</td>\n",
       "      <td>2</td>\n",
       "      <td>...</td>\n",
       "      <td>0</td>\n",
       "      <td>1</td>\n",
       "      <td>0</td>\n",
       "      <td>0</td>\n",
       "      <td>0</td>\n",
       "      <td>0</td>\n",
       "      <td>0</td>\n",
       "      <td>0</td>\n",
       "      <td>0</td>\n",
       "      <td>0</td>\n",
       "    </tr>\n",
       "    <tr>\n",
       "      <th>4</th>\n",
       "      <td>6</td>\n",
       "      <td>0</td>\n",
       "      <td>0.092000</td>\n",
       "      <td>1000</td>\n",
       "      <td>0.0</td>\n",
       "      <td>2018</td>\n",
       "      <td>1</td>\n",
       "      <td>24</td>\n",
       "      <td>4.100000</td>\n",
       "      <td>0</td>\n",
       "      <td>...</td>\n",
       "      <td>0</td>\n",
       "      <td>0</td>\n",
       "      <td>0</td>\n",
       "      <td>0</td>\n",
       "      <td>0</td>\n",
       "      <td>0</td>\n",
       "      <td>0</td>\n",
       "      <td>0</td>\n",
       "      <td>0</td>\n",
       "      <td>0</td>\n",
       "    </tr>\n",
       "  </tbody>\n",
       "</table>\n",
       "<p>5 rows × 124 columns</p>\n",
       "</div>"
      ],
      "text/plain": [
       "   Reviews  Type   SizeNew  InstallsNew  PriceNew  LastUpdatedNewYear  \\\n",
       "0   149723     0  0.041000     10000000       0.0                2018   \n",
       "1      853     0  0.340000       100000       0.0                2018   \n",
       "2    61881     0  0.372354      5000000       0.0                2018   \n",
       "3    21943     0  0.023000      5000000       0.0                2016   \n",
       "4        6     0  0.092000         1000       0.0                2018   \n",
       "\n",
       "   LastUpdatedNewMonth  LastUpdatedNewDay  AndroidVerNew  ReviewGroupNew  ...  \\\n",
       "0                    6                 13       4.000000               3  ...   \n",
       "1                    3                 22       4.100000               1  ...   \n",
       "2                    4                 10       3.831783               3  ...   \n",
       "3                   10                 19       2.300000               2  ...   \n",
       "4                    1                 24       4.100000               0  ...   \n",
       "\n",
       "   Genres_Strategy;Education  Genres_Tools  Genres_Tools;Education  \\\n",
       "0                          0             0                       0   \n",
       "1                          0             0                       0   \n",
       "2                          0             0                       0   \n",
       "3                          0             1                       0   \n",
       "4                          0             0                       0   \n",
       "\n",
       "   Genres_Travel & Local  Genres_Travel & Local;Action & Adventure  \\\n",
       "0                      1                                         0   \n",
       "1                      0                                         0   \n",
       "2                      0                                         0   \n",
       "3                      0                                         0   \n",
       "4                      0                                         0   \n",
       "\n",
       "   Genres_Trivia  Genres_Video Players & Editors  \\\n",
       "0              0                               0   \n",
       "1              0                               0   \n",
       "2              0                               0   \n",
       "3              0                               0   \n",
       "4              0                               0   \n",
       "\n",
       "   Genres_Video Players & Editors;Music & Video  Genres_Weather  Genres_Word  \n",
       "0                                             0               0            0  \n",
       "1                                             0               0            0  \n",
       "2                                             0               0            0  \n",
       "3                                             0               0            0  \n",
       "4                                             0               0            0  \n",
       "\n",
       "[5 rows x 124 columns]"
      ]
     },
     "execution_count": 10,
     "metadata": {},
     "output_type": "execute_result"
    }
   ],
   "source": [
    "X_oversample.head()"
   ]
  },
  {
   "cell_type": "code",
   "execution_count": 11,
   "id": "packed-peeing",
   "metadata": {},
   "outputs": [
    {
     "data": {
      "text/html": [
       "<div>\n",
       "<style scoped>\n",
       "    .dataframe tbody tr th:only-of-type {\n",
       "        vertical-align: middle;\n",
       "    }\n",
       "\n",
       "    .dataframe tbody tr th {\n",
       "        vertical-align: top;\n",
       "    }\n",
       "\n",
       "    .dataframe thead th {\n",
       "        text-align: right;\n",
       "    }\n",
       "</style>\n",
       "<table border=\"1\" class=\"dataframe\">\n",
       "  <thead>\n",
       "    <tr style=\"text-align: right;\">\n",
       "      <th></th>\n",
       "      <th>Rating</th>\n",
       "    </tr>\n",
       "  </thead>\n",
       "  <tbody>\n",
       "    <tr>\n",
       "      <th>0</th>\n",
       "      <td>1.0</td>\n",
       "    </tr>\n",
       "    <tr>\n",
       "      <th>1</th>\n",
       "      <td>0.0</td>\n",
       "    </tr>\n",
       "    <tr>\n",
       "      <th>2</th>\n",
       "      <td>1.0</td>\n",
       "    </tr>\n",
       "    <tr>\n",
       "      <th>3</th>\n",
       "      <td>0.0</td>\n",
       "    </tr>\n",
       "    <tr>\n",
       "      <th>4</th>\n",
       "      <td>1.0</td>\n",
       "    </tr>\n",
       "  </tbody>\n",
       "</table>\n",
       "</div>"
      ],
      "text/plain": [
       "   Rating\n",
       "0     1.0\n",
       "1     0.0\n",
       "2     1.0\n",
       "3     0.0\n",
       "4     1.0"
      ]
     },
     "execution_count": 11,
     "metadata": {},
     "output_type": "execute_result"
    }
   ],
   "source": [
    "y_oversample.head()"
   ]
  },
  {
   "cell_type": "code",
   "execution_count": 12,
   "id": "grave-milton",
   "metadata": {},
   "outputs": [
    {
     "data": {
      "text/plain": [
       "3494"
      ]
     },
     "execution_count": 12,
     "metadata": {},
     "output_type": "execute_result"
    }
   ],
   "source": [
    "df2 = pd.read_csv('datasets/TrainOutliersNormalization.csv')\n",
    "X2 = df2.drop('Rating', axis = 1)\n",
    "y2 = df2 [['Rating']]\n",
    "X2_oversample, y2_oversample = oversampling.fit_resample(X2,y2)\n",
    "y2_oversample.head()\n",
    "len(y2_oversample)"
   ]
  },
  {
   "cell_type": "code",
   "execution_count": 13,
   "id": "perceived-alfred",
   "metadata": {},
   "outputs": [],
   "source": [
    "X_oversample.to_csv('datasets/X_oversample.csv', index= False)\n",
    "y_oversample.to_csv('datasets/y_oversample.csv', index= False)"
   ]
  },
  {
   "cell_type": "code",
   "execution_count": 14,
   "id": "instrumental-principal",
   "metadata": {},
   "outputs": [],
   "source": [
    "from imblearn.over_sampling import SMOTE\n",
    "from imblearn.under_sampling import RandomUnderSampler\n",
    "from imblearn.pipeline import Pipeline"
   ]
  },
  {
   "cell_type": "code",
   "execution_count": 15,
   "id": "fallen-vault",
   "metadata": {},
   "outputs": [
    {
     "data": {
      "text/plain": [
       "Pipeline(steps=[('o', SMOTE(sampling_strategy=0.4)),\n",
       "                ('u', RandomUnderSampler(sampling_strategy=0.5))])"
      ]
     },
     "execution_count": 15,
     "metadata": {},
     "output_type": "execute_result"
    }
   ],
   "source": [
    "over = SMOTE(sampling_strategy=0.4)\n",
    "under = RandomUnderSampler(sampling_strategy=0.5)\n",
    "steps = [('o',over), ('u',under )]\n",
    "pipeline = Pipeline(steps = steps)\n",
    "pipeline"
   ]
  },
  {
   "cell_type": "code",
   "execution_count": 20,
   "id": "embedded-doubt",
   "metadata": {},
   "outputs": [],
   "source": [
    "X_over_under_sample, y_over_under_sample = pipeline.fit_resample(X,y\n",
    "                                                    )"
   ]
  },
  {
   "cell_type": "code",
   "execution_count": 22,
   "id": "regular-footwear",
   "metadata": {},
   "outputs": [
    {
     "data": {
      "text/plain": [
       "5178"
      ]
     },
     "execution_count": 22,
     "metadata": {},
     "output_type": "execute_result"
    }
   ],
   "source": [
    "len(X_over_under_sample)"
   ]
  },
  {
   "cell_type": "code",
   "execution_count": 23,
   "id": "elegant-loading",
   "metadata": {},
   "outputs": [
    {
     "data": {
      "text/plain": [
       "(1.0    3452\n",
       " 0.0    1726\n",
       " Name: Rating, dtype: int64,\n",
       " 1.0    0.666667\n",
       " 0.0    0.333333\n",
       " Name: Rating, dtype: float64,\n",
       " <AxesSubplot:title={'center':'Rating'}>)"
      ]
     },
     "execution_count": 23,
     "metadata": {},
     "output_type": "execute_result"
    },
    {
     "data": {
      "image/png": "[encoded data removed]",
      "text/plain": [
       "<Figure size 432x288 with 1 Axes>"
      ]
     },
     "metadata": {
      "needs_background": "light"
     },
     "output_type": "display_data"
    }
   ],
   "source": [
    "value_counts_graphs(X_over_under_sample,y_over_under_sample['Rating'],'Rating')"
   ]
  },
  {
   "cell_type": "code",
   "execution_count": 35,
   "id": "eight-paradise",
   "metadata": {},
   "outputs": [
    {
     "name": "stdout",
     "output_type": "stream",
     "text": [
      "Mean F1 score - Oversample: 0.785013112068306\n"
     ]
    },
    {
     "data": {
      "text/plain": [
       "array([0.80865604, 0.79146919, 0.79064327, 0.79058824, 0.79123414,\n",
       "       0.76760563, 0.78321678, 0.75321637, 0.78646441, 0.78703704])"
      ]
     },
     "execution_count": 35,
     "metadata": {},
     "output_type": "execute_result"
    }
   ],
   "source": [
    "from sklearn.model_selection import cross_val_score, RepeatedKFold, KFold\n",
    "from sklearn.tree import DecisionTreeClassifier\n",
    "import numpy as np\n",
    "model = DecisionTreeClassifier()\n",
    "cv = KFold(n_splits= 10)\n",
    "scores = cross_val_score(model, X, y, scoring='f1', cv = cv, n_jobs= -1)\n",
    "print(f'Mean F1 score - Oversample: {np.mean(scores)}')\n",
    "scores"
   ]
  },
  {
   "cell_type": "code",
   "execution_count": 31,
   "id": "colored-letters",
   "metadata": {},
   "outputs": [
    {
     "name": "stdout",
     "output_type": "stream",
     "text": [
      "Mean F1 score: 0.5350156880542468\n"
     ]
    },
    {
     "data": {
      "text/plain": [
       "array([0.78651685, 0.78304239, 0.76683087, 0.75980392, 0.75      ,\n",
       "       0.75827815, 0.7456847 , 0.        , 0.        , 0.        ])"
      ]
     },
     "execution_count": 31,
     "metadata": {},
     "output_type": "execute_result"
    }
   ],
   "source": [
    "cv = KFold(n_splits= 10)\n",
    "scores = cross_val_score(model, X_oversample, y_oversample, scoring='f1', cv = cv, n_jobs= -1)\n",
    "print(f'Mean F1 score: {np.mean(scores)}')\n",
    "scores"
   ]
  },
  {
   "cell_type": "code",
   "execution_count": 32,
   "id": "noted-blank",
   "metadata": {},
   "outputs": [
    {
     "name": "stdout",
     "output_type": "stream",
     "text": [
      "Mean F1 score: 0.5765561675572943\n"
     ]
    },
    {
     "data": {
      "text/plain": [
       "array([0.        , 0.        , 0.        , 0.7381317 , 0.82539683,\n",
       "       0.82937853, 0.85144124, 0.83069977, 0.83558559, 0.85492802])"
      ]
     },
     "execution_count": 32,
     "metadata": {},
     "output_type": "execute_result"
    }
   ],
   "source": [
    "cv = KFold(n_splits= 10)\n",
    "scores = cross_val_score(model, X_over_under_sample, y_over_under_sample, scoring='f1', cv = cv, n_jobs= -1)\n",
    "print(f'Mean F1 score: {np.mean(scores)}')\n",
    "scores"
   ]
  },
  {
   "cell_type": "code",
   "execution_count": 40,
   "id": "forty-chorus",
   "metadata": {},
   "outputs": [],
   "source": [
    "X_over_under_sample.to_csv('datasets/X_over_under_sample.csv', index=False)\n",
    "y_over_under_sample.to_csv('datasets/y_over_under_sample.csv', index=False)"
   ]
  },
  {
   "cell_type": "code",
   "execution_count": 37,
   "id": "after-deployment",
   "metadata": {},
   "outputs": [
    {
     "name": "stdout",
     "output_type": "stream",
     "text": [
      "Mean F1 score - Oversample: 0.8520100640338212\n"
     ]
    },
    {
     "data": {
      "text/plain": [
       "array([0.85981308, 0.84665227, 0.85259809, 0.86016949, 0.83837331,\n",
       "       0.84566596, 0.84388186, 0.86666667, 0.83491062, 0.87136929])"
      ]
     },
     "execution_count": 37,
     "metadata": {},
     "output_type": "execute_result"
    }
   ],
   "source": [
    "from lightgbm import LGBMClassifier\n",
    "from catboost import CatBoostClassifier\n",
    "from xgboost import XGBClassifier\n",
    "model = CatBoostClassifier()\n",
    "cv = KFold(n_splits= 10)\n",
    "scores = cross_val_score(model, X, y, scoring='f1', cv = cv, n_jobs= -1)\n",
    "print(f'Mean F1 score - Oversample: {np.mean(scores)}')\n",
    "scores"
   ]
  },
  {
   "cell_type": "code",
   "execution_count": 38,
   "id": "catholic-staff",
   "metadata": {},
   "outputs": [
    {
     "name": "stdout",
     "output_type": "stream",
     "text": [
      "Mean F1 score - Oversample: 0.585064882433741\n"
     ]
    },
    {
     "data": {
      "text/plain": [
       "array([0.84598047, 0.83307573, 0.83548143, 0.83696469, 0.81916538,\n",
       "       0.83866058, 0.84132055, 0.        , 0.        , 0.        ])"
      ]
     },
     "execution_count": 38,
     "metadata": {},
     "output_type": "execute_result"
    }
   ],
   "source": [
    "cv = KFold(n_splits= 10)\n",
    "scores = cross_val_score(model, X_oversample, y_oversample, scoring='f1', cv = cv, n_jobs= -1)\n",
    "print(f'Mean F1 score - Oversample: {np.mean(scores)}')\n",
    "scores"
   ]
  },
  {
   "cell_type": "code",
   "execution_count": 39,
   "id": "ahead-strategy",
   "metadata": {},
   "outputs": [
    {
     "name": "stdout",
     "output_type": "stream",
     "text": [
      "Mean F1 score - Oversample: 0.6297901740282146\n"
     ]
    },
    {
     "data": {
      "text/plain": [
       "array([0.        , 0.        , 0.        , 0.87847731, 0.9037037 ,\n",
       "       0.90832455, 0.90021231, 0.90137858, 0.90697674, 0.89882854])"
      ]
     },
     "execution_count": 39,
     "metadata": {},
     "output_type": "execute_result"
    }
   ],
   "source": [
    "cv = KFold(n_splits= 10)\n",
    "scores = cross_val_score(model, X_over_under_sample, y_over_under_sample, scoring='f1', cv = cv, n_jobs= -1)\n",
    "print(f'Mean F1 score - Oversample: {np.mean(scores)}')\n",
    "scores"
   ]
  },
  {
   "cell_type": "code",
   "execution_count": null,
   "id": "durable-universe",
   "metadata": {},
   "outputs": [],
   "source": []
  }
 ],
 "metadata": {
  "kernelspec": {
   "display_name": "Python 3",
   "language": "python",
   "name": "python3"
  },
  "language_info": {
   "codemirror_mode": {
    "name": "ipython",
    "version": 3
   },
   "file_extension": ".py",
   "mimetype": "text/x-python",
   "name": "python",
   "nbconvert_exporter": "python",
   "pygments_lexer": "ipython3",
   "version": "3.9.5"
  }
 },
 "nbformat": 4,
 "nbformat_minor": 5
}
